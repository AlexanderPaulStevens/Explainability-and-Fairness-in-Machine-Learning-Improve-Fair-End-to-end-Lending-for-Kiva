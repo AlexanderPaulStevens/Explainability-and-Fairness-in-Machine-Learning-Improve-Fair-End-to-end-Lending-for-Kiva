{
 "cells": [
  {
   "cell_type": "code",
   "execution_count": null,
   "metadata": {},
   "outputs": [],
   "source": []
  },
  {
   "cell_type": "code",
   "execution_count": 6,
   "metadata": {},
   "outputs": [],
   "source": [
    "#import packages and files"
   ]
  },
  {
   "cell_type": "code",
   "execution_count": 7,
   "metadata": {},
   "outputs": [],
   "source": [
    "import numpy as np\n",
    "import pandas as pd\n",
    "import seaborn as sns\n",
    "import matplotlib.pyplot as plt\n",
    "from scipy import stats"
   ]
  },
  {
   "cell_type": "code",
   "execution_count": 8,
   "metadata": {},
   "outputs": [],
   "source": [
    "merge1= pd.read_csv(r\"merge1_final_with_resampling.csv\")"
   ]
  },
  {
   "cell_type": "code",
   "execution_count": null,
   "metadata": {},
   "outputs": [],
   "source": []
  },
  {
   "cell_type": "markdown",
   "metadata": {
    "heading_collapsed": true
   },
   "source": [
    "# Percentage expired for countries with more than 5000 loans"
   ]
  },
  {
   "cell_type": "code",
   "execution_count": 9,
   "metadata": {
    "hidden": true
   },
   "outputs": [
    {
     "data": {
      "text/plain": [
       "Philippines     185497\n",
       "Kenya            73384\n",
       "El Salvador      43164\n",
       "Cambodia         40685\n",
       "Pakistan         31187\n",
       "Peru             24206\n",
       "Tajikistan       23003\n",
       "Uganda           22805\n",
       "Colombia         22614\n",
       "Ecuador          15835\n",
       "Nicaragua        13139\n",
       "Nigeria          11264\n",
       "Guatemala         8001\n",
       "Rwanda            7501\n",
       "Honduras          7086\n",
       "Togo              6930\n",
       "Mali              6883\n",
       "Indonesia         6584\n",
       "Sierra Leone      6080\n",
       "Ghana             5211\n",
       "Name: country_name, dtype: int64"
      ]
     },
     "execution_count": 9,
     "metadata": {},
     "output_type": "execute_result"
    }
   ],
   "source": [
    "merge1['country_name'].value_counts()[merge1['country_name'].value_counts()>5000]"
   ]
  },
  {
   "cell_type": "code",
   "execution_count": 10,
   "metadata": {
    "hidden": true
   },
   "outputs": [],
   "source": [
    "counts = merge1['country_name'].value_counts()\n",
    "sub_df = merge1[~merge1['country_name'].isin(counts[counts < 5000].index)].copy()"
   ]
  },
  {
   "cell_type": "code",
   "execution_count": 11,
   "metadata": {
    "hidden": true
   },
   "outputs": [
    {
     "data": {
      "text/plain": [
       "Philippines     185497\n",
       "Kenya            73384\n",
       "El Salvador      43164\n",
       "Cambodia         40685\n",
       "Pakistan         31187\n",
       "Peru             24206\n",
       "Tajikistan       23003\n",
       "Uganda           22805\n",
       "Colombia         22614\n",
       "Ecuador          15835\n",
       "Nicaragua        13139\n",
       "Nigeria          11264\n",
       "Guatemala         8001\n",
       "Rwanda            7501\n",
       "Honduras          7086\n",
       "Togo              6930\n",
       "Mali              6883\n",
       "Indonesia         6584\n",
       "Sierra Leone      6080\n",
       "Ghana             5211\n",
       "Name: country_name, dtype: int64"
      ]
     },
     "execution_count": 11,
     "metadata": {},
     "output_type": "execute_result"
    }
   ],
   "source": [
    "sub_df['country_name'].value_counts()"
   ]
  },
  {
   "cell_type": "code",
   "execution_count": 12,
   "metadata": {
    "hidden": true
   },
   "outputs": [
    {
     "data": {
      "text/plain": [
       "country_name  status \n",
       "Afghanistan   funded        2\n",
       "Belize        funded       99\n",
       "Benin         expired       5\n",
       "              funded       95\n",
       "Bhutan        funded        1\n",
       "                         ... \n",
       "Yemen         funded     1473\n",
       "Zambia        expired      43\n",
       "              funded      920\n",
       "Zimbabwe      expired      14\n",
       "              funded     4450\n",
       "Length: 91, dtype: int64"
      ]
     },
     "execution_count": 12,
     "metadata": {},
     "output_type": "execute_result"
    }
   ],
   "source": [
    "merge1.groupby(['country_name', 'status']).size()"
   ]
  },
  {
   "cell_type": "code",
   "execution_count": 13,
   "metadata": {
    "hidden": true
   },
   "outputs": [],
   "source": [
    "df = sub_df.groupby(['country_name', 'status']).size()/merge1.groupby('country_name').size()"
   ]
  },
  {
   "cell_type": "code",
   "execution_count": 14,
   "metadata": {
    "hidden": true
   },
   "outputs": [
    {
     "data": {
      "text/plain": [
       "40"
      ]
     },
     "execution_count": 14,
     "metadata": {},
     "output_type": "execute_result"
    }
   ],
   "source": [
    "len(df)"
   ]
  },
  {
   "cell_type": "code",
   "execution_count": 15,
   "metadata": {
    "hidden": true
   },
   "outputs": [],
   "source": [
    "df = df.to_frame()\n",
    "df = df.rename(columns={0: 'percentage'})\n",
    "df.reset_index(level=1, inplace=True)\n",
    "df.reset_index(level=0, inplace=True)"
   ]
  },
  {
   "cell_type": "code",
   "execution_count": 16,
   "metadata": {
    "hidden": true
   },
   "outputs": [
    {
     "data": {
      "text/plain": [
       "array(['country_name', 'status', 'percentage'], dtype=object)"
      ]
     },
     "execution_count": 16,
     "metadata": {},
     "output_type": "execute_result"
    }
   ],
   "source": [
    "df.columns.values"
   ]
  },
  {
   "cell_type": "code",
   "execution_count": 17,
   "metadata": {
    "hidden": true
   },
   "outputs": [
    {
     "data": {
      "text/plain": [
       "40"
      ]
     },
     "execution_count": 17,
     "metadata": {},
     "output_type": "execute_result"
    }
   ],
   "source": [
    "len(df)"
   ]
  },
  {
   "cell_type": "code",
   "execution_count": 18,
   "metadata": {
    "hidden": true
   },
   "outputs": [
    {
     "data": {
      "text/html": [
       "<div>\n",
       "<style scoped>\n",
       "    .dataframe tbody tr th:only-of-type {\n",
       "        vertical-align: middle;\n",
       "    }\n",
       "\n",
       "    .dataframe tbody tr th {\n",
       "        vertical-align: top;\n",
       "    }\n",
       "\n",
       "    .dataframe thead th {\n",
       "        text-align: right;\n",
       "    }\n",
       "</style>\n",
       "<table border=\"1\" class=\"dataframe\">\n",
       "  <thead>\n",
       "    <tr style=\"text-align: right;\">\n",
       "      <th></th>\n",
       "      <th>country_name</th>\n",
       "      <th>status</th>\n",
       "      <th>percentage</th>\n",
       "    </tr>\n",
       "  </thead>\n",
       "  <tbody>\n",
       "    <tr>\n",
       "      <td>0</td>\n",
       "      <td>Cambodia</td>\n",
       "      <td>expired</td>\n",
       "      <td>0.024997</td>\n",
       "    </tr>\n",
       "    <tr>\n",
       "      <td>1</td>\n",
       "      <td>Cambodia</td>\n",
       "      <td>funded</td>\n",
       "      <td>0.975003</td>\n",
       "    </tr>\n",
       "    <tr>\n",
       "      <td>2</td>\n",
       "      <td>Colombia</td>\n",
       "      <td>expired</td>\n",
       "      <td>0.179844</td>\n",
       "    </tr>\n",
       "    <tr>\n",
       "      <td>3</td>\n",
       "      <td>Colombia</td>\n",
       "      <td>funded</td>\n",
       "      <td>0.820156</td>\n",
       "    </tr>\n",
       "    <tr>\n",
       "      <td>4</td>\n",
       "      <td>Ecuador</td>\n",
       "      <td>expired</td>\n",
       "      <td>0.036754</td>\n",
       "    </tr>\n",
       "    <tr>\n",
       "      <td>5</td>\n",
       "      <td>Ecuador</td>\n",
       "      <td>funded</td>\n",
       "      <td>0.963246</td>\n",
       "    </tr>\n",
       "    <tr>\n",
       "      <td>6</td>\n",
       "      <td>El Salvador</td>\n",
       "      <td>expired</td>\n",
       "      <td>0.166574</td>\n",
       "    </tr>\n",
       "    <tr>\n",
       "      <td>7</td>\n",
       "      <td>El Salvador</td>\n",
       "      <td>funded</td>\n",
       "      <td>0.833426</td>\n",
       "    </tr>\n",
       "    <tr>\n",
       "      <td>8</td>\n",
       "      <td>Ghana</td>\n",
       "      <td>expired</td>\n",
       "      <td>0.023028</td>\n",
       "    </tr>\n",
       "    <tr>\n",
       "      <td>9</td>\n",
       "      <td>Ghana</td>\n",
       "      <td>funded</td>\n",
       "      <td>0.976972</td>\n",
       "    </tr>\n",
       "  </tbody>\n",
       "</table>\n",
       "</div>"
      ],
      "text/plain": [
       "  country_name   status  percentage\n",
       "0     Cambodia  expired    0.024997\n",
       "1     Cambodia   funded    0.975003\n",
       "2     Colombia  expired    0.179844\n",
       "3     Colombia   funded    0.820156\n",
       "4      Ecuador  expired    0.036754\n",
       "5      Ecuador   funded    0.963246\n",
       "6  El Salvador  expired    0.166574\n",
       "7  El Salvador   funded    0.833426\n",
       "8        Ghana  expired    0.023028\n",
       "9        Ghana   funded    0.976972"
      ]
     },
     "execution_count": 18,
     "metadata": {},
     "output_type": "execute_result"
    }
   ],
   "source": [
    "df.head(10)"
   ]
  },
  {
   "cell_type": "code",
   "execution_count": 19,
   "metadata": {
    "hidden": true
   },
   "outputs": [
    {
     "data": {
      "text/html": [
       "<div>\n",
       "<style scoped>\n",
       "    .dataframe tbody tr th:only-of-type {\n",
       "        vertical-align: middle;\n",
       "    }\n",
       "\n",
       "    .dataframe tbody tr th {\n",
       "        vertical-align: top;\n",
       "    }\n",
       "\n",
       "    .dataframe thead th {\n",
       "        text-align: right;\n",
       "    }\n",
       "</style>\n",
       "<table border=\"1\" class=\"dataframe\">\n",
       "  <thead>\n",
       "    <tr style=\"text-align: right;\">\n",
       "      <th>status</th>\n",
       "      <th>expired</th>\n",
       "      <th>funded</th>\n",
       "    </tr>\n",
       "    <tr>\n",
       "      <th>country_name</th>\n",
       "      <th></th>\n",
       "      <th></th>\n",
       "    </tr>\n",
       "  </thead>\n",
       "  <tbody>\n",
       "    <tr>\n",
       "      <td>Cambodia</td>\n",
       "      <td>0.024997</td>\n",
       "      <td>0.975003</td>\n",
       "    </tr>\n",
       "    <tr>\n",
       "      <td>Colombia</td>\n",
       "      <td>0.179844</td>\n",
       "      <td>0.820156</td>\n",
       "    </tr>\n",
       "    <tr>\n",
       "      <td>Ecuador</td>\n",
       "      <td>0.036754</td>\n",
       "      <td>0.963246</td>\n",
       "    </tr>\n",
       "    <tr>\n",
       "      <td>El Salvador</td>\n",
       "      <td>0.166574</td>\n",
       "      <td>0.833426</td>\n",
       "    </tr>\n",
       "    <tr>\n",
       "      <td>Ghana</td>\n",
       "      <td>0.023028</td>\n",
       "      <td>0.976972</td>\n",
       "    </tr>\n",
       "    <tr>\n",
       "      <td>Guatemala</td>\n",
       "      <td>0.052868</td>\n",
       "      <td>0.947132</td>\n",
       "    </tr>\n",
       "    <tr>\n",
       "      <td>Honduras</td>\n",
       "      <td>0.063506</td>\n",
       "      <td>0.936494</td>\n",
       "    </tr>\n",
       "    <tr>\n",
       "      <td>Indonesia</td>\n",
       "      <td>0.096750</td>\n",
       "      <td>0.903250</td>\n",
       "    </tr>\n",
       "    <tr>\n",
       "      <td>Kenya</td>\n",
       "      <td>0.076529</td>\n",
       "      <td>0.923471</td>\n",
       "    </tr>\n",
       "    <tr>\n",
       "      <td>Mali</td>\n",
       "      <td>0.070318</td>\n",
       "      <td>0.929682</td>\n",
       "    </tr>\n",
       "    <tr>\n",
       "      <td>Nicaragua</td>\n",
       "      <td>0.094223</td>\n",
       "      <td>0.905777</td>\n",
       "    </tr>\n",
       "    <tr>\n",
       "      <td>Nigeria</td>\n",
       "      <td>0.073952</td>\n",
       "      <td>0.926048</td>\n",
       "    </tr>\n",
       "    <tr>\n",
       "      <td>Pakistan</td>\n",
       "      <td>0.056306</td>\n",
       "      <td>0.943694</td>\n",
       "    </tr>\n",
       "    <tr>\n",
       "      <td>Peru</td>\n",
       "      <td>0.023589</td>\n",
       "      <td>0.976411</td>\n",
       "    </tr>\n",
       "    <tr>\n",
       "      <td>Philippines</td>\n",
       "      <td>0.013310</td>\n",
       "      <td>0.986690</td>\n",
       "    </tr>\n",
       "    <tr>\n",
       "      <td>Rwanda</td>\n",
       "      <td>0.093454</td>\n",
       "      <td>0.906546</td>\n",
       "    </tr>\n",
       "    <tr>\n",
       "      <td>Sierra Leone</td>\n",
       "      <td>0.061513</td>\n",
       "      <td>0.938487</td>\n",
       "    </tr>\n",
       "    <tr>\n",
       "      <td>Tajikistan</td>\n",
       "      <td>0.094857</td>\n",
       "      <td>0.905143</td>\n",
       "    </tr>\n",
       "    <tr>\n",
       "      <td>Togo</td>\n",
       "      <td>0.005339</td>\n",
       "      <td>0.994661</td>\n",
       "    </tr>\n",
       "    <tr>\n",
       "      <td>Uganda</td>\n",
       "      <td>0.102784</td>\n",
       "      <td>0.897216</td>\n",
       "    </tr>\n",
       "  </tbody>\n",
       "</table>\n",
       "</div>"
      ],
      "text/plain": [
       "status         expired    funded\n",
       "country_name                    \n",
       "Cambodia      0.024997  0.975003\n",
       "Colombia      0.179844  0.820156\n",
       "Ecuador       0.036754  0.963246\n",
       "El Salvador   0.166574  0.833426\n",
       "Ghana         0.023028  0.976972\n",
       "Guatemala     0.052868  0.947132\n",
       "Honduras      0.063506  0.936494\n",
       "Indonesia     0.096750  0.903250\n",
       "Kenya         0.076529  0.923471\n",
       "Mali          0.070318  0.929682\n",
       "Nicaragua     0.094223  0.905777\n",
       "Nigeria       0.073952  0.926048\n",
       "Pakistan      0.056306  0.943694\n",
       "Peru          0.023589  0.976411\n",
       "Philippines   0.013310  0.986690\n",
       "Rwanda        0.093454  0.906546\n",
       "Sierra Leone  0.061513  0.938487\n",
       "Tajikistan    0.094857  0.905143\n",
       "Togo          0.005339  0.994661\n",
       "Uganda        0.102784  0.897216"
      ]
     },
     "execution_count": 19,
     "metadata": {},
     "output_type": "execute_result"
    }
   ],
   "source": [
    "df = df.pivot(index='country_name', columns='status', values='percentage')\n",
    "df"
   ]
  },
  {
   "cell_type": "code",
   "execution_count": 20,
   "metadata": {
    "hidden": true
   },
   "outputs": [],
   "source": [
    "df['expired'] = df['expired'].fillna(0)\n",
    "df['funded'] = df['funded'].fillna(0)\n",
    "\n",
    "df['total'] = df['expired'].fillna(0) + df['funded'].fillna(0)\n",
    "df = df.sort_values(by='funded', ascending=False).head(60)\n",
    "df.reset_index(level=0, inplace=True)"
   ]
  },
  {
   "cell_type": "code",
   "execution_count": 21,
   "metadata": {
    "hidden": true
   },
   "outputs": [],
   "source": [
    "df.iloc[:,1:] = df.iloc[:,1:].mul(100)"
   ]
  },
  {
   "cell_type": "code",
   "execution_count": 22,
   "metadata": {
    "hidden": true
   },
   "outputs": [
    {
     "data": {
      "text/html": [
       "<div>\n",
       "<style scoped>\n",
       "    .dataframe tbody tr th:only-of-type {\n",
       "        vertical-align: middle;\n",
       "    }\n",
       "\n",
       "    .dataframe tbody tr th {\n",
       "        vertical-align: top;\n",
       "    }\n",
       "\n",
       "    .dataframe thead th {\n",
       "        text-align: right;\n",
       "    }\n",
       "</style>\n",
       "<table border=\"1\" class=\"dataframe\">\n",
       "  <thead>\n",
       "    <tr style=\"text-align: right;\">\n",
       "      <th>status</th>\n",
       "      <th>country_name</th>\n",
       "      <th>expired</th>\n",
       "      <th>funded</th>\n",
       "      <th>total</th>\n",
       "    </tr>\n",
       "  </thead>\n",
       "  <tbody>\n",
       "    <tr>\n",
       "      <td>0</td>\n",
       "      <td>Togo</td>\n",
       "      <td>0.533911</td>\n",
       "      <td>99.466089</td>\n",
       "      <td>100.0</td>\n",
       "    </tr>\n",
       "    <tr>\n",
       "      <td>1</td>\n",
       "      <td>Philippines</td>\n",
       "      <td>1.331019</td>\n",
       "      <td>98.668981</td>\n",
       "      <td>100.0</td>\n",
       "    </tr>\n",
       "    <tr>\n",
       "      <td>2</td>\n",
       "      <td>Ghana</td>\n",
       "      <td>2.302821</td>\n",
       "      <td>97.697179</td>\n",
       "      <td>100.0</td>\n",
       "    </tr>\n",
       "    <tr>\n",
       "      <td>3</td>\n",
       "      <td>Peru</td>\n",
       "      <td>2.358919</td>\n",
       "      <td>97.641081</td>\n",
       "      <td>100.0</td>\n",
       "    </tr>\n",
       "    <tr>\n",
       "      <td>4</td>\n",
       "      <td>Cambodia</td>\n",
       "      <td>2.499693</td>\n",
       "      <td>97.500307</td>\n",
       "      <td>100.0</td>\n",
       "    </tr>\n",
       "    <tr>\n",
       "      <td>5</td>\n",
       "      <td>Ecuador</td>\n",
       "      <td>3.675403</td>\n",
       "      <td>96.324597</td>\n",
       "      <td>100.0</td>\n",
       "    </tr>\n",
       "    <tr>\n",
       "      <td>6</td>\n",
       "      <td>Guatemala</td>\n",
       "      <td>5.286839</td>\n",
       "      <td>94.713161</td>\n",
       "      <td>100.0</td>\n",
       "    </tr>\n",
       "    <tr>\n",
       "      <td>7</td>\n",
       "      <td>Pakistan</td>\n",
       "      <td>5.630551</td>\n",
       "      <td>94.369449</td>\n",
       "      <td>100.0</td>\n",
       "    </tr>\n",
       "    <tr>\n",
       "      <td>8</td>\n",
       "      <td>Sierra Leone</td>\n",
       "      <td>6.151316</td>\n",
       "      <td>93.848684</td>\n",
       "      <td>100.0</td>\n",
       "    </tr>\n",
       "    <tr>\n",
       "      <td>9</td>\n",
       "      <td>Honduras</td>\n",
       "      <td>6.350550</td>\n",
       "      <td>93.649450</td>\n",
       "      <td>100.0</td>\n",
       "    </tr>\n",
       "    <tr>\n",
       "      <td>10</td>\n",
       "      <td>Mali</td>\n",
       "      <td>7.031818</td>\n",
       "      <td>92.968182</td>\n",
       "      <td>100.0</td>\n",
       "    </tr>\n",
       "    <tr>\n",
       "      <td>11</td>\n",
       "      <td>Nigeria</td>\n",
       "      <td>7.395241</td>\n",
       "      <td>92.604759</td>\n",
       "      <td>100.0</td>\n",
       "    </tr>\n",
       "    <tr>\n",
       "      <td>12</td>\n",
       "      <td>Kenya</td>\n",
       "      <td>7.652894</td>\n",
       "      <td>92.347106</td>\n",
       "      <td>100.0</td>\n",
       "    </tr>\n",
       "    <tr>\n",
       "      <td>13</td>\n",
       "      <td>Rwanda</td>\n",
       "      <td>9.345421</td>\n",
       "      <td>90.654579</td>\n",
       "      <td>100.0</td>\n",
       "    </tr>\n",
       "    <tr>\n",
       "      <td>14</td>\n",
       "      <td>Nicaragua</td>\n",
       "      <td>9.422330</td>\n",
       "      <td>90.577670</td>\n",
       "      <td>100.0</td>\n",
       "    </tr>\n",
       "    <tr>\n",
       "      <td>15</td>\n",
       "      <td>Tajikistan</td>\n",
       "      <td>9.485719</td>\n",
       "      <td>90.514281</td>\n",
       "      <td>100.0</td>\n",
       "    </tr>\n",
       "    <tr>\n",
       "      <td>16</td>\n",
       "      <td>Indonesia</td>\n",
       "      <td>9.674970</td>\n",
       "      <td>90.325030</td>\n",
       "      <td>100.0</td>\n",
       "    </tr>\n",
       "    <tr>\n",
       "      <td>17</td>\n",
       "      <td>Uganda</td>\n",
       "      <td>10.278448</td>\n",
       "      <td>89.721552</td>\n",
       "      <td>100.0</td>\n",
       "    </tr>\n",
       "    <tr>\n",
       "      <td>18</td>\n",
       "      <td>El Salvador</td>\n",
       "      <td>16.657400</td>\n",
       "      <td>83.342600</td>\n",
       "      <td>100.0</td>\n",
       "    </tr>\n",
       "    <tr>\n",
       "      <td>19</td>\n",
       "      <td>Colombia</td>\n",
       "      <td>17.984434</td>\n",
       "      <td>82.015566</td>\n",
       "      <td>100.0</td>\n",
       "    </tr>\n",
       "  </tbody>\n",
       "</table>\n",
       "</div>"
      ],
      "text/plain": [
       "status  country_name    expired     funded  total\n",
       "0               Togo   0.533911  99.466089  100.0\n",
       "1        Philippines   1.331019  98.668981  100.0\n",
       "2              Ghana   2.302821  97.697179  100.0\n",
       "3               Peru   2.358919  97.641081  100.0\n",
       "4           Cambodia   2.499693  97.500307  100.0\n",
       "5            Ecuador   3.675403  96.324597  100.0\n",
       "6          Guatemala   5.286839  94.713161  100.0\n",
       "7           Pakistan   5.630551  94.369449  100.0\n",
       "8       Sierra Leone   6.151316  93.848684  100.0\n",
       "9           Honduras   6.350550  93.649450  100.0\n",
       "10              Mali   7.031818  92.968182  100.0\n",
       "11           Nigeria   7.395241  92.604759  100.0\n",
       "12             Kenya   7.652894  92.347106  100.0\n",
       "13            Rwanda   9.345421  90.654579  100.0\n",
       "14         Nicaragua   9.422330  90.577670  100.0\n",
       "15        Tajikistan   9.485719  90.514281  100.0\n",
       "16         Indonesia   9.674970  90.325030  100.0\n",
       "17            Uganda  10.278448  89.721552  100.0\n",
       "18       El Salvador  16.657400  83.342600  100.0\n",
       "19          Colombia  17.984434  82.015566  100.0"
      ]
     },
     "execution_count": 22,
     "metadata": {},
     "output_type": "execute_result"
    }
   ],
   "source": [
    "df"
   ]
  },
  {
   "cell_type": "code",
   "execution_count": 23,
   "metadata": {
    "hidden": true
   },
   "outputs": [
    {
     "data": {
      "text/plain": [
       "51"
      ]
     },
     "execution_count": 23,
     "metadata": {},
     "output_type": "execute_result"
    }
   ],
   "source": [
    "merge1.country_name.nunique()"
   ]
  },
  {
   "cell_type": "code",
   "execution_count": 24,
   "metadata": {
    "hidden": true
   },
   "outputs": [
    {
     "data": {
      "image/png": "[encoded data removed]",
      "text/plain": [
       "<Figure size 576x720 with 1 Axes>"
      ]
     },
     "metadata": {
      "needs_background": "light"
     },
     "output_type": "display_data"
    }
   ],
   "source": [
    "s_force_order = df.sort_values('funded', ascending=False)['country_name'].head(40)\n",
    "\n",
    "fig, ax = plt.subplots(figsize=(8, 10))\n",
    "\n",
    "sns.barplot(x='expired', y='country_name', data=df,\n",
    "            label='expired', color='#0abda0', order=s_force_order)\n",
    "\n",
    "ax.legend(ncol=2, loc='best', frameon=True)\n",
    "ax.set(ylabel='Name of country',\n",
    "       xlabel='percentage expired loans')\n",
    "\n",
    "leg = ax.get_legend()\n",
    "#new_title = 'Loan outcome?'\n",
    "#leg.set_title(new_title)\n",
    "#ax.set_title('Top countries with highest funded percentage', fontsize=15)\n",
    "plt.show()"
   ]
  },
  {
   "cell_type": "code",
   "execution_count": null,
   "metadata": {
    "hidden": true
   },
   "outputs": [],
   "source": []
  },
  {
   "cell_type": "markdown",
   "metadata": {
    "heading_collapsed": true
   },
   "source": [
    "# Gender difference by country"
   ]
  },
  {
   "cell_type": "code",
   "execution_count": 25,
   "metadata": {
    "hidden": true
   },
   "outputs": [],
   "source": [
    "df1 = sub_df.copy()"
   ]
  },
  {
   "cell_type": "code",
   "execution_count": 26,
   "metadata": {
    "hidden": true
   },
   "outputs": [
    {
     "data": {
      "text/plain": [
       "loan_id                0\n",
       "original_language      0\n",
       "loan_amount            0\n",
       "status                 0\n",
       "activity_name          0\n",
       "sector_name            0\n",
       "country_name           0\n",
       "partner_id             0\n",
       "repayment_interval     0\n",
       "distribution_model     0\n",
       "year                   0\n",
       "month                  0\n",
       "description_ENG        0\n",
       "borrower_count         0\n",
       "loan_type              0\n",
       "gender_reclassified    0\n",
       "dominant_topic         0\n",
       "Loan Theme Type        0\n",
       "country                0\n",
       "world_region           0\n",
       "MPI                    0\n",
       "dtype: int64"
      ]
     },
     "execution_count": 26,
     "metadata": {},
     "output_type": "execute_result"
    }
   ],
   "source": [
    "df1.isnull().sum()"
   ]
  },
  {
   "cell_type": "code",
   "execution_count": 27,
   "metadata": {
    "hidden": true
   },
   "outputs": [
    {
     "data": {
      "text/plain": [
       "country_name  gender_reclassified  status \n",
       "Cambodia      female               expired    0.025619\n",
       "                                   funded     0.974381\n",
       "              male                 expired    0.022102\n",
       "                                   funded     0.977898\n",
       "Colombia      female               expired    0.128201\n",
       "                                                ...   \n",
       "Togo          male                 funded     0.970968\n",
       "Uganda        female               expired    0.033064\n",
       "                                   funded     0.966936\n",
       "              male                 expired    0.167854\n",
       "                                   funded     0.832146\n",
       "Length: 80, dtype: float64"
      ]
     },
     "execution_count": 27,
     "metadata": {},
     "output_type": "execute_result"
    }
   ],
   "source": [
    "df4 = sub_df.groupby(['country_name', 'gender_reclassified','status']).size()/sub_df.groupby(['country_name', 'gender_reclassified']).size()\n",
    "df4"
   ]
  },
  {
   "cell_type": "code",
   "execution_count": 28,
   "metadata": {
    "hidden": true
   },
   "outputs": [
    {
     "data": {
      "text/plain": [
       "80"
      ]
     },
     "execution_count": 28,
     "metadata": {},
     "output_type": "execute_result"
    }
   ],
   "source": [
    "len(df4)"
   ]
  },
  {
   "cell_type": "code",
   "execution_count": 29,
   "metadata": {
    "hidden": true
   },
   "outputs": [
    {
     "data": {
      "text/html": [
       "<div>\n",
       "<style scoped>\n",
       "    .dataframe tbody tr th:only-of-type {\n",
       "        vertical-align: middle;\n",
       "    }\n",
       "\n",
       "    .dataframe tbody tr th {\n",
       "        vertical-align: top;\n",
       "    }\n",
       "\n",
       "    .dataframe thead th {\n",
       "        text-align: right;\n",
       "    }\n",
       "</style>\n",
       "<table border=\"1\" class=\"dataframe\">\n",
       "  <thead>\n",
       "    <tr style=\"text-align: right;\">\n",
       "      <th></th>\n",
       "      <th></th>\n",
       "      <th></th>\n",
       "      <th>0</th>\n",
       "    </tr>\n",
       "    <tr>\n",
       "      <th>country_name</th>\n",
       "      <th>gender_reclassified</th>\n",
       "      <th>status</th>\n",
       "      <th></th>\n",
       "    </tr>\n",
       "  </thead>\n",
       "  <tbody>\n",
       "    <tr>\n",
       "      <td rowspan=\"4\" valign=\"top\">Cambodia</td>\n",
       "      <td rowspan=\"2\" valign=\"top\">female</td>\n",
       "      <td>expired</td>\n",
       "      <td>0.025619</td>\n",
       "    </tr>\n",
       "    <tr>\n",
       "      <td>funded</td>\n",
       "      <td>0.974381</td>\n",
       "    </tr>\n",
       "    <tr>\n",
       "      <td rowspan=\"2\" valign=\"top\">male</td>\n",
       "      <td>expired</td>\n",
       "      <td>0.022102</td>\n",
       "    </tr>\n",
       "    <tr>\n",
       "      <td>funded</td>\n",
       "      <td>0.977898</td>\n",
       "    </tr>\n",
       "    <tr>\n",
       "      <td>Colombia</td>\n",
       "      <td>female</td>\n",
       "      <td>expired</td>\n",
       "      <td>0.128201</td>\n",
       "    </tr>\n",
       "    <tr>\n",
       "      <td>...</td>\n",
       "      <td>...</td>\n",
       "      <td>...</td>\n",
       "      <td>...</td>\n",
       "    </tr>\n",
       "    <tr>\n",
       "      <td>Togo</td>\n",
       "      <td>male</td>\n",
       "      <td>funded</td>\n",
       "      <td>0.970968</td>\n",
       "    </tr>\n",
       "    <tr>\n",
       "      <td rowspan=\"4\" valign=\"top\">Uganda</td>\n",
       "      <td rowspan=\"2\" valign=\"top\">female</td>\n",
       "      <td>expired</td>\n",
       "      <td>0.033064</td>\n",
       "    </tr>\n",
       "    <tr>\n",
       "      <td>funded</td>\n",
       "      <td>0.966936</td>\n",
       "    </tr>\n",
       "    <tr>\n",
       "      <td rowspan=\"2\" valign=\"top\">male</td>\n",
       "      <td>expired</td>\n",
       "      <td>0.167854</td>\n",
       "    </tr>\n",
       "    <tr>\n",
       "      <td>funded</td>\n",
       "      <td>0.832146</td>\n",
       "    </tr>\n",
       "  </tbody>\n",
       "</table>\n",
       "<p>80 rows × 1 columns</p>\n",
       "</div>"
      ],
      "text/plain": [
       "                                                 0\n",
       "country_name gender_reclassified status           \n",
       "Cambodia     female              expired  0.025619\n",
       "                                 funded   0.974381\n",
       "             male                expired  0.022102\n",
       "                                 funded   0.977898\n",
       "Colombia     female              expired  0.128201\n",
       "...                                            ...\n",
       "Togo         male                funded   0.970968\n",
       "Uganda       female              expired  0.033064\n",
       "                                 funded   0.966936\n",
       "             male                expired  0.167854\n",
       "                                 funded   0.832146\n",
       "\n",
       "[80 rows x 1 columns]"
      ]
     },
     "execution_count": 29,
     "metadata": {},
     "output_type": "execute_result"
    }
   ],
   "source": [
    "df4 = df4.to_frame()\n",
    "df4"
   ]
  },
  {
   "cell_type": "code",
   "execution_count": 30,
   "metadata": {
    "hidden": true
   },
   "outputs": [],
   "source": [
    "df4 = df4.rename(columns={0: 'percentage'})\n",
    "df4.reset_index(level=2, inplace=True)\n",
    "df4.reset_index(level=1, inplace=True)\n",
    "df4.reset_index(level=0, inplace=True)"
   ]
  },
  {
   "cell_type": "code",
   "execution_count": 31,
   "metadata": {
    "hidden": true
   },
   "outputs": [
    {
     "data": {
      "text/plain": [
       "array(['country_name', 'gender_reclassified', 'status', 'percentage'],\n",
       "      dtype=object)"
      ]
     },
     "execution_count": 31,
     "metadata": {},
     "output_type": "execute_result"
    }
   ],
   "source": [
    "df4.columns.values"
   ]
  },
  {
   "cell_type": "code",
   "execution_count": 32,
   "metadata": {
    "hidden": true
   },
   "outputs": [
    {
     "data": {
      "text/plain": [
       "80"
      ]
     },
     "execution_count": 32,
     "metadata": {},
     "output_type": "execute_result"
    }
   ],
   "source": [
    "len(df4)"
   ]
  },
  {
   "cell_type": "code",
   "execution_count": 33,
   "metadata": {
    "hidden": true
   },
   "outputs": [
    {
     "data": {
      "text/html": [
       "<div>\n",
       "<style scoped>\n",
       "    .dataframe tbody tr th:only-of-type {\n",
       "        vertical-align: middle;\n",
       "    }\n",
       "\n",
       "    .dataframe tbody tr th {\n",
       "        vertical-align: top;\n",
       "    }\n",
       "\n",
       "    .dataframe thead th {\n",
       "        text-align: right;\n",
       "    }\n",
       "</style>\n",
       "<table border=\"1\" class=\"dataframe\">\n",
       "  <thead>\n",
       "    <tr style=\"text-align: right;\">\n",
       "      <th></th>\n",
       "      <th>country_name</th>\n",
       "      <th>gender_reclassified</th>\n",
       "      <th>status</th>\n",
       "      <th>percentage</th>\n",
       "    </tr>\n",
       "  </thead>\n",
       "  <tbody>\n",
       "    <tr>\n",
       "      <td>0</td>\n",
       "      <td>Cambodia</td>\n",
       "      <td>female</td>\n",
       "      <td>expired</td>\n",
       "      <td>0.025619</td>\n",
       "    </tr>\n",
       "    <tr>\n",
       "      <td>1</td>\n",
       "      <td>Cambodia</td>\n",
       "      <td>female</td>\n",
       "      <td>funded</td>\n",
       "      <td>0.974381</td>\n",
       "    </tr>\n",
       "    <tr>\n",
       "      <td>2</td>\n",
       "      <td>Cambodia</td>\n",
       "      <td>male</td>\n",
       "      <td>expired</td>\n",
       "      <td>0.022102</td>\n",
       "    </tr>\n",
       "    <tr>\n",
       "      <td>3</td>\n",
       "      <td>Cambodia</td>\n",
       "      <td>male</td>\n",
       "      <td>funded</td>\n",
       "      <td>0.977898</td>\n",
       "    </tr>\n",
       "    <tr>\n",
       "      <td>4</td>\n",
       "      <td>Colombia</td>\n",
       "      <td>female</td>\n",
       "      <td>expired</td>\n",
       "      <td>0.128201</td>\n",
       "    </tr>\n",
       "    <tr>\n",
       "      <td>5</td>\n",
       "      <td>Colombia</td>\n",
       "      <td>female</td>\n",
       "      <td>funded</td>\n",
       "      <td>0.871799</td>\n",
       "    </tr>\n",
       "    <tr>\n",
       "      <td>6</td>\n",
       "      <td>Colombia</td>\n",
       "      <td>male</td>\n",
       "      <td>expired</td>\n",
       "      <td>0.259865</td>\n",
       "    </tr>\n",
       "    <tr>\n",
       "      <td>7</td>\n",
       "      <td>Colombia</td>\n",
       "      <td>male</td>\n",
       "      <td>funded</td>\n",
       "      <td>0.740135</td>\n",
       "    </tr>\n",
       "    <tr>\n",
       "      <td>8</td>\n",
       "      <td>Ecuador</td>\n",
       "      <td>female</td>\n",
       "      <td>expired</td>\n",
       "      <td>0.017990</td>\n",
       "    </tr>\n",
       "    <tr>\n",
       "      <td>9</td>\n",
       "      <td>Ecuador</td>\n",
       "      <td>female</td>\n",
       "      <td>funded</td>\n",
       "      <td>0.982010</td>\n",
       "    </tr>\n",
       "  </tbody>\n",
       "</table>\n",
       "</div>"
      ],
      "text/plain": [
       "  country_name gender_reclassified   status  percentage\n",
       "0     Cambodia              female  expired    0.025619\n",
       "1     Cambodia              female   funded    0.974381\n",
       "2     Cambodia                male  expired    0.022102\n",
       "3     Cambodia                male   funded    0.977898\n",
       "4     Colombia              female  expired    0.128201\n",
       "5     Colombia              female   funded    0.871799\n",
       "6     Colombia                male  expired    0.259865\n",
       "7     Colombia                male   funded    0.740135\n",
       "8      Ecuador              female  expired    0.017990\n",
       "9      Ecuador              female   funded    0.982010"
      ]
     },
     "execution_count": 33,
     "metadata": {},
     "output_type": "execute_result"
    }
   ],
   "source": [
    "df4.head(10)"
   ]
  },
  {
   "cell_type": "code",
   "execution_count": 34,
   "metadata": {
    "hidden": true
   },
   "outputs": [],
   "source": [
    "df5 = df4[df4['status'] == 'funded']"
   ]
  },
  {
   "cell_type": "code",
   "execution_count": 35,
   "metadata": {
    "hidden": true
   },
   "outputs": [
    {
     "data": {
      "text/plain": [
       "40"
      ]
     },
     "execution_count": 35,
     "metadata": {},
     "output_type": "execute_result"
    }
   ],
   "source": [
    "len(df5)"
   ]
  },
  {
   "cell_type": "code",
   "execution_count": 36,
   "metadata": {
    "hidden": true
   },
   "outputs": [
    {
     "data": {
      "text/html": [
       "<div>\n",
       "<style scoped>\n",
       "    .dataframe tbody tr th:only-of-type {\n",
       "        vertical-align: middle;\n",
       "    }\n",
       "\n",
       "    .dataframe tbody tr th {\n",
       "        vertical-align: top;\n",
       "    }\n",
       "\n",
       "    .dataframe thead th {\n",
       "        text-align: right;\n",
       "    }\n",
       "</style>\n",
       "<table border=\"1\" class=\"dataframe\">\n",
       "  <thead>\n",
       "    <tr style=\"text-align: right;\">\n",
       "      <th></th>\n",
       "      <th>country_name</th>\n",
       "      <th>gender_reclassified</th>\n",
       "      <th>status</th>\n",
       "      <th>percentage</th>\n",
       "    </tr>\n",
       "  </thead>\n",
       "  <tbody>\n",
       "    <tr>\n",
       "      <td>1</td>\n",
       "      <td>Cambodia</td>\n",
       "      <td>female</td>\n",
       "      <td>funded</td>\n",
       "      <td>0.974381</td>\n",
       "    </tr>\n",
       "    <tr>\n",
       "      <td>3</td>\n",
       "      <td>Cambodia</td>\n",
       "      <td>male</td>\n",
       "      <td>funded</td>\n",
       "      <td>0.977898</td>\n",
       "    </tr>\n",
       "    <tr>\n",
       "      <td>5</td>\n",
       "      <td>Colombia</td>\n",
       "      <td>female</td>\n",
       "      <td>funded</td>\n",
       "      <td>0.871799</td>\n",
       "    </tr>\n",
       "    <tr>\n",
       "      <td>7</td>\n",
       "      <td>Colombia</td>\n",
       "      <td>male</td>\n",
       "      <td>funded</td>\n",
       "      <td>0.740135</td>\n",
       "    </tr>\n",
       "    <tr>\n",
       "      <td>9</td>\n",
       "      <td>Ecuador</td>\n",
       "      <td>female</td>\n",
       "      <td>funded</td>\n",
       "      <td>0.982010</td>\n",
       "    </tr>\n",
       "    <tr>\n",
       "      <td>11</td>\n",
       "      <td>Ecuador</td>\n",
       "      <td>male</td>\n",
       "      <td>funded</td>\n",
       "      <td>0.903260</td>\n",
       "    </tr>\n",
       "    <tr>\n",
       "      <td>13</td>\n",
       "      <td>El Salvador</td>\n",
       "      <td>female</td>\n",
       "      <td>funded</td>\n",
       "      <td>0.871553</td>\n",
       "    </tr>\n",
       "    <tr>\n",
       "      <td>15</td>\n",
       "      <td>El Salvador</td>\n",
       "      <td>male</td>\n",
       "      <td>funded</td>\n",
       "      <td>0.776089</td>\n",
       "    </tr>\n",
       "    <tr>\n",
       "      <td>17</td>\n",
       "      <td>Ghana</td>\n",
       "      <td>female</td>\n",
       "      <td>funded</td>\n",
       "      <td>0.978090</td>\n",
       "    </tr>\n",
       "    <tr>\n",
       "      <td>19</td>\n",
       "      <td>Ghana</td>\n",
       "      <td>male</td>\n",
       "      <td>funded</td>\n",
       "      <td>0.973020</td>\n",
       "    </tr>\n",
       "  </tbody>\n",
       "</table>\n",
       "</div>"
      ],
      "text/plain": [
       "   country_name gender_reclassified  status  percentage\n",
       "1      Cambodia              female  funded    0.974381\n",
       "3      Cambodia                male  funded    0.977898\n",
       "5      Colombia              female  funded    0.871799\n",
       "7      Colombia                male  funded    0.740135\n",
       "9       Ecuador              female  funded    0.982010\n",
       "11      Ecuador                male  funded    0.903260\n",
       "13  El Salvador              female  funded    0.871553\n",
       "15  El Salvador                male  funded    0.776089\n",
       "17        Ghana              female  funded    0.978090\n",
       "19        Ghana                male  funded    0.973020"
      ]
     },
     "execution_count": 36,
     "metadata": {},
     "output_type": "execute_result"
    }
   ],
   "source": [
    "df5.head(10)"
   ]
  },
  {
   "cell_type": "code",
   "execution_count": 37,
   "metadata": {
    "hidden": true
   },
   "outputs": [
    {
     "data": {
      "text/html": [
       "<div>\n",
       "<style scoped>\n",
       "    .dataframe tbody tr th:only-of-type {\n",
       "        vertical-align: middle;\n",
       "    }\n",
       "\n",
       "    .dataframe tbody tr th {\n",
       "        vertical-align: top;\n",
       "    }\n",
       "\n",
       "    .dataframe thead th {\n",
       "        text-align: right;\n",
       "    }\n",
       "</style>\n",
       "<table border=\"1\" class=\"dataframe\">\n",
       "  <thead>\n",
       "    <tr style=\"text-align: right;\">\n",
       "      <th>gender_reclassified</th>\n",
       "      <th>female</th>\n",
       "      <th>male</th>\n",
       "    </tr>\n",
       "    <tr>\n",
       "      <th>country_name</th>\n",
       "      <th></th>\n",
       "      <th></th>\n",
       "    </tr>\n",
       "  </thead>\n",
       "  <tbody>\n",
       "    <tr>\n",
       "      <td>Cambodia</td>\n",
       "      <td>0.974381</td>\n",
       "      <td>0.977898</td>\n",
       "    </tr>\n",
       "    <tr>\n",
       "      <td>Colombia</td>\n",
       "      <td>0.871799</td>\n",
       "      <td>0.740135</td>\n",
       "    </tr>\n",
       "    <tr>\n",
       "      <td>Ecuador</td>\n",
       "      <td>0.982010</td>\n",
       "      <td>0.903260</td>\n",
       "    </tr>\n",
       "    <tr>\n",
       "      <td>El Salvador</td>\n",
       "      <td>0.871553</td>\n",
       "      <td>0.776089</td>\n",
       "    </tr>\n",
       "    <tr>\n",
       "      <td>Ghana</td>\n",
       "      <td>0.978090</td>\n",
       "      <td>0.973020</td>\n",
       "    </tr>\n",
       "    <tr>\n",
       "      <td>Guatemala</td>\n",
       "      <td>0.952230</td>\n",
       "      <td>0.931761</td>\n",
       "    </tr>\n",
       "    <tr>\n",
       "      <td>Honduras</td>\n",
       "      <td>0.958866</td>\n",
       "      <td>0.901904</td>\n",
       "    </tr>\n",
       "    <tr>\n",
       "      <td>Indonesia</td>\n",
       "      <td>0.955785</td>\n",
       "      <td>0.717241</td>\n",
       "    </tr>\n",
       "    <tr>\n",
       "      <td>Kenya</td>\n",
       "      <td>0.954170</td>\n",
       "      <td>0.831721</td>\n",
       "    </tr>\n",
       "    <tr>\n",
       "      <td>Mali</td>\n",
       "      <td>0.974074</td>\n",
       "      <td>0.799772</td>\n",
       "    </tr>\n",
       "    <tr>\n",
       "      <td>Nicaragua</td>\n",
       "      <td>0.927761</td>\n",
       "      <td>0.855094</td>\n",
       "    </tr>\n",
       "    <tr>\n",
       "      <td>Nigeria</td>\n",
       "      <td>0.999359</td>\n",
       "      <td>0.914253</td>\n",
       "    </tr>\n",
       "    <tr>\n",
       "      <td>Pakistan</td>\n",
       "      <td>0.951227</td>\n",
       "      <td>0.792287</td>\n",
       "    </tr>\n",
       "    <tr>\n",
       "      <td>Peru</td>\n",
       "      <td>0.996495</td>\n",
       "      <td>0.935297</td>\n",
       "    </tr>\n",
       "    <tr>\n",
       "      <td>Philippines</td>\n",
       "      <td>0.988359</td>\n",
       "      <td>0.955981</td>\n",
       "    </tr>\n",
       "    <tr>\n",
       "      <td>Rwanda</td>\n",
       "      <td>0.915780</td>\n",
       "      <td>0.883504</td>\n",
       "    </tr>\n",
       "    <tr>\n",
       "      <td>Sierra Leone</td>\n",
       "      <td>0.957367</td>\n",
       "      <td>0.810013</td>\n",
       "    </tr>\n",
       "    <tr>\n",
       "      <td>Tajikistan</td>\n",
       "      <td>0.926620</td>\n",
       "      <td>0.840909</td>\n",
       "    </tr>\n",
       "    <tr>\n",
       "      <td>Togo</td>\n",
       "      <td>0.995770</td>\n",
       "      <td>0.970968</td>\n",
       "    </tr>\n",
       "    <tr>\n",
       "      <td>Uganda</td>\n",
       "      <td>0.966936</td>\n",
       "      <td>0.832146</td>\n",
       "    </tr>\n",
       "  </tbody>\n",
       "</table>\n",
       "</div>"
      ],
      "text/plain": [
       "gender_reclassified    female      male\n",
       "country_name                           \n",
       "Cambodia             0.974381  0.977898\n",
       "Colombia             0.871799  0.740135\n",
       "Ecuador              0.982010  0.903260\n",
       "El Salvador          0.871553  0.776089\n",
       "Ghana                0.978090  0.973020\n",
       "Guatemala            0.952230  0.931761\n",
       "Honduras             0.958866  0.901904\n",
       "Indonesia            0.955785  0.717241\n",
       "Kenya                0.954170  0.831721\n",
       "Mali                 0.974074  0.799772\n",
       "Nicaragua            0.927761  0.855094\n",
       "Nigeria              0.999359  0.914253\n",
       "Pakistan             0.951227  0.792287\n",
       "Peru                 0.996495  0.935297\n",
       "Philippines          0.988359  0.955981\n",
       "Rwanda               0.915780  0.883504\n",
       "Sierra Leone         0.957367  0.810013\n",
       "Tajikistan           0.926620  0.840909\n",
       "Togo                 0.995770  0.970968\n",
       "Uganda               0.966936  0.832146"
      ]
     },
     "execution_count": 37,
     "metadata": {},
     "output_type": "execute_result"
    }
   ],
   "source": [
    "df6 = df5.pivot(index='country_name', columns='gender_reclassified', values='percentage')\n",
    "df6"
   ]
  },
  {
   "cell_type": "code",
   "execution_count": 38,
   "metadata": {
    "hidden": true
   },
   "outputs": [],
   "source": [
    "df6['female'] = df6['female'].fillna(0)\n",
    "df6['male'] = df6['male'].fillna(0)\n",
    "\n",
    "df6['difference'] = df6['female'].fillna(0) - df6['male'].fillna(0)\n",
    "df6 = df6.sort_values(by='female', ascending=False).head(60)\n",
    "df6.reset_index(level=0, inplace=True)"
   ]
  },
  {
   "cell_type": "code",
   "execution_count": 39,
   "metadata": {
    "hidden": true
   },
   "outputs": [],
   "source": [
    "df6.iloc[:,1:] = df6.iloc[:,1:].mul(100)"
   ]
  },
  {
   "cell_type": "code",
   "execution_count": 40,
   "metadata": {
    "hidden": true
   },
   "outputs": [
    {
     "data": {
      "text/html": [
       "<div>\n",
       "<style scoped>\n",
       "    .dataframe tbody tr th:only-of-type {\n",
       "        vertical-align: middle;\n",
       "    }\n",
       "\n",
       "    .dataframe tbody tr th {\n",
       "        vertical-align: top;\n",
       "    }\n",
       "\n",
       "    .dataframe thead th {\n",
       "        text-align: right;\n",
       "    }\n",
       "</style>\n",
       "<table border=\"1\" class=\"dataframe\">\n",
       "  <thead>\n",
       "    <tr style=\"text-align: right;\">\n",
       "      <th>gender_reclassified</th>\n",
       "      <th>country_name</th>\n",
       "      <th>female</th>\n",
       "      <th>male</th>\n",
       "      <th>difference</th>\n",
       "    </tr>\n",
       "  </thead>\n",
       "  <tbody>\n",
       "    <tr>\n",
       "      <td>0</td>\n",
       "      <td>Nigeria</td>\n",
       "      <td>99.935939</td>\n",
       "      <td>91.425332</td>\n",
       "      <td>8.510606</td>\n",
       "    </tr>\n",
       "    <tr>\n",
       "      <td>1</td>\n",
       "      <td>Peru</td>\n",
       "      <td>99.649490</td>\n",
       "      <td>93.529708</td>\n",
       "      <td>6.119782</td>\n",
       "    </tr>\n",
       "    <tr>\n",
       "      <td>2</td>\n",
       "      <td>Togo</td>\n",
       "      <td>99.577039</td>\n",
       "      <td>97.096774</td>\n",
       "      <td>2.480265</td>\n",
       "    </tr>\n",
       "    <tr>\n",
       "      <td>3</td>\n",
       "      <td>Philippines</td>\n",
       "      <td>98.835920</td>\n",
       "      <td>95.598076</td>\n",
       "      <td>3.237844</td>\n",
       "    </tr>\n",
       "    <tr>\n",
       "      <td>4</td>\n",
       "      <td>Ecuador</td>\n",
       "      <td>98.200962</td>\n",
       "      <td>90.326001</td>\n",
       "      <td>7.874961</td>\n",
       "    </tr>\n",
       "    <tr>\n",
       "      <td>5</td>\n",
       "      <td>Ghana</td>\n",
       "      <td>97.808961</td>\n",
       "      <td>97.302002</td>\n",
       "      <td>0.506959</td>\n",
       "    </tr>\n",
       "    <tr>\n",
       "      <td>6</td>\n",
       "      <td>Cambodia</td>\n",
       "      <td>97.438118</td>\n",
       "      <td>97.789825</td>\n",
       "      <td>-0.351707</td>\n",
       "    </tr>\n",
       "    <tr>\n",
       "      <td>7</td>\n",
       "      <td>Mali</td>\n",
       "      <td>97.407407</td>\n",
       "      <td>79.977182</td>\n",
       "      <td>17.430225</td>\n",
       "    </tr>\n",
       "    <tr>\n",
       "      <td>8</td>\n",
       "      <td>Uganda</td>\n",
       "      <td>96.693614</td>\n",
       "      <td>83.214649</td>\n",
       "      <td>13.478965</td>\n",
       "    </tr>\n",
       "    <tr>\n",
       "      <td>9</td>\n",
       "      <td>Honduras</td>\n",
       "      <td>95.886591</td>\n",
       "      <td>90.190442</td>\n",
       "      <td>5.696149</td>\n",
       "    </tr>\n",
       "    <tr>\n",
       "      <td>10</td>\n",
       "      <td>Sierra Leone</td>\n",
       "      <td>95.736653</td>\n",
       "      <td>81.001284</td>\n",
       "      <td>14.735370</td>\n",
       "    </tr>\n",
       "    <tr>\n",
       "      <td>11</td>\n",
       "      <td>Indonesia</td>\n",
       "      <td>95.578496</td>\n",
       "      <td>71.724138</td>\n",
       "      <td>23.854358</td>\n",
       "    </tr>\n",
       "    <tr>\n",
       "      <td>12</td>\n",
       "      <td>Kenya</td>\n",
       "      <td>95.417015</td>\n",
       "      <td>83.172084</td>\n",
       "      <td>12.244931</td>\n",
       "    </tr>\n",
       "    <tr>\n",
       "      <td>13</td>\n",
       "      <td>Guatemala</td>\n",
       "      <td>95.223036</td>\n",
       "      <td>93.176116</td>\n",
       "      <td>2.046920</td>\n",
       "    </tr>\n",
       "    <tr>\n",
       "      <td>14</td>\n",
       "      <td>Pakistan</td>\n",
       "      <td>95.122690</td>\n",
       "      <td>79.228687</td>\n",
       "      <td>15.894003</td>\n",
       "    </tr>\n",
       "    <tr>\n",
       "      <td>15</td>\n",
       "      <td>Nicaragua</td>\n",
       "      <td>92.776080</td>\n",
       "      <td>85.509434</td>\n",
       "      <td>7.266646</td>\n",
       "    </tr>\n",
       "    <tr>\n",
       "      <td>16</td>\n",
       "      <td>Tajikistan</td>\n",
       "      <td>92.661987</td>\n",
       "      <td>84.090909</td>\n",
       "      <td>8.571078</td>\n",
       "    </tr>\n",
       "    <tr>\n",
       "      <td>17</td>\n",
       "      <td>Rwanda</td>\n",
       "      <td>91.577965</td>\n",
       "      <td>88.350419</td>\n",
       "      <td>3.227545</td>\n",
       "    </tr>\n",
       "    <tr>\n",
       "      <td>18</td>\n",
       "      <td>Colombia</td>\n",
       "      <td>87.179860</td>\n",
       "      <td>74.013529</td>\n",
       "      <td>13.166332</td>\n",
       "    </tr>\n",
       "    <tr>\n",
       "      <td>19</td>\n",
       "      <td>El Salvador</td>\n",
       "      <td>87.155256</td>\n",
       "      <td>77.608910</td>\n",
       "      <td>9.546346</td>\n",
       "    </tr>\n",
       "  </tbody>\n",
       "</table>\n",
       "</div>"
      ],
      "text/plain": [
       "gender_reclassified  country_name     female       male  difference\n",
       "0                         Nigeria  99.935939  91.425332    8.510606\n",
       "1                            Peru  99.649490  93.529708    6.119782\n",
       "2                            Togo  99.577039  97.096774    2.480265\n",
       "3                     Philippines  98.835920  95.598076    3.237844\n",
       "4                         Ecuador  98.200962  90.326001    7.874961\n",
       "5                           Ghana  97.808961  97.302002    0.506959\n",
       "6                        Cambodia  97.438118  97.789825   -0.351707\n",
       "7                            Mali  97.407407  79.977182   17.430225\n",
       "8                          Uganda  96.693614  83.214649   13.478965\n",
       "9                        Honduras  95.886591  90.190442    5.696149\n",
       "10                   Sierra Leone  95.736653  81.001284   14.735370\n",
       "11                      Indonesia  95.578496  71.724138   23.854358\n",
       "12                          Kenya  95.417015  83.172084   12.244931\n",
       "13                      Guatemala  95.223036  93.176116    2.046920\n",
       "14                       Pakistan  95.122690  79.228687   15.894003\n",
       "15                      Nicaragua  92.776080  85.509434    7.266646\n",
       "16                     Tajikistan  92.661987  84.090909    8.571078\n",
       "17                         Rwanda  91.577965  88.350419    3.227545\n",
       "18                       Colombia  87.179860  74.013529   13.166332\n",
       "19                    El Salvador  87.155256  77.608910    9.546346"
      ]
     },
     "execution_count": 40,
     "metadata": {},
     "output_type": "execute_result"
    }
   ],
   "source": [
    "df6"
   ]
  },
  {
   "cell_type": "code",
   "execution_count": 41,
   "metadata": {
    "hidden": true
   },
   "outputs": [
    {
     "data": {
      "image/png": "[encoded data removed]",
      "text/plain": [
       "<Figure size 1080x720 with 1 Axes>"
      ]
     },
     "metadata": {
      "needs_background": "light"
     },
     "output_type": "display_data"
    }
   ],
   "source": [
    "import itertools\n",
    "s_force_order = df6.sort_values('difference', ascending=False)['country_name'].head(40)\n",
    "\n",
    "fig, ax = plt.subplots(figsize=(15, 10))\n",
    "\n",
    "sns.barplot(x='difference', y='country_name', data=df6,\n",
    "            label='difference = funded%female - funded%male', color='#0abda0', order=s_force_order)\n",
    "\n",
    "ax.legend(ncol=1, loc='lower right', frameon=True)\n",
    "ax.set(ylabel='country_name',\n",
    "       xlabel='Gender difference')\n",
    "\n",
    "leg = ax.get_legend()\n",
    "new_title = 'Legend:'\n",
    "leg.set_title(new_title)\n",
    "ax.set_title('Gender difference by country for the funded loans', fontsize=15)\n",
    "plt.show()"
   ]
  },
  {
   "cell_type": "code",
   "execution_count": null,
   "metadata": {
    "hidden": true
   },
   "outputs": [],
   "source": []
  },
  {
   "cell_type": "code",
   "execution_count": 42,
   "metadata": {
    "hidden": true
   },
   "outputs": [
    {
     "data": {
      "image/png": "[encoded data removed]",
      "text/plain": [
       "<Figure size 432x576 with 1 Axes>"
      ]
     },
     "metadata": {
      "needs_background": "light"
     },
     "output_type": "display_data"
    }
   ],
   "source": [
    "import itertools\n",
    "s_force_order = df6.sort_values('difference', ascending=False)['country_name'].head(40)\n",
    "\n",
    "fig, ax = plt.subplots(figsize=(6, 8))\n",
    "\n",
    "sns.barplot(x='difference', y='country_name', data=df6,\n",
    "            label='Statistical parity', color='dodgerblue', order=s_force_order)\n",
    "\n",
    "#ax.legend(ncol=1, loc='lower right', frameon=True)\n",
    "ax.set(ylabel='Country',\n",
    "       xlabel='Statistical parity in percentages')\n",
    "\n",
    "#leg = ax.get_legend()\n",
    "#new_title = 'Legend:'\n",
    "#leg.set_title(new_title)\n",
    "#ax.set_title('Gender difference by country for the funded loans', fontsize=15)\n",
    "plt.show()\n",
    "fig.savefig('gender_bias_country.png', bbox_inches='tight')"
   ]
  },
  {
   "cell_type": "code",
   "execution_count": null,
   "metadata": {
    "hidden": true
   },
   "outputs": [],
   "source": []
  },
  {
   "cell_type": "markdown",
   "metadata": {},
   "source": [
    "# Top 40 field partners with more than 1000 loans (%)"
   ]
  },
  {
   "cell_type": "markdown",
   "metadata": {
    "heading_collapsed": true
   },
   "source": [
    "##  Top 40 of field partners with more than 1 000 loans according to the % expired loans"
   ]
  },
  {
   "cell_type": "code",
   "execution_count": 44,
   "metadata": {
    "hidden": true
   },
   "outputs": [
    {
     "data": {
      "text/plain": [
       "160441"
      ]
     },
     "execution_count": 44,
     "metadata": {},
     "output_type": "execute_result"
    }
   ],
   "source": [
    "len(kiva_loans[kiva_loans.country=='Philippines'])"
   ]
  },
  {
   "cell_type": "code",
   "execution_count": 45,
   "metadata": {
    "hidden": true
   },
   "outputs": [
    {
     "data": {
      "text/plain": [
       "0.23903427417852965"
      ]
     },
     "execution_count": 45,
     "metadata": {},
     "output_type": "execute_result"
    }
   ],
   "source": [
    "160441/671205"
   ]
  },
  {
   "cell_type": "code",
   "execution_count": 46,
   "metadata": {
    "hidden": true
   },
   "outputs": [
    {
     "data": {
      "text/plain": [
       "614010"
      ]
     },
     "execution_count": 46,
     "metadata": {},
     "output_type": "execute_result"
    }
   ],
   "source": [
    "len(merge1)"
   ]
  },
  {
   "cell_type": "code",
   "execution_count": 47,
   "metadata": {
    "hidden": true
   },
   "outputs": [
    {
     "data": {
      "text/plain": [
       "185497"
      ]
     },
     "execution_count": 47,
     "metadata": {},
     "output_type": "execute_result"
    }
   ],
   "source": [
    "len(merge1[merge1.country=='Philippines'])"
   ]
  },
  {
   "cell_type": "code",
   "execution_count": 48,
   "metadata": {
    "hidden": true
   },
   "outputs": [
    {
     "data": {
      "text/plain": [
       "0.30210745753326496"
      ]
     },
     "execution_count": 48,
     "metadata": {},
     "output_type": "execute_result"
    }
   ],
   "source": [
    "185497/614010"
   ]
  },
  {
   "cell_type": "code",
   "execution_count": null,
   "metadata": {
    "hidden": true
   },
   "outputs": [],
   "source": []
  },
  {
   "cell_type": "code",
   "execution_count": null,
   "metadata": {
    "hidden": true
   },
   "outputs": [],
   "source": []
  },
  {
   "cell_type": "code",
   "execution_count": 51,
   "metadata": {
    "hidden": true
   },
   "outputs": [],
   "source": [
    "df_theme= pd.read_csv(\"/Users/alexanderstevens/Desktop/loan_theme.csv\",index_col=None).set_index(\"id\")\n",
    "df_locations= pd.read_csv(\"/Users/alexanderstevens/Desktop/loan_themeRegion.csv\",index_col=None)\n",
    "df_locations.rename(columns={\"Partner ID\":\"partner_id\"},inplace=True)\n",
    "\n",
    "#Merge Kiva_loan with df_theme sheet with unique parner id\n",
    "new_loan = pd.merge(kiva_loans,df_theme,how=\"inner\",on=\"id\")\n",
    "\n",
    "#merge new loan sheet to loan_themesregion.csv\n",
    "new_loan2 = pd.merge(new_loan,df_locations[df_locations.columns[~df_locations.columns.isin(['sector','Loan Theme Type'])]]\n",
    "                     ,how='inner',on=[\"partner_id\",\"Loan Theme ID\",\"country\",\"region\"])\n",
    "\n",
    "#Merge new_loan2, kiva_mpi_region_locations.csv \n",
    "#new_loan_mpi = pd.merge(new_loan2,mpi_reg,how=\"inner\",on=[\"lat\",\"lon\",\"ISO\",\"country\",\"region\",\"LocationName\"])"
   ]
  },
  {
   "cell_type": "code",
   "execution_count": 52,
   "metadata": {
    "hidden": true
   },
   "outputs": [
    {
     "data": {
      "text/plain": [
       "671205"
      ]
     },
     "execution_count": 52,
     "metadata": {},
     "output_type": "execute_result"
    }
   ],
   "source": [
    "len(kiva_loans)"
   ]
  },
  {
   "cell_type": "code",
   "execution_count": 53,
   "metadata": {
    "hidden": true
   },
   "outputs": [
    {
     "data": {
      "text/plain": [
       "671199"
      ]
     },
     "execution_count": 53,
     "metadata": {},
     "output_type": "execute_result"
    }
   ],
   "source": [
    "len(new_loan)"
   ]
  },
  {
   "cell_type": "code",
   "execution_count": 54,
   "metadata": {
    "hidden": true
   },
   "outputs": [
    {
     "data": {
      "text/plain": [
       "533462"
      ]
     },
     "execution_count": 54,
     "metadata": {},
     "output_type": "execute_result"
    }
   ],
   "source": [
    "len(new_loan2)"
   ]
  },
  {
   "cell_type": "code",
   "execution_count": 55,
   "metadata": {
    "hidden": true
   },
   "outputs": [
    {
     "data": {
      "text/plain": [
       "284"
      ]
     },
     "execution_count": 55,
     "metadata": {},
     "output_type": "execute_result"
    }
   ],
   "source": [
    "new_loan2['Partner ID'].nunique()"
   ]
  },
  {
   "cell_type": "code",
   "execution_count": 56,
   "metadata": {
    "hidden": true
   },
   "outputs": [
    {
     "data": {
      "text/plain": [
       "284"
      ]
     },
     "execution_count": 56,
     "metadata": {},
     "output_type": "execute_result"
    }
   ],
   "source": [
    "new_loan2['Field Partner Name'].nunique()"
   ]
  },
  {
   "cell_type": "code",
   "execution_count": 57,
   "metadata": {
    "hidden": true
   },
   "outputs": [
    {
     "data": {
      "text/plain": [
       "funded_amount              0\n",
       "loan_amount                0\n",
       "activity                   0\n",
       "sector                     0\n",
       "use                        5\n",
       "country_code               8\n",
       "country                    0\n",
       "region                     0\n",
       "currency                   0\n",
       "partner_id                 0\n",
       "posted_time                0\n",
       "disbursed_time             0\n",
       "funded_time            33912\n",
       "term_in_months             0\n",
       "lender_count               0\n",
       "tags                  130019\n",
       "borrower_genders           0\n",
       "repayment_interval         0\n",
       "date                       0\n",
       "Loan Theme ID              0\n",
       "Loan Theme Type            0\n",
       "Partner ID                 0\n",
       "Field Partner Name         0\n",
       "forkiva                    0\n",
       "geocode_old           424485\n",
       "ISO                        1\n",
       "number                     0\n",
       "amount                     0\n",
       "LocationName               0\n",
       "geocode                14474\n",
       "names                  14475\n",
       "geo                        0\n",
       "lat                    14474\n",
       "lon                    14474\n",
       "mpi_region                 1\n",
       "mpi_geo                74409\n",
       "rural_pct              32495\n",
       "dtype: int64"
      ]
     },
     "execution_count": 57,
     "metadata": {},
     "output_type": "execute_result"
    }
   ],
   "source": [
    "new_loan2.isnull().sum()"
   ]
  },
  {
   "cell_type": "code",
   "execution_count": 58,
   "metadata": {
    "hidden": true
   },
   "outputs": [
    {
     "data": {
      "text/plain": [
       "Negros Women for Tomorrow Foundation (NWTF)    104523\n",
       "CrediCampo                                      15425\n",
       "Juhudi Kilimo                                   15392\n",
       "iDE Cambodia                                    14464\n",
       "BRAC Pakistan                                   13564\n",
       "                                                ...  \n",
       "Impact Hub                                          1\n",
       "N/A, direct to Nomanini                             1\n",
       "N/A, direct to Thread International                 1\n",
       "N/A, direct to Eco Fuels Kenya                      1\n",
       "N/A, direct to EcoZoom                              1\n",
       "Name: Field Partner Name, Length: 284, dtype: int64"
      ]
     },
     "execution_count": 58,
     "metadata": {},
     "output_type": "execute_result"
    }
   ],
   "source": [
    "new_loan2['Field Partner Name'].value_counts()"
   ]
  },
  {
   "cell_type": "code",
   "execution_count": 59,
   "metadata": {
    "hidden": true
   },
   "outputs": [
    {
     "data": {
      "text/plain": [
       "Negros Women for Tomorrow Foundation (NWTF)                                        104523\n",
       "CrediCampo                                                                          15425\n",
       "Juhudi Kilimo                                                                       15392\n",
       "iDE Cambodia                                                                        14464\n",
       "BRAC Pakistan                                                                       13564\n",
       "                                                                                    ...  \n",
       "Pana Pana                                                                            1106\n",
       "Thrive Microfinance                                                                  1101\n",
       "Impact Carbon                                                                        1085\n",
       "Alivio Capital                                                                       1005\n",
       "Programme d'Appui aux Initiatives de DÍ©veloppement Economique au Kivu (PAIDEK)      1001\n",
       "Name: Field Partner Name, Length: 87, dtype: int64"
      ]
     },
     "execution_count": 59,
     "metadata": {},
     "output_type": "execute_result"
    }
   ],
   "source": [
    "new_loan2['Field Partner Name'].value_counts().loc[lambda x : x>999] "
   ]
  },
  {
   "cell_type": "code",
   "execution_count": null,
   "metadata": {
    "hidden": true
   },
   "outputs": [],
   "source": []
  },
  {
   "cell_type": "code",
   "execution_count": 102,
   "metadata": {
    "hidden": true
   },
   "outputs": [],
   "source": [
    "counts = new_loan2['Field Partner Name'].value_counts()\n",
    "sub_df2 = new_loan2[~new_loan2['Field Partner Name'].isin(counts[counts < 1000].index)].copy()"
   ]
  },
  {
   "cell_type": "code",
   "execution_count": 61,
   "metadata": {
    "hidden": true
   },
   "outputs": [
    {
     "data": {
      "text/plain": [
       "499055"
      ]
     },
     "execution_count": 61,
     "metadata": {},
     "output_type": "execute_result"
    }
   ],
   "source": [
    "len(sub_df2)"
   ]
  },
  {
   "cell_type": "code",
   "execution_count": 62,
   "metadata": {
    "hidden": true
   },
   "outputs": [],
   "source": [
    "sub_df2['status'] = np.where(sub_df2['funded_time'].isnull(), 'expired', 'funded')"
   ]
  },
  {
   "cell_type": "code",
   "execution_count": 63,
   "metadata": {
    "hidden": true
   },
   "outputs": [
    {
     "data": {
      "text/plain": [
       "funded     467419\n",
       "expired     31636\n",
       "Name: status, dtype: int64"
      ]
     },
     "execution_count": 63,
     "metadata": {},
     "output_type": "execute_result"
    }
   ],
   "source": [
    "sub_df2['status'].value_counts()"
   ]
  },
  {
   "cell_type": "code",
   "execution_count": 64,
   "metadata": {
    "hidden": true
   },
   "outputs": [],
   "source": [
    "df10 = sub_df2.groupby(['Field Partner Name', 'status']).size()/sub_df2.groupby('Field Partner Name').size()"
   ]
  },
  {
   "cell_type": "code",
   "execution_count": 65,
   "metadata": {
    "hidden": true
   },
   "outputs": [
    {
     "data": {
      "text/plain": [
       "172"
      ]
     },
     "execution_count": 65,
     "metadata": {},
     "output_type": "execute_result"
    }
   ],
   "source": [
    "len(df10)"
   ]
  },
  {
   "cell_type": "code",
   "execution_count": 66,
   "metadata": {
    "hidden": true
   },
   "outputs": [],
   "source": [
    "df10 = df10.to_frame()\n",
    "df10 = df10.rename(columns={0: 'percentage'})\n",
    "df10.reset_index(level=1, inplace=True)\n",
    "df10.reset_index(level=0, inplace=True)"
   ]
  },
  {
   "cell_type": "code",
   "execution_count": 67,
   "metadata": {
    "hidden": true
   },
   "outputs": [
    {
     "data": {
      "text/plain": [
       "array(['Field Partner Name', 'status', 'percentage'], dtype=object)"
      ]
     },
     "execution_count": 67,
     "metadata": {},
     "output_type": "execute_result"
    }
   ],
   "source": [
    "df10.columns.values"
   ]
  },
  {
   "cell_type": "code",
   "execution_count": 68,
   "metadata": {
    "hidden": true
   },
   "outputs": [],
   "source": [
    "# om plot wat beter leesbaar te maken\n",
    "df10['Field Partner Name']=df10['Field Partner Name'].replace({\"RÃ\\x8dÂ©seau de Micro-institutions de Croissance de Revenus (RMCR)\": \"RMCR\"})\n",
    "df10['Field Partner Name']=df10['Field Partner Name'].replace({\"Programme d'Appui aux Initiatives de DÃ\\x8dÂ©veloppement Economique au Kivu (PAIDEK)\": \"PAIDEK\"})\n",
    "df10['Field Partner Name']=df10['Field Partner Name'].replace({\"Micro Credit for Development and Transformation SACCO (MCDT SACCO)\": \"MCDT SACCO\"})\n",
    "df10['Field Partner Name']=df10['Field Partner Name'].replace({\"Together Association for Development and Environment (TADE)\": \"TADE\"})\n",
    "df10['Field Partner Name']=df10['Field Partner Name'].replace({\"FundaciÃ\\x8d_n Mario Santo Domingo (FMSD)\": \"Fundacion Mario Santo Domingo (FMSD)\"})\n",
    "df10['Field Partner Name']=df10['Field Partner Name'].replace({\"AsociaciÃ\\x8d_n Arariwa\": \"Asociacion Arariwa\"})\n",
    "df10['Field Partner Name']=df10['Field Partner Name'].replace({\"FundaciÃ\\x8d_n ESPOIR\": \"Fundacion ESPOIR\"})\n",
    "df10['Field Partner Name']=df10['Field Partner Name'].replace({\"CrÃ\\x8dÂ©dit Epargne Formation (CEFOR)\": \"Crédit Epargne Formation (CEFOR)\"})"
   ]
  },
  {
   "cell_type": "code",
   "execution_count": 69,
   "metadata": {
    "hidden": true
   },
   "outputs": [
    {
     "data": {
      "text/plain": [
       "172"
      ]
     },
     "execution_count": 69,
     "metadata": {},
     "output_type": "execute_result"
    }
   ],
   "source": [
    "len(df10)"
   ]
  },
  {
   "cell_type": "code",
   "execution_count": 70,
   "metadata": {
    "hidden": true
   },
   "outputs": [
    {
     "data": {
      "text/html": [
       "<div>\n",
       "<style scoped>\n",
       "    .dataframe tbody tr th:only-of-type {\n",
       "        vertical-align: middle;\n",
       "    }\n",
       "\n",
       "    .dataframe tbody tr th {\n",
       "        vertical-align: top;\n",
       "    }\n",
       "\n",
       "    .dataframe thead th {\n",
       "        text-align: right;\n",
       "    }\n",
       "</style>\n",
       "<table border=\"1\" class=\"dataframe\">\n",
       "  <thead>\n",
       "    <tr style=\"text-align: right;\">\n",
       "      <th></th>\n",
       "      <th>Field Partner Name</th>\n",
       "      <th>status</th>\n",
       "      <th>percentage</th>\n",
       "    </tr>\n",
       "  </thead>\n",
       "  <tbody>\n",
       "    <tr>\n",
       "      <td>0</td>\n",
       "      <td>ADICLA</td>\n",
       "      <td>expired</td>\n",
       "      <td>0.053922</td>\n",
       "    </tr>\n",
       "    <tr>\n",
       "      <td>1</td>\n",
       "      <td>ADICLA</td>\n",
       "      <td>funded</td>\n",
       "      <td>0.946078</td>\n",
       "    </tr>\n",
       "    <tr>\n",
       "      <td>2</td>\n",
       "      <td>Agro &amp; Social Fund</td>\n",
       "      <td>expired</td>\n",
       "      <td>0.126472</td>\n",
       "    </tr>\n",
       "    <tr>\n",
       "      <td>3</td>\n",
       "      <td>Agro &amp; Social Fund</td>\n",
       "      <td>funded</td>\n",
       "      <td>0.873528</td>\n",
       "    </tr>\n",
       "    <tr>\n",
       "      <td>4</td>\n",
       "      <td>Al Majmoua</td>\n",
       "      <td>expired</td>\n",
       "      <td>0.075274</td>\n",
       "    </tr>\n",
       "    <tr>\n",
       "      <td>5</td>\n",
       "      <td>Al Majmoua</td>\n",
       "      <td>funded</td>\n",
       "      <td>0.924726</td>\n",
       "    </tr>\n",
       "    <tr>\n",
       "      <td>6</td>\n",
       "      <td>Alalay sa Kaunlaran (ASKI)</td>\n",
       "      <td>expired</td>\n",
       "      <td>0.014516</td>\n",
       "    </tr>\n",
       "    <tr>\n",
       "      <td>7</td>\n",
       "      <td>Alalay sa Kaunlaran (ASKI)</td>\n",
       "      <td>funded</td>\n",
       "      <td>0.985484</td>\n",
       "    </tr>\n",
       "    <tr>\n",
       "      <td>8</td>\n",
       "      <td>Alivio Capital</td>\n",
       "      <td>expired</td>\n",
       "      <td>0.144279</td>\n",
       "    </tr>\n",
       "    <tr>\n",
       "      <td>9</td>\n",
       "      <td>Alivio Capital</td>\n",
       "      <td>funded</td>\n",
       "      <td>0.855721</td>\n",
       "    </tr>\n",
       "  </tbody>\n",
       "</table>\n",
       "</div>"
      ],
      "text/plain": [
       "           Field Partner Name   status  percentage\n",
       "0                      ADICLA  expired    0.053922\n",
       "1                      ADICLA   funded    0.946078\n",
       "2          Agro & Social Fund  expired    0.126472\n",
       "3          Agro & Social Fund   funded    0.873528\n",
       "4                  Al Majmoua  expired    0.075274\n",
       "5                  Al Majmoua   funded    0.924726\n",
       "6  Alalay sa Kaunlaran (ASKI)  expired    0.014516\n",
       "7  Alalay sa Kaunlaran (ASKI)   funded    0.985484\n",
       "8              Alivio Capital  expired    0.144279\n",
       "9              Alivio Capital   funded    0.855721"
      ]
     },
     "execution_count": 70,
     "metadata": {},
     "output_type": "execute_result"
    }
   ],
   "source": [
    "df10.head(10)"
   ]
  },
  {
   "cell_type": "code",
   "execution_count": 71,
   "metadata": {
    "hidden": true
   },
   "outputs": [
    {
     "data": {
      "text/html": [
       "<div>\n",
       "<style scoped>\n",
       "    .dataframe tbody tr th:only-of-type {\n",
       "        vertical-align: middle;\n",
       "    }\n",
       "\n",
       "    .dataframe tbody tr th {\n",
       "        vertical-align: top;\n",
       "    }\n",
       "\n",
       "    .dataframe thead th {\n",
       "        text-align: right;\n",
       "    }\n",
       "</style>\n",
       "<table border=\"1\" class=\"dataframe\">\n",
       "  <thead>\n",
       "    <tr style=\"text-align: right;\">\n",
       "      <th>status</th>\n",
       "      <th>expired</th>\n",
       "      <th>funded</th>\n",
       "    </tr>\n",
       "    <tr>\n",
       "      <th>Field Partner Name</th>\n",
       "      <th></th>\n",
       "      <th></th>\n",
       "    </tr>\n",
       "  </thead>\n",
       "  <tbody>\n",
       "    <tr>\n",
       "      <td>ADICLA</td>\n",
       "      <td>0.053922</td>\n",
       "      <td>0.946078</td>\n",
       "    </tr>\n",
       "    <tr>\n",
       "      <td>Agro &amp; Social Fund</td>\n",
       "      <td>0.126472</td>\n",
       "      <td>0.873528</td>\n",
       "    </tr>\n",
       "    <tr>\n",
       "      <td>Al Majmoua</td>\n",
       "      <td>0.075274</td>\n",
       "      <td>0.924726</td>\n",
       "    </tr>\n",
       "    <tr>\n",
       "      <td>Alalay sa Kaunlaran (ASKI)</td>\n",
       "      <td>0.014516</td>\n",
       "      <td>0.985484</td>\n",
       "    </tr>\n",
       "    <tr>\n",
       "      <td>Alivio Capital</td>\n",
       "      <td>0.144279</td>\n",
       "      <td>0.855721</td>\n",
       "    </tr>\n",
       "    <tr>\n",
       "      <td>...</td>\n",
       "      <td>...</td>\n",
       "      <td>...</td>\n",
       "    </tr>\n",
       "    <tr>\n",
       "      <td>VisionFund Cambodia</td>\n",
       "      <td>0.080659</td>\n",
       "      <td>0.919341</td>\n",
       "    </tr>\n",
       "    <tr>\n",
       "      <td>VisionFund Ecuador</td>\n",
       "      <td>0.042011</td>\n",
       "      <td>0.957989</td>\n",
       "    </tr>\n",
       "    <tr>\n",
       "      <td>VisionFund Kenya</td>\n",
       "      <td>0.063341</td>\n",
       "      <td>0.936659</td>\n",
       "    </tr>\n",
       "    <tr>\n",
       "      <td>Yehu Microfinance Trust</td>\n",
       "      <td>0.026139</td>\n",
       "      <td>0.973861</td>\n",
       "    </tr>\n",
       "    <tr>\n",
       "      <td>iDE Cambodia</td>\n",
       "      <td>0.004217</td>\n",
       "      <td>0.995783</td>\n",
       "    </tr>\n",
       "  </tbody>\n",
       "</table>\n",
       "<p>87 rows × 2 columns</p>\n",
       "</div>"
      ],
      "text/plain": [
       "status                       expired    funded\n",
       "Field Partner Name                            \n",
       "ADICLA                      0.053922  0.946078\n",
       "Agro & Social Fund          0.126472  0.873528\n",
       "Al Majmoua                  0.075274  0.924726\n",
       "Alalay sa Kaunlaran (ASKI)  0.014516  0.985484\n",
       "Alivio Capital              0.144279  0.855721\n",
       "...                              ...       ...\n",
       "VisionFund Cambodia         0.080659  0.919341\n",
       "VisionFund Ecuador          0.042011  0.957989\n",
       "VisionFund Kenya            0.063341  0.936659\n",
       "Yehu Microfinance Trust     0.026139  0.973861\n",
       "iDE Cambodia                0.004217  0.995783\n",
       "\n",
       "[87 rows x 2 columns]"
      ]
     },
     "execution_count": 71,
     "metadata": {},
     "output_type": "execute_result"
    }
   ],
   "source": [
    "df10 = df10.pivot(index='Field Partner Name', columns='status', values='percentage')\n",
    "df10"
   ]
  },
  {
   "cell_type": "code",
   "execution_count": 72,
   "metadata": {
    "hidden": true
   },
   "outputs": [],
   "source": [
    "df10['expired'] = df10['expired'].fillna(0)\n",
    "df10['funded'] = df10['funded'].fillna(0)\n",
    "\n",
    "df10['total'] = df10['expired'].fillna(0) + df10['funded'].fillna(0)\n",
    "df10 = df10.sort_values(by='funded', ascending=False)\n",
    "df10.reset_index(level=0, inplace=True)"
   ]
  },
  {
   "cell_type": "code",
   "execution_count": 73,
   "metadata": {
    "hidden": true
   },
   "outputs": [],
   "source": [
    "df10.iloc[:,1:] = df10.iloc[:,1:].mul(100)"
   ]
  },
  {
   "cell_type": "code",
   "execution_count": 74,
   "metadata": {
    "hidden": true,
    "scrolled": true
   },
   "outputs": [
    {
     "data": {
      "text/html": [
       "<div>\n",
       "<style scoped>\n",
       "    .dataframe tbody tr th:only-of-type {\n",
       "        vertical-align: middle;\n",
       "    }\n",
       "\n",
       "    .dataframe tbody tr th {\n",
       "        vertical-align: top;\n",
       "    }\n",
       "\n",
       "    .dataframe thead th {\n",
       "        text-align: right;\n",
       "    }\n",
       "</style>\n",
       "<table border=\"1\" class=\"dataframe\">\n",
       "  <thead>\n",
       "    <tr style=\"text-align: right;\">\n",
       "      <th>status</th>\n",
       "      <th>Field Partner Name</th>\n",
       "      <th>expired</th>\n",
       "      <th>funded</th>\n",
       "      <th>total</th>\n",
       "    </tr>\n",
       "  </thead>\n",
       "  <tbody>\n",
       "    <tr>\n",
       "      <td>0</td>\n",
       "      <td>Camfed Zimbabwe</td>\n",
       "      <td>0.000000</td>\n",
       "      <td>100.000000</td>\n",
       "      <td>100.0</td>\n",
       "    </tr>\n",
       "    <tr>\n",
       "      <td>1</td>\n",
       "      <td>Belghoria Janakalyan Samity</td>\n",
       "      <td>0.000000</td>\n",
       "      <td>100.000000</td>\n",
       "      <td>100.0</td>\n",
       "    </tr>\n",
       "    <tr>\n",
       "      <td>2</td>\n",
       "      <td>MCDT SACCO</td>\n",
       "      <td>0.065445</td>\n",
       "      <td>99.934555</td>\n",
       "      <td>100.0</td>\n",
       "    </tr>\n",
       "    <tr>\n",
       "      <td>3</td>\n",
       "      <td>AsociaciÍ_n Arariwa</td>\n",
       "      <td>0.125366</td>\n",
       "      <td>99.874634</td>\n",
       "      <td>100.0</td>\n",
       "    </tr>\n",
       "    <tr>\n",
       "      <td>4</td>\n",
       "      <td>EDAPROSPO</td>\n",
       "      <td>0.213980</td>\n",
       "      <td>99.786020</td>\n",
       "      <td>100.0</td>\n",
       "    </tr>\n",
       "    <tr>\n",
       "      <td>...</td>\n",
       "      <td>...</td>\n",
       "      <td>...</td>\n",
       "      <td>...</td>\n",
       "      <td>...</td>\n",
       "    </tr>\n",
       "    <tr>\n",
       "      <td>82</td>\n",
       "      <td>Interactuar</td>\n",
       "      <td>20.634921</td>\n",
       "      <td>79.365079</td>\n",
       "      <td>100.0</td>\n",
       "    </tr>\n",
       "    <tr>\n",
       "      <td>83</td>\n",
       "      <td>SEF International</td>\n",
       "      <td>21.852046</td>\n",
       "      <td>78.147954</td>\n",
       "      <td>100.0</td>\n",
       "    </tr>\n",
       "    <tr>\n",
       "      <td>84</td>\n",
       "      <td>Nor Horizon</td>\n",
       "      <td>22.204641</td>\n",
       "      <td>77.795359</td>\n",
       "      <td>100.0</td>\n",
       "    </tr>\n",
       "    <tr>\n",
       "      <td>85</td>\n",
       "      <td>CIDRE</td>\n",
       "      <td>23.056300</td>\n",
       "      <td>76.943700</td>\n",
       "      <td>100.0</td>\n",
       "    </tr>\n",
       "    <tr>\n",
       "      <td>86</td>\n",
       "      <td>Rekan Usaha Mikro Anda (Ruma)</td>\n",
       "      <td>30.399501</td>\n",
       "      <td>69.600499</td>\n",
       "      <td>100.0</td>\n",
       "    </tr>\n",
       "  </tbody>\n",
       "</table>\n",
       "<p>87 rows × 4 columns</p>\n",
       "</div>"
      ],
      "text/plain": [
       "status             Field Partner Name    expired      funded  total\n",
       "0                     Camfed Zimbabwe   0.000000  100.000000  100.0\n",
       "1         Belghoria Janakalyan Samity   0.000000  100.000000  100.0\n",
       "2                          MCDT SACCO   0.065445   99.934555  100.0\n",
       "3                 AsociaciÍ_n Arariwa   0.125366   99.874634  100.0\n",
       "4                           EDAPROSPO   0.213980   99.786020  100.0\n",
       "..                                ...        ...         ...    ...\n",
       "82                        Interactuar  20.634921   79.365079  100.0\n",
       "83                  SEF International  21.852046   78.147954  100.0\n",
       "84                        Nor Horizon  22.204641   77.795359  100.0\n",
       "85                              CIDRE  23.056300   76.943700  100.0\n",
       "86      Rekan Usaha Mikro Anda (Ruma)  30.399501   69.600499  100.0\n",
       "\n",
       "[87 rows x 4 columns]"
      ]
     },
     "execution_count": 74,
     "metadata": {},
     "output_type": "execute_result"
    }
   ],
   "source": [
    "df10"
   ]
  },
  {
   "cell_type": "markdown",
   "metadata": {
    "hidden": true
   },
   "source": [
    "Worst field partners"
   ]
  },
  {
   "cell_type": "code",
   "execution_count": 75,
   "metadata": {
    "hidden": true
   },
   "outputs": [
    {
     "data": {
      "image/png": "[encoded data removed]",
      "text/plain": [
       "<Figure size 1080x720 with 1 Axes>"
      ]
     },
     "metadata": {
      "needs_background": "light"
     },
     "output_type": "display_data"
    }
   ],
   "source": [
    "s_force_order = df10.sort_values('expired', ascending=False)['Field Partner Name'].head(40)\n",
    "\n",
    "fig, ax = plt.subplots(figsize=(15, 10))\n",
    "\n",
    "sns.barplot(x='funded', y='Field Partner Name', data=df10,\n",
    "            label='funded', color='mediumspringgreen', order=s_force_order)\n",
    "\n",
    "sns.barplot(x='expired', y='Field Partner Name', data=df10,\n",
    "            label='expired', color='salmon', order=s_force_order)\n",
    "\n",
    "ax.legend(ncol=2, loc='best', frameon=True)\n",
    "ax.set(ylabel='Field Partner Name',\n",
    "       xlabel='percentage')\n",
    "\n",
    "leg = ax.get_legend()\n",
    "new_title = 'Loan outcome?'\n",
    "leg.set_title(new_title)\n",
    "ax.set_title('Top 40 of field partners with more than 1 000 loans according to the % expired loans', fontsize=15)\n",
    "plt.show()"
   ]
  },
  {
   "cell_type": "markdown",
   "metadata": {
    "hidden": true
   },
   "source": []
  },
  {
   "cell_type": "code",
   "execution_count": 76,
   "metadata": {
    "hidden": true
   },
   "outputs": [
    {
     "data": {
      "image/png": "[encoded data removed]",
      "text/plain": [
       "<Figure size 576x432 with 1 Axes>"
      ]
     },
     "metadata": {
      "needs_background": "light"
     },
     "output_type": "display_data"
    }
   ],
   "source": [
    "s_force_order = df10.sort_values('expired', ascending=False)['Field Partner Name'].head(20)\n",
    "\n",
    "fig, ax = plt.subplots(figsize=(8, 6))\n",
    "\n",
    "sns.barplot(x='expired', y='Field Partner Name', data=df10,\n",
    "            label='expired', color='dodgerblue', order=s_force_order)\n",
    "\n",
    "#ax.legend(ncol=2, loc='best', frameon=True)\n",
    "ax.set(ylabel='Field Partner Name',\n",
    "       xlabel='Percentage expired loans')\n",
    "\n",
    "#leg = ax.get_legend()\n",
    "#new_title = 'Loan outcome?'\n",
    "#leg.set_title(new_title)\n",
    "#ax.set_title('Top 40 of field partners with more than 1 000 loans according to the % expired loans', fontsize=15)\n",
    "plt.show()\n",
    "fig.savefig('field_%expired_worst.png', bbox_inches='tight')"
   ]
  },
  {
   "cell_type": "markdown",
   "metadata": {
    "hidden": true
   },
   "source": []
  },
  {
   "cell_type": "markdown",
   "metadata": {
    "heading_collapsed": true
   },
   "source": [
    "## Top 40 of field partners with more than 1 000 loans according to the % funded loans``"
   ]
  },
  {
   "cell_type": "code",
   "execution_count": 77,
   "metadata": {
    "hidden": true
   },
   "outputs": [
    {
     "data": {
      "image/png": "[encoded data removed]",
      "text/plain": [
       "<Figure size 1080x720 with 1 Axes>"
      ]
     },
     "metadata": {
      "needs_background": "light"
     },
     "output_type": "display_data"
    }
   ],
   "source": [
    "s_force_order = df10.sort_values('funded', ascending=False)['Field Partner Name'].head(40)\n",
    "\n",
    "fig, ax = plt.subplots(figsize=(15, 10))\n",
    "\n",
    "sns.barplot(x='funded', y='Field Partner Name', data=df10,\n",
    "            label='funded', color='mediumspringgreen', order=s_force_order)\n",
    "\n",
    "sns.barplot(x='expired', y='Field Partner Name', data=df10,\n",
    "            label='expired', color='salmon', order=s_force_order)\n",
    "\n",
    "ax.legend(ncol=2, loc='best', frameon=True)\n",
    "ax.set(ylabel='Field Partner Name',\n",
    "       xlabel='percentage')\n",
    "\n",
    "leg = ax.get_legend()\n",
    "new_title = 'Loan outcome?'\n",
    "leg.set_title(new_title)\n",
    "ax.set_title('Top 40 of field partners with more than 1 000 loans according to the % funded loans', fontsize=15)\n",
    "plt.show()"
   ]
  },
  {
   "cell_type": "code",
   "execution_count": 78,
   "metadata": {
    "hidden": true
   },
   "outputs": [
    {
     "data": {
      "image/png": "[encoded data removed]",
      "text/plain": [
       "<Figure size 576x432 with 1 Axes>"
      ]
     },
     "metadata": {
      "needs_background": "light"
     },
     "output_type": "display_data"
    }
   ],
   "source": [
    "s_force_order = df10.sort_values('funded', ascending=False)['Field Partner Name'].head(20)\n",
    "\n",
    "fig, ax = plt.subplots(figsize=(8, 6))\n",
    "\n",
    "sns.barplot(x='expired', y='Field Partner Name', data=df10,\n",
    "            label='expired', color='mediumspringgreen', order=s_force_order)\n",
    "\n",
    "#ax.legend(ncol=2, loc='best', frameon=True)\n",
    "ax.set(ylabel='Field Partner Name',\n",
    "       xlabel='Percentage expired loans')\n",
    "\n",
    "#leg = ax.get_legend()\n",
    "#new_title = 'Loan outcome?'\n",
    "#leg.set_title(new_title)\n",
    "#ax.set_title('Top 40 of field partners with more than 1 000 loans according to the % funded loans', fontsize=15)\n",
    "plt.show()\n",
    "fig.savefig('field_%expired_best.png', bbox_inches='tight')"
   ]
  },
  {
   "cell_type": "code",
   "execution_count": null,
   "metadata": {
    "hidden": true
   },
   "outputs": [],
   "source": []
  },
  {
   "cell_type": "markdown",
   "metadata": {},
   "source": [
    "# Expired loans per sector"
   ]
  },
  {
   "cell_type": "markdown",
   "metadata": {
    "heading_collapsed": true
   },
   "source": [
    "## Percentages"
   ]
  },
  {
   "cell_type": "code",
   "execution_count": 79,
   "metadata": {
    "hidden": true
   },
   "outputs": [
    {
     "data": {
      "text/plain": [
       "array(['BRAC Pakistan', 'Kashf Foundation', 'JWS Pakistan',\n",
       "       'N/A, direct to EcoEnergy'], dtype=object)"
      ]
     },
     "execution_count": 79,
     "metadata": {},
     "output_type": "execute_result"
    }
   ],
   "source": [
    "new_loan2['Field Partner Name'][new_loan2[\"country\"] == 'Pakistan'].unique()"
   ]
  },
  {
   "cell_type": "code",
   "execution_count": 80,
   "metadata": {
    "hidden": true
   },
   "outputs": [
    {
     "data": {
      "text/plain": [
       "array(['Negros Women for Tomorrow Foundation (NWTF)',\n",
       "       'Alalay sa Kaunlaran (ASKI)',\n",
       "       'Paglaum Multi-Purpose Cooperative (PMPC)',\n",
       "       'Community Economic Ventures, Inc. (CEVI)',\n",
       "       'Gata Daku Multi-purpose Cooperative (GDMPC)',\n",
       "       'CCT Credit Cooperative', 'BagoSphere', 'SEED Center Philippines',\n",
       "       'N/A, direct to Kalsada'], dtype=object)"
      ]
     },
     "execution_count": 80,
     "metadata": {},
     "output_type": "execute_result"
    }
   ],
   "source": [
    "new_loan2['Field Partner Name'][new_loan2[\"country\"] == 'Philippines'].unique()"
   ]
  },
  {
   "cell_type": "code",
   "execution_count": 81,
   "metadata": {
    "hidden": true
   },
   "outputs": [],
   "source": [
    "import numpy as np\n",
    "import pandas as pd\n",
    "import seaborn as sns\n",
    "import matplotlib.pyplot as plt\n",
    "from scipy import stats"
   ]
  },
  {
   "cell_type": "code",
   "execution_count": 86,
   "metadata": {
    "hidden": true
   },
   "outputs": [],
   "source": [
    "# Sample of loans from 2012-2017 and only field_partner loans\n",
    "merge1=merge1[(merge1['year']>=2012) & (merge1['year']<=2017) & (merge1['distribution_model']=='field_partner')]"
   ]
  },
  {
   "cell_type": "code",
   "execution_count": 87,
   "metadata": {
    "hidden": true
   },
   "outputs": [],
   "source": [
    "merge_expired = merge1[merge1['status'] == 'expired'].copy()"
   ]
  },
  {
   "cell_type": "code",
   "execution_count": 88,
   "metadata": {
    "hidden": true
   },
   "outputs": [
    {
     "data": {
      "text/plain": [
       "Agriculture       9891\n",
       "Retail            8734\n",
       "Food              5923\n",
       "Housing           2986\n",
       "Clothing          2282\n",
       "Services          2210\n",
       "Transportation    1324\n",
       "Personal Use       961\n",
       "Education          425\n",
       "Construction       122\n",
       "Health              71\n",
       "Arts                28\n",
       "Wholesale           11\n",
       "Entertainment        1\n",
       "Name: sector_name, dtype: int64"
      ]
     },
     "execution_count": 88,
     "metadata": {},
     "output_type": "execute_result"
    }
   ],
   "source": [
    "expired_sector = merge_expired['sector_name'].value_counts()\n",
    "expired_sector"
   ]
  },
  {
   "cell_type": "code",
   "execution_count": 89,
   "metadata": {
    "hidden": true
   },
   "outputs": [
    {
     "data": {
      "text/plain": [
       "Agriculture       166371\n",
       "Food              129878\n",
       "Retail            123939\n",
       "Personal Use       38635\n",
       "Services           36813\n",
       "Housing            28260\n",
       "Clothing           27893\n",
       "Education          20352\n",
       "Transportation     14643\n",
       "Arts               10012\n",
       "Health              5847\n",
       "Manufacturing       5497\n",
       "Construction        4840\n",
       "Wholesale            544\n",
       "Entertainment        486\n",
       "Name: sector_name, dtype: int64"
      ]
     },
     "execution_count": 89,
     "metadata": {},
     "output_type": "execute_result"
    }
   ],
   "source": [
    "total_sector = merge1['sector_name'].value_counts()\n",
    "total_sector"
   ]
  },
  {
   "cell_type": "code",
   "execution_count": 90,
   "metadata": {
    "hidden": true
   },
   "outputs": [
    {
     "data": {
      "text/plain": [
       "Agriculture        5.945147\n",
       "Arts               0.279664\n",
       "Clothing           8.181264\n",
       "Construction       2.520661\n",
       "Education          2.088247\n",
       "Entertainment      0.205761\n",
       "Food               4.560434\n",
       "Health             1.214298\n",
       "Housing           10.566171\n",
       "Manufacturing           NaN\n",
       "Personal Use       2.487382\n",
       "Retail             7.047015\n",
       "Services           6.003314\n",
       "Transportation     9.041863\n",
       "Wholesale          2.022059\n",
       "Name: sector_name, dtype: float64"
      ]
     },
     "execution_count": 90,
     "metadata": {},
     "output_type": "execute_result"
    }
   ],
   "source": [
    "verhouding = (expired_sector/total_sector)*100\n",
    "verhouding"
   ]
  },
  {
   "cell_type": "code",
   "execution_count": 91,
   "metadata": {
    "hidden": true
   },
   "outputs": [
    {
     "data": {
      "image/png": "[encoded data removed]",
      "text/plain": [
       "<Figure size 432x288 with 1 Axes>"
      ]
     },
     "metadata": {
      "needs_background": "light"
     },
     "output_type": "display_data"
    }
   ],
   "source": [
    "fig = plt.figure()\n",
    "verhouding.plot(kind='bar')\n",
    "plt.xlabel('Sector')\n",
    "plt.ylabel('Percentage expired loans')\n",
    "fig.savefig('sector_%expired.png', bbox_inches='tight')"
   ]
  },
  {
   "cell_type": "markdown",
   "metadata": {
    "heading_collapsed": true
   },
   "source": [
    "## Absolute values"
   ]
  },
  {
   "cell_type": "code",
   "execution_count": 92,
   "metadata": {
    "hidden": true
   },
   "outputs": [
    {
     "data": {
      "text/plain": [
       "<Figure size 432x288 with 0 Axes>"
      ]
     },
     "metadata": {},
     "output_type": "display_data"
    },
    {
     "data": {
      "image/png": "[encoded data removed]",
      "text/plain": [
       "<Figure size 576x432 with 1 Axes>"
      ]
     },
     "metadata": {
      "needs_background": "light"
     },
     "output_type": "display_data"
    }
   ],
   "source": [
    "fig = plt.figure()\n",
    "plt.figure(figsize=(8,6))\n",
    "sector_name = merge1['sector_name'].value_counts()\n",
    "bar = sns.barplot(sector_name.values, sector_name.index)\n",
    "for i, v in enumerate(sector_name.values):\n",
    "    plt.text(3000,i,v,color='k',fontsize=10)\n",
    "bar.set(xlabel='Number of loans', ylabel='Sector')\n",
    "bar.figure.savefig(\"sector_absolute.png\", bbox_inches='tight')"
   ]
  },
  {
   "cell_type": "markdown",
   "metadata": {
    "heading_collapsed": true
   },
   "source": [
    "# Number of loans per country"
   ]
  },
  {
   "cell_type": "code",
   "execution_count": 93,
   "metadata": {
    "hidden": true,
    "scrolled": false
   },
   "outputs": [
    {
     "data": {
      "text/plain": [
       "<Figure size 432x288 with 0 Axes>"
      ]
     },
     "metadata": {},
     "output_type": "display_data"
    },
    {
     "data": {
      "image/png": "[encoded data removed]",
      "text/plain": [
       "<Figure size 432x576 with 1 Axes>"
      ]
     },
     "metadata": {
      "needs_background": "light"
     },
     "output_type": "display_data"
    }
   ],
   "source": [
    "fig = plt.figure()\n",
    "plt.figure(figsize=(6,8))\n",
    "country = merge1['country_name'].value_counts().head(10)\n",
    "bar2 = sns.barplot(country.values, country.index, )\n",
    "for i, v in enumerate(country.values):\n",
    "    plt.text(0.8,i,v,color='k',fontsize=14)\n",
    "bar2.set(xlabel='Number of loans', ylabel='Country')\n",
    "bar2.figure.savefig(\"country_absolute.png\", bbox_inches='tight')"
   ]
  },
  {
   "cell_type": "markdown",
   "metadata": {
    "heading_collapsed": true
   },
   "source": [
    "# Percentage expired loans per gender"
   ]
  },
  {
   "cell_type": "code",
   "execution_count": 101,
   "metadata": {
    "hidden": true
   },
   "outputs": [
    {
     "data": {
      "text/plain": [
       "614010"
      ]
     },
     "execution_count": 101,
     "metadata": {},
     "output_type": "execute_result"
    }
   ],
   "source": [
    "len(merge1)"
   ]
  },
  {
   "cell_type": "code",
   "execution_count": 96,
   "metadata": {
    "hidden": true
   },
   "outputs": [
    {
     "data": {
      "text/plain": [
       "female    481558\n",
       "male      132452\n",
       "Name: gender_reclassified, dtype: int64"
      ]
     },
     "execution_count": 96,
     "metadata": {},
     "output_type": "execute_result"
    }
   ],
   "source": [
    "merge1['gender_reclassified'].value_counts()"
   ]
  },
  {
   "cell_type": "code",
   "execution_count": 97,
   "metadata": {
    "hidden": true
   },
   "outputs": [
    {
     "data": {
      "text/html": [
       "<div>\n",
       "<style scoped>\n",
       "    .dataframe tbody tr th:only-of-type {\n",
       "        vertical-align: middle;\n",
       "    }\n",
       "\n",
       "    .dataframe tbody tr th {\n",
       "        vertical-align: top;\n",
       "    }\n",
       "\n",
       "    .dataframe thead th {\n",
       "        text-align: right;\n",
       "    }\n",
       "</style>\n",
       "<table border=\"1\" class=\"dataframe\">\n",
       "  <thead>\n",
       "    <tr style=\"text-align: right;\">\n",
       "      <th></th>\n",
       "      <th>expired</th>\n",
       "      <th>funded</th>\n",
       "      <th>rowtotal</th>\n",
       "    </tr>\n",
       "  </thead>\n",
       "  <tbody>\n",
       "    <tr>\n",
       "      <td>female</td>\n",
       "      <td>16947</td>\n",
       "      <td>464611</td>\n",
       "      <td>481558</td>\n",
       "    </tr>\n",
       "    <tr>\n",
       "      <td>male</td>\n",
       "      <td>18022</td>\n",
       "      <td>114430</td>\n",
       "      <td>132452</td>\n",
       "    </tr>\n",
       "    <tr>\n",
       "      <td>coltotal</td>\n",
       "      <td>34969</td>\n",
       "      <td>579041</td>\n",
       "      <td>614010</td>\n",
       "    </tr>\n",
       "  </tbody>\n",
       "</table>\n",
       "</div>"
      ],
      "text/plain": [
       "          expired  funded  rowtotal\n",
       "female      16947  464611    481558\n",
       "male        18022  114430    132452\n",
       "coltotal    34969  579041    614010"
      ]
     },
     "execution_count": 97,
     "metadata": {},
     "output_type": "execute_result"
    }
   ],
   "source": [
    "# Table of status vs gender reclassified\n",
    "target_gender = pd.crosstab(index=merge1[\"gender_reclassified\"], \n",
    "                            columns=merge1[\"status\"],\n",
    "                             margins=True)   # Include row and column totals\n",
    "target_gender.columns = [\"expired\",\"funded\",\"rowtotal\"]\n",
    "target_gender.index= [\"female\",\"male\",\"coltotal\"]\n",
    "target_gender"
   ]
  },
  {
   "cell_type": "code",
   "execution_count": 98,
   "metadata": {
    "hidden": true
   },
   "outputs": [
    {
     "data": {
      "text/html": [
       "<div>\n",
       "<style scoped>\n",
       "    .dataframe tbody tr th:only-of-type {\n",
       "        vertical-align: middle;\n",
       "    }\n",
       "\n",
       "    .dataframe tbody tr th {\n",
       "        vertical-align: top;\n",
       "    }\n",
       "\n",
       "    .dataframe thead th {\n",
       "        text-align: right;\n",
       "    }\n",
       "</style>\n",
       "<table border=\"1\" class=\"dataframe\">\n",
       "  <thead>\n",
       "    <tr style=\"text-align: right;\">\n",
       "      <th></th>\n",
       "      <th>expired</th>\n",
       "      <th>funded</th>\n",
       "      <th>rowtotal</th>\n",
       "    </tr>\n",
       "  </thead>\n",
       "  <tbody>\n",
       "    <tr>\n",
       "      <td>female</td>\n",
       "      <td>3.519202</td>\n",
       "      <td>96.480798</td>\n",
       "      <td>100.0</td>\n",
       "    </tr>\n",
       "    <tr>\n",
       "      <td>male</td>\n",
       "      <td>13.606439</td>\n",
       "      <td>86.393561</td>\n",
       "      <td>100.0</td>\n",
       "    </tr>\n",
       "    <tr>\n",
       "      <td>coltotal</td>\n",
       "      <td>5.695184</td>\n",
       "      <td>94.304816</td>\n",
       "      <td>100.0</td>\n",
       "    </tr>\n",
       "  </tbody>\n",
       "</table>\n",
       "</div>"
      ],
      "text/plain": [
       "            expired     funded  rowtotal\n",
       "female     3.519202  96.480798     100.0\n",
       "male      13.606439  86.393561     100.0\n",
       "coltotal   5.695184  94.304816     100.0"
      ]
     },
     "execution_count": 98,
     "metadata": {},
     "output_type": "execute_result"
    }
   ],
   "source": [
    "# Proportions\n",
    "target_gender_proportions=target_gender.div(target_gender[\"rowtotal\"],\n",
    "                   axis=0)\n",
    "target_gender_proportions = target_gender_proportions*100\n",
    "target_gender_proportions"
   ]
  },
  {
   "cell_type": "code",
   "execution_count": 99,
   "metadata": {
    "hidden": true
   },
   "outputs": [],
   "source": [
    "target_gender_proportions=target_gender_proportions.loc[['female', 'male'], :'expired']"
   ]
  },
  {
   "cell_type": "code",
   "execution_count": 100,
   "metadata": {
    "hidden": true
   },
   "outputs": [
    {
     "data": {
      "text/plain": [
       "<Figure size 432x288 with 0 Axes>"
      ]
     },
     "metadata": {},
     "output_type": "display_data"
    },
    {
     "data": {
      "image/png": "[encoded data removed]",
      "text/plain": [
       "<Figure size 576x576 with 1 Axes>"
      ]
     },
     "metadata": {
      "needs_background": "light"
     },
     "output_type": "display_data"
    }
   ],
   "source": [
    "fig = plt.figure()\n",
    "target_gender_proportions.plot(kind=\"bar\", \n",
    "                 figsize=(8,8),legend=None)\n",
    "plt.xticks(rotation='horizontal')\n",
    "plt.xlabel('Gender')\n",
    "plt.ylabel('Percentage expired loans')\n",
    "fig.savefig('Gender_%expired.png', bbox_inches='tight')"
   ]
  },
  {
   "cell_type": "code",
   "execution_count": null,
   "metadata": {
    "hidden": true
   },
   "outputs": [],
   "source": []
  },
  {
   "cell_type": "code",
   "execution_count": null,
   "metadata": {
    "hidden": true
   },
   "outputs": [],
   "source": []
  }
 ],
 "metadata": {
  "kernelspec": {
   "display_name": "Python 3",
   "language": "python",
   "name": "python3"
  },
  "language_info": {
   "codemirror_mode": {
    "name": "ipython",
    "version": 3
   },
   "file_extension": ".py",
   "mimetype": "text/x-python",
   "name": "python",
   "nbconvert_exporter": "python",
   "pygments_lexer": "ipython3",
   "version": "3.7.4"
  },
  "toc": {
   "base_numbering": 1,
   "nav_menu": {},
   "number_sections": true,
   "sideBar": true,
   "skip_h1_title": false,
   "title_cell": "Table of Contents",
   "title_sidebar": "Contents",
   "toc_cell": false,
   "toc_position": {},
   "toc_section_display": true,
   "toc_window_display": false
  }
 },
 "nbformat": 4,
 "nbformat_minor": 2
}
