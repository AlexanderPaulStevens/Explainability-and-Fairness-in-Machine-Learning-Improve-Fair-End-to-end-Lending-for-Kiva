{
 "cells": [
  {
   "cell_type": "markdown",
   "metadata": {
    "toc": true
   },
   "source": [
    "<h1>Table of Contents<span class=\"tocSkip\"></span></h1>\n",
    "<div class=\"toc\"><ul class=\"toc-item\"><li><span><a href=\"#Kiva-Dataset-cleaning\" data-toc-modified-id=\"Kiva-Dataset-cleaning-1\"><span class=\"toc-item-num\">1&nbsp;&nbsp;</span>Kiva Dataset cleaning</a></span><ul class=\"toc-item\"><li><span><a href=\"#Data-description\" data-toc-modified-id=\"Data-description-1.1\"><span class=\"toc-item-num\">1.1&nbsp;&nbsp;</span>Data description</a></span><ul class=\"toc-item\"><li><span><a href=\"#Kaggle-datasets\" data-toc-modified-id=\"Kaggle-datasets-1.1.1\"><span class=\"toc-item-num\">1.1.1&nbsp;&nbsp;</span>Kaggle datasets</a></span></li><li><span><a href=\"#Additional-Kiva-Datasets\" data-toc-modified-id=\"Additional-Kiva-Datasets-1.1.2\"><span class=\"toc-item-num\">1.1.2&nbsp;&nbsp;</span>Additional Kiva Datasets</a></span></li></ul></li><li><span><a href=\"#Preprocessing\" data-toc-modified-id=\"Preprocessing-1.2\"><span class=\"toc-item-num\">1.2&nbsp;&nbsp;</span>Preprocessing</a></span></li><li><span><a href=\"#Data-transformation\" data-toc-modified-id=\"Data-transformation-1.3\"><span class=\"toc-item-num\">1.3&nbsp;&nbsp;</span>Data transformation</a></span><ul class=\"toc-item\"><li><span><a href=\"#Data-cleaning\" data-toc-modified-id=\"Data-cleaning-1.3.1\"><span class=\"toc-item-num\">1.3.1&nbsp;&nbsp;</span>Data cleaning</a></span></li><li><span><a href=\"#Gender-reclassified-and-borrower_count\" data-toc-modified-id=\"Gender-reclassified-and-borrower_count-1.3.2\"><span class=\"toc-item-num\">1.3.2&nbsp;&nbsp;</span>Gender reclassified and borrower_count</a></span></li></ul></li><li><span><a href=\"#Preprocessing-step-2-(for-every-dataframe)\" data-toc-modified-id=\"Preprocessing-step-2-(for-every-dataframe)-1.4\"><span class=\"toc-item-num\">1.4&nbsp;&nbsp;</span>Preprocessing step 2 (for every dataframe)</a></span><ul class=\"toc-item\"><li><span><a href=\"#MERGE-1\" data-toc-modified-id=\"MERGE-1-1.4.1\"><span class=\"toc-item-num\">1.4.1&nbsp;&nbsp;</span>MERGE 1</a></span><ul class=\"toc-item\"><li><span><a href=\"#missing-values\" data-toc-modified-id=\"missing-values-1.4.1.1\"><span class=\"toc-item-num\">1.4.1.1&nbsp;&nbsp;</span>missing values</a></span></li></ul></li><li><span><a href=\"#THEMEREGION\" data-toc-modified-id=\"THEMEREGION-1.4.2\"><span class=\"toc-item-num\">1.4.2&nbsp;&nbsp;</span>THEMEREGION</a></span></li><li><span><a href=\"#REGLOC\" data-toc-modified-id=\"REGLOC-1.4.3\"><span class=\"toc-item-num\">1.4.3&nbsp;&nbsp;</span>REGLOC</a></span></li></ul></li><li><span><a href=\"#Data-transformation\" data-toc-modified-id=\"Data-transformation-1.5\"><span class=\"toc-item-num\">1.5&nbsp;&nbsp;</span>Data transformation</a></span><ul class=\"toc-item\"><li><span><a href=\"#Resampling\" data-toc-modified-id=\"Resampling-1.5.1\"><span class=\"toc-item-num\">1.5.1&nbsp;&nbsp;</span>Resampling</a></span></li></ul></li></ul></li></ul></div>"
   ]
  },
  {
   "cell_type": "markdown",
   "metadata": {},
   "source": [
    "# Kiva Dataset cleaning"
   ]
  },
  {
   "cell_type": "markdown",
   "metadata": {},
   "source": [
    "<table>\n",
    "  <thead>\n",
    "    <tr>\n",
    "      <th>Step</th>\n",
    "      <th>Explanation</th>\n",
    "      <th>Dataset size</th>\n",
    "    </tr>\n",
    "  </thead>\n",
    "  <tbody>\n",
    "    <tr>\n",
    "      <td>1</td>\n",
    "      <td>Original dataset (without the datasets df_theme,df_regloc and df_themeregion)</td>\n",
    "      <td>1,409,421</td>  \n",
    "    </tr>\n",
    "    <tr>\n",
    "      <td>2</td>\n",
    "      <td>Remove refunded/fundraising/2011/2018</td>\n",
    "      <td>1,029,584</td>\n",
    "    </tr>\n",
    "    <tr>\n",
    "      <td>3</td>\n",
    "      <td>Create gender reclassified/borrower count/loan type and remove NaN gender reclassified</td>\n",
    "      <td>1,003,488</td>\n",
    "    </tr>\n",
    "    <tr>\n",
    "      <td>4</td>\n",
    "      <td>Merge with df_theme</td>\n",
    "      <td>744,217</td>\n",
    "    </tr>\n",
    "    <tr>\n",
    "      <td>5</td>\n",
    "      <td>Merge with df_regloc</td>\n",
    "      <td>614,010</td>\n",
    "    </tr>\n",
    "    <tr>\n",
    "      <td>6</td>\n",
    "      <td>Down-sampling of majority class</td>\n",
    "      <td>69,938</td>\n",
    "    </tr>\n",
    "  </tbody>\n",
    "</table>\n"
   ]
  },
  {
   "cell_type": "markdown",
   "metadata": {},
   "source": [
    "## Data description"
   ]
  },
  {
   "cell_type": "markdown",
   "metadata": {},
   "source": [
    "### Kaggle datasets\n",
    "- <span style=\"color:red\">df_loans</span>: dataset containing loans posted in the period 2014-2017\n",
    "    * id, funded_amount, loan_amount, activity, sector, use ,country_code, country, region, currency, partner_id, posted_time, disbursed_time, funded_time, lender_count, tags, borrower_genders\n",
    "    * term_in_months: number of months over which loan was scheduled to be paid back\n",
    "    * repayment_interval:\n",
    "        - 'irregular': repayments due along harvest or market cycles that do not align neatly with calendar-based time periods. \n",
    "        - 'monthly':\n",
    "        - 'bullet': means the bulk of the repayment is due nearer to the end term date.\n",
    "        - 'weekly':\n",
    "    * date: date on which loan was posted → same as variable 'posted_time' so can be removed !!!\n",
    "- <span style=\"color:red\">df_theme</span>: Loan Themes are loan categories within a given partnership. For instance, a microfinance lender may have small business loans, farming loans, and health loans, all with different terms, prices, and repayment schedules, so those all count as different loan themes.\n",
    "    * id: Unique ID for loan (Loan ID) \n",
    "    * Loan Theme ID: Unique ID for loan theme \n",
    "    * Loan Theme Type: General description of the loan theme category \n",
    "    * Partner ID: Unique ID for field partners  \n",
    "\n",
    "- <span style=\"color:red\">df_themeregion</span>\n",
    "    *\tPartner ID: Unique ID for field partners \n",
    "    *\tField Partner Name: Name of Field Partner \n",
    "    *\tsector: Sector in which a loan is placed on Kiva's main page \n",
    "    *\tLoan Theme ID: Unique ID for loan theme \n",
    "    *\tLoan Theme Type: General description of the loan theme category \n",
    "    *\tcountry: country name \n",
    "    *\tforkiva: Was this loan theme created specifically for Kiva? \n",
    "    *\tregion: Region within country \n",
    "    *\tgeocode_old: Kiva's old geocoding system Lots of missing values\n",
    "    *\tISO: Unique ID for country \n",
    "    *\tnumber: Number of loans funded in this LocationName and this loan theme \n",
    "    *\tamount: Dollar value of loans funded in this LocationName and this loan theme \n",
    "    *\tLocationName: \"{region}, {country}\" - Unique ID for region \n",
    "    *\tgeocode: Lat-Lon pair \n",
    "    *\tnames: All placenames that the Gmaps API associates with LocationName \n",
    "    *\tgeo: Lat-Lon pair \n",
    "    *\tlat: latitude \n",
    "    *\tlon: longitude \n",
    "    *\tmpi_region: MPI Region where we think this loan theme is located \n",
    "    *\tmpi_geo: Lat-Lon pair where we think this MPI region is located \n",
    "    *\trural_pct: The percentage of this field partners' borrowers that are in rural areas\n",
    "\n",
    "- <span style=\"color:red\">df_regloc</span> \n",
    "    *\tLocationName: \"{region}, {country}\" - Unique ID for region \n",
    "    *\tISO: Unique ID for country \n",
    "    *\tcountry: country name \n",
    "    *\tregion: name of location within country \n",
    "    *\tworld_region: General global region \n",
    "    *\tMPI: Multi-dimensional poverty index for this region \n",
    "    *\tgeo: Lat-Lon pair \n",
    "    *\tlat: latitude \n",
    "    *\tlon: longitude "
   ]
  },
  {
   "cell_type": "markdown",
   "metadata": {},
   "source": [
    "### Additional Kiva Datasets\n",
    "- <span style=\"color:red\">df_loans2</span>: dataset containing loans posted in the period 2006-2018\n",
    "    * Status:\n",
    "        - 'expired': if a loan doesn’t fully fund within 30 days of being listed on the website, it “expires.”\n",
    "        - 'fundRaising': This status indicates that the loan has not yet been funded. Lenders can only lend to loans that are in the fundraising status.\n",
    "        - 'funded': indicates that the loan request has been completely funded and is not available for new loans by lenders.<span style=\"color:red\">→ Take this as target variable???</span> \n",
    "        - 'refunded': refund the funded portion of the loan to the lenders mostly because of an error (rare situation)\n",
    "        \n",
    "    * disburse_time: The date on which the loan was/will actually be disbursed to the borrower \n",
    "    * posted_time: Date when loan was posted on Kiva.  \n",
    "    * planned_expiration_time: When the loan will expire if it is not fully funded\n",
    "    * raised_time (=funded_time): When the loan became raised, e.g. fully funded. \n",
    "    * lender_term: The number of months it will take the borrower to repay the loan\n",
    "    * num_journal_entries: Number of journal entries (updates on the Kiva website) by borrower.\n",
    "    * num_bulk_entries:\n",
    "    * repayment_interval:\n",
    "        - 'irregular': repayments due along harvest or market cycles that do not align neatly with calendar-based time periods. \n",
    "        - 'monthly':\n",
    "        - 'bullet': means the bulk of the repayment is due nearer to the end term date.\n",
    "        - 'weekly':\n",
    "    * distribution_model: How the loan is distributed to the borrower, e.g. 'field_partner' or 'direct'\n",
    "- <span style=\"color:red\">df_lenders</span>: contains information about lenders who became a member in the period 2006-2018\n",
    "    * permanent_name\n",
    "    * display_name\n",
    "    * member_since\n",
    "    * loan_because\n",
    "    * num_invited: The number of registered users invited by this lender.\n",
    "    * loan_purchase_num: The total number of loans made by the lender. (Niet zeker of dit klopt???)\n",
    "- <span style=\"color:red\">df_loans_lenders</span>\n",
    "- <span style=\"color:red\">df_descriptions</span> (File is 1,75GB !!!): this file contains borrower descriptions belonging to the df_loans2 dataset\n",
    "    * description \n",
    "    * description_translated  \n",
    "    * original_language\n"
   ]
  },
  {
   "cell_type": "markdown",
   "metadata": {},
   "source": [
    "## Preprocessing"
   ]
  },
  {
   "cell_type": "code",
   "execution_count": 1,
   "metadata": {},
   "outputs": [],
   "source": [
    "#Importing necessary libraries"
   ]
  },
  {
   "cell_type": "code",
   "execution_count": 2,
   "metadata": {},
   "outputs": [],
   "source": [
    "import pandas as pd\n",
    "import numpy as np\n",
    "import seaborn as sns\n",
    "import matplotlib.pyplot as plt\n",
    "from sklearn.datasets import load_boston\n",
    "from sklearn.model_selection import train_test_split\n",
    "from sklearn.linear_model import LinearRegression\n",
    "from sklearn.feature_selection import RFE\n",
    "from sklearn.linear_model import RidgeCV, LassoCV, Ridge, Lasso\n",
    "color = sns.color_palette()\n",
    "#Suppress unnecessary warnings so presentation looks clean\n",
    "import warnings\n",
    "warnings.filterwarnings(\"ignore\")\n",
    "from datetime import datetime, timezone"
   ]
  },
  {
   "cell_type": "code",
   "execution_count": 3,
   "metadata": {},
   "outputs": [],
   "source": [
    "#Peter\n",
    "df_theme= pd.read_csv(r\"C:\\Users\\peter\\Google Drive\\ThesisMap\\JupyterNotebook\\Datasets\\KivaDataSet\\loan_theme.csv\",index_col=None)\n",
    "df_regloc= pd.read_csv(r\"C:\\Users\\peter\\Google Drive\\ThesisMap\\JupyterNotebook\\Datasets\\KivaDataSet\\kiva_regloc.csv\",index_col=None)"
   ]
  },
  {
   "cell_type": "code",
   "execution_count": 4,
   "metadata": {
    "code_folding": []
   },
   "outputs": [],
   "source": [
    "#Peter\n",
    "df_loans2= pd.read_csv(r\"C:\\Users\\peter\\Documents\\2e master HIR\\Thesis Kiva\\loans.csv\",index_col=None)"
   ]
  },
  {
   "cell_type": "code",
   "execution_count": 5,
   "metadata": {},
   "outputs": [],
   "source": [
    "df_loans= pd.read_csv(r\"C:\\Users\\peter\\Google Drive\\ThesisMap\\JupyterNotebook\\Datasets\\KivaDataSet\\kiva_loans.csv\",index_col=None)"
   ]
  },
  {
   "cell_type": "code",
   "execution_count": 12,
   "metadata": {},
   "outputs": [
    {
     "data": {
      "text/plain": [
       "671205"
      ]
     },
     "execution_count": 12,
     "metadata": {},
     "output_type": "execute_result"
    }
   ],
   "source": [
    "len(df_loans)"
   ]
  },
  {
   "cell_type": "code",
   "execution_count": 13,
   "metadata": {},
   "outputs": [
    {
     "data": {
      "text/plain": [
       "779092"
      ]
     },
     "execution_count": 13,
     "metadata": {},
     "output_type": "execute_result"
    }
   ],
   "source": [
    "len(df_theme)"
   ]
  },
  {
   "cell_type": "code",
   "execution_count": 6,
   "metadata": {},
   "outputs": [],
   "source": [
    "df_theme=df_theme.rename(columns={\"id\": \"primary_key_loan\"})"
   ]
  },
  {
   "cell_type": "markdown",
   "metadata": {},
   "source": [
    "## Data transformation"
   ]
  },
  {
   "cell_type": "markdown",
   "metadata": {},
   "source": [
    "### Data cleaning"
   ]
  },
  {
   "cell_type": "code",
   "execution_count": 7,
   "metadata": {},
   "outputs": [],
   "source": [
    "merge1=df_loans2.copy()"
   ]
  },
  {
   "cell_type": "code",
   "execution_count": 8,
   "metadata": {},
   "outputs": [],
   "source": [
    "merge1.drop(merge1[ merge1['status'] == 'refunded' ].index , inplace=True)\n",
    "merge1.drop(merge1[ merge1['status'] == 'fundRaising' ].index , inplace=True)"
   ]
  },
  {
   "cell_type": "code",
   "execution_count": 9,
   "metadata": {},
   "outputs": [
    {
     "data": {
      "text/plain": [
       "funded     1350340\n",
       "expired      59081\n",
       "Name: status, dtype: int64"
      ]
     },
     "execution_count": 9,
     "metadata": {},
     "output_type": "execute_result"
    }
   ],
   "source": [
    "merge1.status.value_counts()"
   ]
  },
  {
   "cell_type": "code",
   "execution_count": 10,
   "metadata": {},
   "outputs": [],
   "source": [
    "merge1['posted_time'] = pd.to_datetime(merge1['posted_time'])\n",
    "merge1['year'], merge1['month'] = merge1['posted_time'].dt.year, merge1['posted_time'].dt.month"
   ]
  },
  {
   "cell_type": "code",
   "execution_count": 11,
   "metadata": {},
   "outputs": [],
   "source": [
    "# Sample of loans from 2012-2017 and only field_partner loans\n",
    "merge1=merge1[(merge1['year']>=2012) & (merge1['year']<=2017) & (merge1['distribution_model']=='field_partner')]"
   ]
  },
  {
   "cell_type": "code",
   "execution_count": 12,
   "metadata": {},
   "outputs": [
    {
     "data": {
      "text/plain": [
       "1029584"
      ]
     },
     "execution_count": 12,
     "metadata": {},
     "output_type": "execute_result"
    }
   ],
   "source": [
    "len(merge1)"
   ]
  },
  {
   "cell_type": "code",
   "execution_count": 21,
   "metadata": {},
   "outputs": [
    {
     "data": {
      "text/plain": [
       "[Text(0, 0.5, 'Number of observations'),\n",
       " Text(0.5, 0, 'Funded (1) vs Expired (0)')]"
      ]
     },
     "execution_count": 21,
     "metadata": {},
     "output_type": "execute_result"
    },
    {
     "data": {
      "image/png": "[encoded data removed]",
      "text/plain": [
       "<Figure size 432x288 with 1 Axes>"
      ]
     },
     "metadata": {
      "needs_background": "light"
     },
     "output_type": "display_data"
    }
   ],
   "source": [
    "#histogram of target variable \n",
    "hist = sns.countplot(x='status', data=merge1)\n",
    "hist.set(xlabel='Funded (1) vs Expired (0)', ylabel='Number of observations')\n",
    "#hist.figure.savefig(\"status_imbalance.png\", bbox_inches='tight')\n",
    "#hist.set_title('The number of non-predisbursed loans')"
   ]
  },
  {
   "cell_type": "code",
   "execution_count": 13,
   "metadata": {},
   "outputs": [],
   "source": [
    "# create column with english descriptions\n",
    "merge1['description_ENG']=merge1['description_translated'].combine_first(merge1['description'])\n",
    "del merge1['description']\n",
    "del merge1['description_translated']"
   ]
  },
  {
   "cell_type": "code",
   "execution_count": 14,
   "metadata": {
    "scrolled": false
   },
   "outputs": [
    {
     "data": {
      "text/plain": [
       "loan_id                                 0\n",
       "loan_name                           29169\n",
       "original_language                   26278\n",
       "funded_amount                           0\n",
       "loan_amount                             0\n",
       "status                                  0\n",
       "activity_name                           0\n",
       "sector_name                             0\n",
       "loan_use                            26287\n",
       "country_code                            9\n",
       "country_name                            0\n",
       "town_name                           98874\n",
       "currency_policy                         0\n",
       "currency_exchange_coverage_rate     90812\n",
       "currency                                0\n",
       "partner_id                              0\n",
       "posted_time                             0\n",
       "planned_expiration_time              4933\n",
       "disburse_time                           0\n",
       "raised_time                         56591\n",
       "lender_term                             0\n",
       "num_lenders_total                       0\n",
       "num_journal_entries                     0\n",
       "num_bulk_entries                        0\n",
       "tags                               401508\n",
       "borrower_genders                    26278\n",
       "borrower_pictured                   26278\n",
       "repayment_interval                      0\n",
       "distribution_model                      0\n",
       "year                                    0\n",
       "month                                   0\n",
       "description_ENG                     26285\n",
       "dtype: int64"
      ]
     },
     "execution_count": 14,
     "metadata": {},
     "output_type": "execute_result"
    }
   ],
   "source": [
    "merge1.isnull().sum()"
   ]
  },
  {
   "cell_type": "code",
   "execution_count": 15,
   "metadata": {},
   "outputs": [],
   "source": [
    "merge1['planned_expiration_time'] = pd.to_datetime(merge1['planned_expiration_time'])\n",
    "merge1['disburse_time'] = pd.to_datetime(merge1['disburse_time'])\n",
    "merge1['raised_time'] = pd.to_datetime(merge1['raised_time'])\n",
    "merge1['funded_time'] = merge1['raised_time']"
   ]
  },
  {
   "cell_type": "code",
   "execution_count": 13,
   "metadata": {},
   "outputs": [
    {
     "data": {
      "text/plain": [
       "loan_id                                                                       657307\n",
       "loan_name                                                                       Aivy\n",
       "original_language                                                            English\n",
       "funded_amount                                                                    125\n",
       "loan_amount                                                                      125\n",
       "status                                                                        funded\n",
       "activity_name                                                          General Store\n",
       "sector_name                                                                   Retail\n",
       "loan_use                            to buy additional inventories for her sari-sa...\n",
       "country_code                                                                      PH\n",
       "country_name                                                             Philippines\n",
       "town_name                                                       Ozamiz - Ozamiz City\n",
       "currency_policy                                                               shared\n",
       "currency_exchange_coverage_rate                                                  0.1\n",
       "currency                                                                         PHP\n",
       "partner_id                                                                       126\n",
       "posted_time                                                2014-01-15 02:23:45+00:00\n",
       "planned_expiration_time                                2014-02-14 03:30:06.000 +0000\n",
       "disburse_time                                          2013-12-22 08:00:00.000 +0000\n",
       "raised_time                                            2014-01-15 04:48:22.000 +0000\n",
       "lender_term                                                                        7\n",
       "num_lenders_total                                                                  3\n",
       "num_journal_entries                                                                2\n",
       "num_bulk_entries                                                                   1\n",
       "tags                                                                             NaN\n",
       "borrower_genders                                                              female\n",
       "borrower_pictured                                                               true\n",
       "repayment_interval                                                         irregular\n",
       "distribution_model                                                     field_partner\n",
       "year                                                                            2014\n",
       "month                                                                              1\n",
       "description_ENG                    Aivy, 21 years of age, is single and lives in ...\n",
       "Name: 0, dtype: object"
      ]
     },
     "execution_count": 13,
     "metadata": {},
     "output_type": "execute_result"
    }
   ],
   "source": [
    "merge1.iloc[0,:]"
   ]
  },
  {
   "cell_type": "markdown",
   "metadata": {},
   "source": [
    "\n",
    "### Gender reclassified and borrower_count"
   ]
  },
  {
   "cell_type": "code",
   "execution_count": 16,
   "metadata": {},
   "outputs": [],
   "source": [
    "merge1['borrower_count'] = merge1['borrower_genders'].str.split().str.len()\n",
    "merge1['loan_type'] = np.where(merge1['borrower_count']<= 1, 'individual', 'group')"
   ]
  },
  {
   "cell_type": "code",
   "execution_count": 17,
   "metadata": {},
   "outputs": [
    {
     "data": {
      "text/plain": [
       "individual    850036\n",
       "group         179548\n",
       "Name: loan_type, dtype: int64"
      ]
     },
     "execution_count": 17,
     "metadata": {},
     "output_type": "execute_result"
    }
   ],
   "source": [
    "merge1.loan_type.value_counts()"
   ]
  },
  {
   "cell_type": "code",
   "execution_count": 40,
   "metadata": {},
   "outputs": [],
   "source": [
    "merge1_original = merge1.copy()"
   ]
  },
  {
   "cell_type": "code",
   "execution_count": 18,
   "metadata": {},
   "outputs": [],
   "source": [
    "\n",
    "\n",
    "df = merge1[merge1['loan_type'] == 'group'].copy()\n",
    "df = df[df['description_ENG'].notnull()]\n",
    "df['description_ENG_Parsed'] = df['description_ENG']\n",
    "\n",
    "# Convert to lowercase\n",
    "df['description_ENG_Parsed'] = df['description_ENG_Parsed'].str.lower()\n",
    "\n",
    "#tokenize\n",
    "import nltk\n",
    "from nltk.tokenize import word_tokenize\n",
    "df['description_ENG_Parsed'] = df.apply(lambda row: nltk.word_tokenize(row['description_ENG_Parsed']), axis=1)\n",
    "tokenized_list = df['description_ENG_Parsed'].tolist()\n",
    "\n",
    "female_words = ['she',\"she's\",'her','hers','herself']\n",
    "male_words = ['he',\"he's\",'him','his','himself']\n",
    "\n",
    "female_count_list = []\n",
    "male_count_list = []\n",
    "\n",
    "\n",
    "for sentence in tokenized_list:\n",
    "    female_count = 0\n",
    "    male_count = 0\n",
    "    for word in sentence:\n",
    "        if word in male_words:\n",
    "            male_count = male_count + 1\n",
    "        elif word in female_words:\n",
    "            female_count = female_count + 1\n",
    "        else:\n",
    "            continue\n",
    "    male_count_list.append(male_count)\n",
    "    female_count_list.append(female_count)\n",
    "    \n",
    "df['male counter'] = male_count_list\n",
    "df['female counter'] = female_count_list\n",
    "df['gender_reclassified'] = np.where(df['male counter']< df['female counter'], 'female', 'male')\n",
    "\n"
   ]
  },
  {
   "cell_type": "code",
   "execution_count": 19,
   "metadata": {},
   "outputs": [
    {
     "data": {
      "text/plain": [
       "153267"
      ]
     },
     "execution_count": 19,
     "metadata": {},
     "output_type": "execute_result"
    }
   ],
   "source": [
    "len(df)"
   ]
  },
  {
   "cell_type": "code",
   "execution_count": 41,
   "metadata": {},
   "outputs": [],
   "source": [
    "merge1 = pd.merge(merge1, df[['loan_name','description_ENG','male counter','female counter','gender_reclassified']], on=['loan_name','description_ENG'], how='outer')\n",
    "merge1['gender_reclassified']=merge1['gender_reclassified'].combine_first(merge1['borrower_genders'])"
   ]
  },
  {
   "cell_type": "code",
   "execution_count": 31,
   "metadata": {},
   "outputs": [
    {
     "data": {
      "text/plain": [
       "loan_type   gender_reclassified                                                                                                                                                                                                                   \n",
       "group       female                                                                                                                                                                                                                                    128827\n",
       "            female, female                                                                                                                                                                                                                                 1\n",
       "            female, male, female, female, male                                                                                                                                                                                                             1\n",
       "            male                                                                                                                                                                                                                                       24622\n",
       "            male, female, female, female, female, female, female, female, female, female, female, female, female, female, female, female, female, female, female, female, male, female, female, female, male, male, female, female, female, female         1\n",
       "individual  female                                                                                                                                                                                                                                    637185\n",
       "            male                                                                                                                                                                                                                                      212851\n",
       "dtype: int64"
      ]
     },
     "execution_count": 31,
     "metadata": {},
     "output_type": "execute_result"
    }
   ],
   "source": [
    "merge1.groupby(['loan_type', 'gender_reclassified']).size()"
   ]
  },
  {
   "cell_type": "code",
   "execution_count": 35,
   "metadata": {},
   "outputs": [
    {
     "data": {
      "text/plain": [
       "loan_id                                 0\n",
       "loan_name                           29169\n",
       "original_language                   26278\n",
       "funded_amount                           0\n",
       "loan_amount                             0\n",
       "status                                  0\n",
       "activity_name                           0\n",
       "sector_name                             0\n",
       "loan_use                            26287\n",
       "country_code                            9\n",
       "country_name                            0\n",
       "town_name                           98874\n",
       "currency_policy                         0\n",
       "currency_exchange_coverage_rate     90823\n",
       "currency                                0\n",
       "partner_id                              0\n",
       "posted_time                             0\n",
       "planned_expiration_time              4933\n",
       "disburse_time                           0\n",
       "raised_time                         56591\n",
       "lender_term                             0\n",
       "num_lenders_total                       0\n",
       "num_journal_entries                     0\n",
       "num_bulk_entries                        0\n",
       "tags                               401520\n",
       "borrower_genders                    26278\n",
       "borrower_pictured                   26278\n",
       "repayment_interval                      0\n",
       "distribution_model                      0\n",
       "year                                    0\n",
       "month                                   0\n",
       "description_ENG                     26285\n",
       "borrower_count                      26278\n",
       "loan_type                               0\n",
       "male counter                       876317\n",
       "female counter                     876317\n",
       "gender_reclassified                 26278\n",
       "dtype: int64"
      ]
     },
     "execution_count": 35,
     "metadata": {},
     "output_type": "execute_result"
    }
   ],
   "source": [
    "merge1.isnull().sum()"
   ]
  },
  {
   "cell_type": "markdown",
   "metadata": {},
   "source": [
    "## Preprocessing step 2 (for every dataframe)"
   ]
  },
  {
   "cell_type": "markdown",
   "metadata": {},
   "source": [
    "### MERGE 1"
   ]
  },
  {
   "cell_type": "markdown",
   "metadata": {},
   "source": [
    " - Checking missing values/NaN of columns \n",
    " - Check for duplicate values\n",
    " - Check for outliers\n",
    " - Correlation plots"
   ]
  },
  {
   "cell_type": "markdown",
   "metadata": {},
   "source": [
    "#### missing values"
   ]
  },
  {
   "cell_type": "code",
   "execution_count": 61,
   "metadata": {},
   "outputs": [
    {
     "data": {
      "text/plain": [
       "loan_id                                          int64\n",
       "loan_name                                       object\n",
       "original_language                               object\n",
       "funded_amount                                  float64\n",
       "loan_amount                                    float64\n",
       "status                                          object\n",
       "activity_name                                   object\n",
       "sector_name                                     object\n",
       "loan_use                                        object\n",
       "country_code                                    object\n",
       "country_name                                    object\n",
       "town_name                                       object\n",
       "currency_policy                                 object\n",
       "currency_exchange_coverage_rate                float64\n",
       "currency                                        object\n",
       "partner_id                                     float64\n",
       "posted_time                        datetime64[ns, UTC]\n",
       "planned_expiration_time            datetime64[ns, UTC]\n",
       "disburse_time                      datetime64[ns, UTC]\n",
       "raised_time                        datetime64[ns, UTC]\n",
       "lender_term                                    float64\n",
       "num_lenders_total                                int64\n",
       "num_journal_entries                              int64\n",
       "num_bulk_entries                                 int64\n",
       "tags                                            object\n",
       "borrower_genders                                object\n",
       "borrower_pictured                               object\n",
       "repayment_interval                              object\n",
       "distribution_model                              object\n",
       "year                                             int64\n",
       "month                                            int64\n",
       "description_ENG                                 object\n",
       "funded_time                        datetime64[ns, UTC]\n",
       "borrower_count                                 float64\n",
       "loan_type                                       object\n",
       "male counter                                   float64\n",
       "female counter                                 float64\n",
       "gender_reclassified                             object\n",
       "dtype: object"
      ]
     },
     "execution_count": 61,
     "metadata": {},
     "output_type": "execute_result"
    }
   ],
   "source": [
    "merge1.dtypes"
   ]
  },
  {
   "cell_type": "code",
   "execution_count": 62,
   "metadata": {},
   "outputs": [
    {
     "data": {
      "text/plain": [
       "Index(['loan_name', 'original_language', 'loan_use', 'country_code',\n",
       "       'town_name', 'currency_exchange_coverage_rate',\n",
       "       'planned_expiration_time', 'raised_time', 'tags', 'borrower_genders',\n",
       "       'borrower_pictured', 'description_ENG', 'funded_time', 'borrower_count',\n",
       "       'male counter', 'female counter', 'gender_reclassified'],\n",
       "      dtype='object')"
      ]
     },
     "execution_count": 62,
     "metadata": {},
     "output_type": "execute_result"
    }
   ],
   "source": [
    "merge1.columns[merge1.isnull().any()]"
   ]
  },
  {
   "cell_type": "code",
   "execution_count": 63,
   "metadata": {},
   "outputs": [],
   "source": [
    "del merge1['borrower_genders']\n",
    "del merge1['borrower_pictured']\n",
    "del merge1['male counter']\n",
    "del merge1['female counter']\n",
    "del merge1['tags']"
   ]
  },
  {
   "cell_type": "code",
   "execution_count": 64,
   "metadata": {},
   "outputs": [],
   "source": [
    "merge1 = merge1[merge1['gender_reclassified'].notnull()]"
   ]
  },
  {
   "cell_type": "code",
   "execution_count": null,
   "metadata": {},
   "outputs": [],
   "source": []
  },
  {
   "cell_type": "markdown",
   "metadata": {},
   "source": [
    "- original language"
   ]
  },
  {
   "cell_type": "code",
   "execution_count": 65,
   "metadata": {},
   "outputs": [
    {
     "data": {
      "text/plain": [
       "0"
      ]
     },
     "execution_count": 65,
     "metadata": {},
     "output_type": "execute_result"
    }
   ],
   "source": [
    "merge1.original_language.isnull().sum().sum()"
   ]
  },
  {
   "cell_type": "code",
   "execution_count": 66,
   "metadata": {},
   "outputs": [
    {
     "data": {
      "text/plain": [
       "array(['English', 'Spanish', 'Russian', 'French', 'Portuguese'],\n",
       "      dtype=object)"
      ]
     },
     "execution_count": 66,
     "metadata": {},
     "output_type": "execute_result"
    }
   ],
   "source": [
    "merge1.original_language.unique()"
   ]
  },
  {
   "cell_type": "code",
   "execution_count": 68,
   "metadata": {},
   "outputs": [
    {
     "data": {
      "text/plain": [
       "1003488"
      ]
     },
     "execution_count": 68,
     "metadata": {},
     "output_type": "execute_result"
    }
   ],
   "source": [
    "len(merge1)"
   ]
  },
  {
   "cell_type": "markdown",
   "metadata": {},
   "source": [
    "### THEMEREGION"
   ]
  },
  {
   "cell_type": "code",
   "execution_count": 69,
   "metadata": {},
   "outputs": [],
   "source": [
    "df_themeregion = pd.read_csv(r\"C:\\Users\\peter\\Google Drive\\ThesisMap\\JupyterNotebook\\Datasets\\KivaDataSet\\loan_themeRegion.csv\",index_col=None)"
   ]
  },
  {
   "cell_type": "code",
   "execution_count": null,
   "metadata": {},
   "outputs": [],
   "source": []
  },
  {
   "cell_type": "markdown",
   "metadata": {},
   "source": [
    "### REGLOC"
   ]
  },
  {
   "cell_type": "code",
   "execution_count": 70,
   "metadata": {},
   "outputs": [
    {
     "data": {
      "text/plain": [
       "Index(['LocationName', 'ISO', 'country', 'region', 'world_region', 'MPI',\n",
       "       'lat', 'lon'],\n",
       "      dtype='object')"
      ]
     },
     "execution_count": 70,
     "metadata": {},
     "output_type": "execute_result"
    }
   ],
   "source": [
    "df_regloc.columns[df_regloc.isnull().any()]"
   ]
  },
  {
   "cell_type": "code",
   "execution_count": null,
   "metadata": {},
   "outputs": [],
   "source": []
  },
  {
   "cell_type": "code",
   "execution_count": 71,
   "metadata": {},
   "outputs": [
    {
     "data": {
      "text/plain": [
       "2772"
      ]
     },
     "execution_count": 71,
     "metadata": {},
     "output_type": "execute_result"
    }
   ],
   "source": [
    "df_regloc.shape[0]"
   ]
  },
  {
   "cell_type": "code",
   "execution_count": 72,
   "metadata": {},
   "outputs": [
    {
     "data": {
      "text/plain": [
       "'(1000.0, 1000.0)'"
      ]
     },
     "execution_count": 72,
     "metadata": {},
     "output_type": "execute_result"
    }
   ],
   "source": [
    "df_regloc.geo[2771]"
   ]
  },
  {
   "cell_type": "code",
   "execution_count": 73,
   "metadata": {},
   "outputs": [],
   "source": [
    "#Those values are incorrect: longitude must be in between -90 and 90"
   ]
  },
  {
   "cell_type": "code",
   "execution_count": 74,
   "metadata": {},
   "outputs": [],
   "source": [
    "df_regloc = df_regloc[df_regloc.geo != '(1000.0, 1000.0)']"
   ]
  },
  {
   "cell_type": "code",
   "execution_count": null,
   "metadata": {},
   "outputs": [],
   "source": []
  },
  {
   "cell_type": "code",
   "execution_count": null,
   "metadata": {},
   "outputs": [],
   "source": []
  },
  {
   "cell_type": "markdown",
   "metadata": {},
   "source": [
    "## Data transformation"
   ]
  },
  {
   "cell_type": "code",
   "execution_count": 75,
   "metadata": {},
   "outputs": [],
   "source": [
    "df3= pd.read_csv(r\"C:\\Users\\peter\\Documents\\2e master HIR\\Thesis Kiva\\df3.csv\", index_col= None)"
   ]
  },
  {
   "cell_type": "code",
   "execution_count": 76,
   "metadata": {},
   "outputs": [
    {
     "data": {
      "text/plain": [
       "Investing_use     object\n",
       "Feeding_use       object\n",
       "Stock_use         object\n",
       "Providing_use     object\n",
       "Farming_use       object\n",
       "Clothing_use      object\n",
       "dominant_topic    object\n",
       "status            object\n",
       "loan_id            int64\n",
       "dtype: object"
      ]
     },
     "execution_count": 76,
     "metadata": {},
     "output_type": "execute_result"
    }
   ],
   "source": [
    "df3.dtypes"
   ]
  },
  {
   "cell_type": "code",
   "execution_count": 77,
   "metadata": {},
   "outputs": [
    {
     "data": {
      "text/plain": [
       "1003488"
      ]
     },
     "execution_count": 77,
     "metadata": {},
     "output_type": "execute_result"
    }
   ],
   "source": [
    "len(merge1)"
   ]
  },
  {
   "cell_type": "code",
   "execution_count": 78,
   "metadata": {},
   "outputs": [],
   "source": [
    "merge3 = pd.merge(merge1, df3[['dominant_topic','loan_id']], left_on='loan_id', right_on=\"loan_id\", how='inner')"
   ]
  },
  {
   "cell_type": "code",
   "execution_count": 79,
   "metadata": {},
   "outputs": [
    {
     "data": {
      "text/plain": [
       "1003479"
      ]
     },
     "execution_count": 79,
     "metadata": {},
     "output_type": "execute_result"
    }
   ],
   "source": [
    "len(merge3)"
   ]
  },
  {
   "cell_type": "code",
   "execution_count": 80,
   "metadata": {},
   "outputs": [],
   "source": [
    "merge2= merge3.copy()"
   ]
  },
  {
   "cell_type": "code",
   "execution_count": null,
   "metadata": {},
   "outputs": [],
   "source": []
  },
  {
   "cell_type": "code",
   "execution_count": null,
   "metadata": {},
   "outputs": [],
   "source": []
  },
  {
   "cell_type": "code",
   "execution_count": 81,
   "metadata": {},
   "outputs": [
    {
     "data": {
      "text/plain": [
       "loan_id                                0\n",
       "loan_name                           2891\n",
       "original_language                      0\n",
       "funded_amount                          0\n",
       "loan_amount                            0\n",
       "status                                 0\n",
       "activity_name                          0\n",
       "sector_name                            0\n",
       "loan_use                               0\n",
       "country_code                           9\n",
       "country_name                           0\n",
       "town_name                          72595\n",
       "currency_policy                        0\n",
       "currency_exchange_coverage_rate    89176\n",
       "currency                               0\n",
       "partner_id                             0\n",
       "posted_time                            0\n",
       "planned_expiration_time             4841\n",
       "disburse_time                          0\n",
       "raised_time                        56588\n",
       "lender_term                            0\n",
       "num_lenders_total                      0\n",
       "num_journal_entries                    0\n",
       "num_bulk_entries                       0\n",
       "repayment_interval                     0\n",
       "distribution_model                     0\n",
       "year                                   0\n",
       "month                                  0\n",
       "description_ENG                        1\n",
       "funded_time                        56588\n",
       "borrower_count                         0\n",
       "loan_type                              0\n",
       "gender_reclassified                    0\n",
       "dominant_topic                         0\n",
       "dtype: int64"
      ]
     },
     "execution_count": 81,
     "metadata": {},
     "output_type": "execute_result"
    }
   ],
   "source": [
    "merge2.isnull().sum()"
   ]
  },
  {
   "cell_type": "code",
   "execution_count": 82,
   "metadata": {},
   "outputs": [],
   "source": [
    "del merge2['funded_amount']\n",
    "del merge2['country_code']\n",
    "del merge2['lender_term']\n",
    "del merge2['loan_use']\n",
    "del merge2['town_name']\n",
    "del merge2['planned_expiration_time']\n",
    "del merge2['disburse_time']\n",
    "del merge2['raised_time']\n",
    "del merge2['num_lenders_total']"
   ]
  },
  {
   "cell_type": "code",
   "execution_count": null,
   "metadata": {},
   "outputs": [],
   "source": []
  },
  {
   "cell_type": "code",
   "execution_count": null,
   "metadata": {},
   "outputs": [],
   "source": []
  },
  {
   "cell_type": "code",
   "execution_count": 83,
   "metadata": {},
   "outputs": [
    {
     "data": {
      "text/plain": [
       "primary_key_loan      int64\n",
       "Loan Theme ID        object\n",
       "Loan Theme Type      object\n",
       "Partner ID          float64\n",
       "dtype: object"
      ]
     },
     "execution_count": 83,
     "metadata": {},
     "output_type": "execute_result"
    }
   ],
   "source": [
    "df_theme.dtypes"
   ]
  },
  {
   "cell_type": "code",
   "execution_count": 84,
   "metadata": {},
   "outputs": [
    {
     "data": {
      "text/plain": [
       "14813"
      ]
     },
     "execution_count": 84,
     "metadata": {},
     "output_type": "execute_result"
    }
   ],
   "source": [
    "df_theme['Loan Theme Type'].isnull().sum()"
   ]
  },
  {
   "cell_type": "code",
   "execution_count": 85,
   "metadata": {},
   "outputs": [
    {
     "data": {
      "text/plain": [
       "14813"
      ]
     },
     "execution_count": 85,
     "metadata": {},
     "output_type": "execute_result"
    }
   ],
   "source": [
    "df_theme['Loan Theme ID'].isnull().sum()"
   ]
  },
  {
   "cell_type": "code",
   "execution_count": null,
   "metadata": {},
   "outputs": [],
   "source": []
  },
  {
   "cell_type": "code",
   "execution_count": 86,
   "metadata": {},
   "outputs": [
    {
     "data": {
      "text/plain": [
       "779092"
      ]
     },
     "execution_count": 86,
     "metadata": {},
     "output_type": "execute_result"
    }
   ],
   "source": [
    "len(df_theme)"
   ]
  },
  {
   "cell_type": "code",
   "execution_count": 87,
   "metadata": {},
   "outputs": [],
   "source": [
    "merge3 = pd.merge(merge2, df_theme[['primary_key_loan','Loan Theme Type']], left_on='loan_id', right_on=\"primary_key_loan\", how='inner')"
   ]
  },
  {
   "cell_type": "code",
   "execution_count": 88,
   "metadata": {},
   "outputs": [
    {
     "data": {
      "text/plain": [
       "0"
      ]
     },
     "execution_count": 88,
     "metadata": {},
     "output_type": "execute_result"
    }
   ],
   "source": [
    "merge3['Loan Theme Type'].isnull().sum()"
   ]
  },
  {
   "cell_type": "code",
   "execution_count": 89,
   "metadata": {},
   "outputs": [
    {
     "data": {
      "text/html": [
       "<div>\n",
       "<style scoped>\n",
       "    .dataframe tbody tr th:only-of-type {\n",
       "        vertical-align: middle;\n",
       "    }\n",
       "\n",
       "    .dataframe tbody tr th {\n",
       "        vertical-align: top;\n",
       "    }\n",
       "\n",
       "    .dataframe thead th {\n",
       "        text-align: right;\n",
       "    }\n",
       "</style>\n",
       "<table border=\"1\" class=\"dataframe\">\n",
       "  <thead>\n",
       "    <tr style=\"text-align: right;\">\n",
       "      <th></th>\n",
       "      <th>LocationName</th>\n",
       "      <th>ISO</th>\n",
       "      <th>country</th>\n",
       "      <th>region</th>\n",
       "      <th>world_region</th>\n",
       "      <th>MPI</th>\n",
       "      <th>geo</th>\n",
       "      <th>lat</th>\n",
       "      <th>lon</th>\n",
       "    </tr>\n",
       "  </thead>\n",
       "  <tbody>\n",
       "    <tr>\n",
       "      <td>0</td>\n",
       "      <td>Badakhshan, Afghanistan</td>\n",
       "      <td>AFG</td>\n",
       "      <td>Afghanistan</td>\n",
       "      <td>Badakhshan</td>\n",
       "      <td>South Asia</td>\n",
       "      <td>0.387</td>\n",
       "      <td>(36.7347725, 70.81199529999999)</td>\n",
       "      <td>36.734772</td>\n",
       "      <td>70.811995</td>\n",
       "    </tr>\n",
       "    <tr>\n",
       "      <td>1</td>\n",
       "      <td>Badghis, Afghanistan</td>\n",
       "      <td>AFG</td>\n",
       "      <td>Afghanistan</td>\n",
       "      <td>Badghis</td>\n",
       "      <td>South Asia</td>\n",
       "      <td>0.466</td>\n",
       "      <td>(35.1671339, 63.7695384)</td>\n",
       "      <td>35.167134</td>\n",
       "      <td>63.769538</td>\n",
       "    </tr>\n",
       "    <tr>\n",
       "      <td>2</td>\n",
       "      <td>Baghlan, Afghanistan</td>\n",
       "      <td>AFG</td>\n",
       "      <td>Afghanistan</td>\n",
       "      <td>Baghlan</td>\n",
       "      <td>South Asia</td>\n",
       "      <td>0.300</td>\n",
       "      <td>(35.8042947, 69.2877535)</td>\n",
       "      <td>35.804295</td>\n",
       "      <td>69.287754</td>\n",
       "    </tr>\n",
       "    <tr>\n",
       "      <td>3</td>\n",
       "      <td>Balkh, Afghanistan</td>\n",
       "      <td>AFG</td>\n",
       "      <td>Afghanistan</td>\n",
       "      <td>Balkh</td>\n",
       "      <td>South Asia</td>\n",
       "      <td>0.301</td>\n",
       "      <td>(36.7550603, 66.8975372)</td>\n",
       "      <td>36.755060</td>\n",
       "      <td>66.897537</td>\n",
       "    </tr>\n",
       "    <tr>\n",
       "      <td>4</td>\n",
       "      <td>Bamyan, Afghanistan</td>\n",
       "      <td>AFG</td>\n",
       "      <td>Afghanistan</td>\n",
       "      <td>Bamyan</td>\n",
       "      <td>South Asia</td>\n",
       "      <td>0.325</td>\n",
       "      <td>(34.8100067, 67.8212104)</td>\n",
       "      <td>34.810007</td>\n",
       "      <td>67.821210</td>\n",
       "    </tr>\n",
       "  </tbody>\n",
       "</table>\n",
       "</div>"
      ],
      "text/plain": [
       "              LocationName  ISO      country      region world_region    MPI  \\\n",
       "0  Badakhshan, Afghanistan  AFG  Afghanistan  Badakhshan   South Asia  0.387   \n",
       "1     Badghis, Afghanistan  AFG  Afghanistan     Badghis   South Asia  0.466   \n",
       "2     Baghlan, Afghanistan  AFG  Afghanistan     Baghlan   South Asia  0.300   \n",
       "3       Balkh, Afghanistan  AFG  Afghanistan       Balkh   South Asia  0.301   \n",
       "4      Bamyan, Afghanistan  AFG  Afghanistan      Bamyan   South Asia  0.325   \n",
       "\n",
       "                               geo        lat        lon  \n",
       "0  (36.7347725, 70.81199529999999)  36.734772  70.811995  \n",
       "1         (35.1671339, 63.7695384)  35.167134  63.769538  \n",
       "2         (35.8042947, 69.2877535)  35.804295  69.287754  \n",
       "3         (36.7550603, 66.8975372)  36.755060  66.897537  \n",
       "4         (34.8100067, 67.8212104)  34.810007  67.821210  "
      ]
     },
     "execution_count": 89,
     "metadata": {},
     "output_type": "execute_result"
    }
   ],
   "source": [
    "df_regloc.head()"
   ]
  },
  {
   "cell_type": "code",
   "execution_count": 90,
   "metadata": {},
   "outputs": [
    {
     "data": {
      "text/plain": [
       "744217"
      ]
     },
     "execution_count": 90,
     "metadata": {},
     "output_type": "execute_result"
    }
   ],
   "source": [
    "len(merge3)"
   ]
  },
  {
   "cell_type": "code",
   "execution_count": 91,
   "metadata": {},
   "outputs": [
    {
     "data": {
      "text/plain": [
       "LocationName     object\n",
       "ISO              object\n",
       "country          object\n",
       "region           object\n",
       "world_region     object\n",
       "MPI             float64\n",
       "geo              object\n",
       "lat             float64\n",
       "lon             float64\n",
       "dtype: object"
      ]
     },
     "execution_count": 91,
     "metadata": {},
     "output_type": "execute_result"
    }
   ],
   "source": [
    "df_regloc.dtypes"
   ]
  },
  {
   "cell_type": "code",
   "execution_count": 92,
   "metadata": {},
   "outputs": [
    {
     "data": {
      "text/plain": [
       "892"
      ]
     },
     "execution_count": 92,
     "metadata": {},
     "output_type": "execute_result"
    }
   ],
   "source": [
    "len(df_regloc)"
   ]
  },
  {
   "cell_type": "code",
   "execution_count": 93,
   "metadata": {},
   "outputs": [
    {
     "data": {
      "text/plain": [
       "744217"
      ]
     },
     "execution_count": 93,
     "metadata": {},
     "output_type": "execute_result"
    }
   ],
   "source": [
    "len(merge3)"
   ]
  },
  {
   "cell_type": "code",
   "execution_count": 94,
   "metadata": {},
   "outputs": [
    {
     "data": {
      "text/plain": [
       "892"
      ]
     },
     "execution_count": 94,
     "metadata": {},
     "output_type": "execute_result"
    }
   ],
   "source": [
    "len(df_regloc)"
   ]
  },
  {
   "cell_type": "code",
   "execution_count": 95,
   "metadata": {},
   "outputs": [],
   "source": [
    "df_regloc= df_regloc.groupby(['country','world_region'],as_index=False)['MPI'].mean()"
   ]
  },
  {
   "cell_type": "code",
   "execution_count": 96,
   "metadata": {},
   "outputs": [
    {
     "data": {
      "text/html": [
       "<div>\n",
       "<style scoped>\n",
       "    .dataframe tbody tr th:only-of-type {\n",
       "        vertical-align: middle;\n",
       "    }\n",
       "\n",
       "    .dataframe tbody tr th {\n",
       "        vertical-align: top;\n",
       "    }\n",
       "\n",
       "    .dataframe thead th {\n",
       "        text-align: right;\n",
       "    }\n",
       "</style>\n",
       "<table border=\"1\" class=\"dataframe\">\n",
       "  <thead>\n",
       "    <tr style=\"text-align: right;\">\n",
       "      <th></th>\n",
       "      <th>country</th>\n",
       "      <th>world_region</th>\n",
       "      <th>MPI</th>\n",
       "    </tr>\n",
       "  </thead>\n",
       "  <tbody>\n",
       "    <tr>\n",
       "      <td>0</td>\n",
       "      <td>Afghanistan</td>\n",
       "      <td>South Asia</td>\n",
       "      <td>0.309853</td>\n",
       "    </tr>\n",
       "    <tr>\n",
       "      <td>1</td>\n",
       "      <td>Bangladesh</td>\n",
       "      <td>South Asia</td>\n",
       "      <td>0.208286</td>\n",
       "    </tr>\n",
       "    <tr>\n",
       "      <td>2</td>\n",
       "      <td>Belize</td>\n",
       "      <td>Latin America and Caribbean</td>\n",
       "      <td>0.020143</td>\n",
       "    </tr>\n",
       "    <tr>\n",
       "      <td>3</td>\n",
       "      <td>Benin</td>\n",
       "      <td>Sub-Saharan Africa</td>\n",
       "      <td>0.327818</td>\n",
       "    </tr>\n",
       "    <tr>\n",
       "      <td>4</td>\n",
       "      <td>Bhutan</td>\n",
       "      <td>South Asia</td>\n",
       "      <td>0.123474</td>\n",
       "    </tr>\n",
       "  </tbody>\n",
       "</table>\n",
       "</div>"
      ],
      "text/plain": [
       "       country                 world_region       MPI\n",
       "0  Afghanistan                   South Asia  0.309853\n",
       "1   Bangladesh                   South Asia  0.208286\n",
       "2       Belize  Latin America and Caribbean  0.020143\n",
       "3        Benin           Sub-Saharan Africa  0.327818\n",
       "4       Bhutan                   South Asia  0.123474"
      ]
     },
     "execution_count": 96,
     "metadata": {},
     "output_type": "execute_result"
    }
   ],
   "source": [
    "df_regloc.head()"
   ]
  },
  {
   "cell_type": "code",
   "execution_count": 97,
   "metadata": {},
   "outputs": [
    {
     "data": {
      "text/plain": [
       "loan_id                                          int64\n",
       "loan_name                                       object\n",
       "original_language                               object\n",
       "loan_amount                                    float64\n",
       "status                                          object\n",
       "activity_name                                   object\n",
       "sector_name                                     object\n",
       "country_name                                    object\n",
       "currency_policy                                 object\n",
       "currency_exchange_coverage_rate                float64\n",
       "currency                                        object\n",
       "partner_id                                     float64\n",
       "posted_time                        datetime64[ns, UTC]\n",
       "num_journal_entries                              int64\n",
       "num_bulk_entries                                 int64\n",
       "repayment_interval                              object\n",
       "distribution_model                              object\n",
       "year                                             int64\n",
       "month                                            int64\n",
       "description_ENG                                 object\n",
       "funded_time                        datetime64[ns, UTC]\n",
       "borrower_count                                 float64\n",
       "loan_type                                       object\n",
       "gender_reclassified                             object\n",
       "dominant_topic                                  object\n",
       "primary_key_loan                                 int64\n",
       "Loan Theme Type                                 object\n",
       "dtype: object"
      ]
     },
     "execution_count": 97,
     "metadata": {},
     "output_type": "execute_result"
    }
   ],
   "source": [
    "merge3.dtypes"
   ]
  },
  {
   "cell_type": "code",
   "execution_count": 98,
   "metadata": {},
   "outputs": [],
   "source": [
    "merge2 = pd.merge(merge3, df_regloc[['country','world_region','MPI']], left_on='country_name', right_on=\"country\", how='inner')"
   ]
  },
  {
   "cell_type": "code",
   "execution_count": 99,
   "metadata": {},
   "outputs": [
    {
     "data": {
      "text/plain": [
       "614010"
      ]
     },
     "execution_count": 99,
     "metadata": {},
     "output_type": "execute_result"
    }
   ],
   "source": [
    "len(merge2)"
   ]
  },
  {
   "cell_type": "code",
   "execution_count": null,
   "metadata": {},
   "outputs": [],
   "source": []
  },
  {
   "cell_type": "code",
   "execution_count": 100,
   "metadata": {},
   "outputs": [
    {
     "data": {
      "text/plain": [
       "loan_id                                          int64\n",
       "loan_name                                       object\n",
       "original_language                               object\n",
       "loan_amount                                    float64\n",
       "status                                          object\n",
       "activity_name                                   object\n",
       "sector_name                                     object\n",
       "country_name                                    object\n",
       "currency_policy                                 object\n",
       "currency_exchange_coverage_rate                float64\n",
       "currency                                        object\n",
       "partner_id                                     float64\n",
       "posted_time                        datetime64[ns, UTC]\n",
       "num_journal_entries                              int64\n",
       "num_bulk_entries                                 int64\n",
       "repayment_interval                              object\n",
       "distribution_model                              object\n",
       "year                                             int64\n",
       "month                                            int64\n",
       "description_ENG                                 object\n",
       "funded_time                        datetime64[ns, UTC]\n",
       "borrower_count                                 float64\n",
       "loan_type                                       object\n",
       "gender_reclassified                             object\n",
       "dominant_topic                                  object\n",
       "primary_key_loan                                 int64\n",
       "Loan Theme Type                                 object\n",
       "country                                         object\n",
       "world_region                                    object\n",
       "MPI                                            float64\n",
       "dtype: object"
      ]
     },
     "execution_count": 100,
     "metadata": {},
     "output_type": "execute_result"
    }
   ],
   "source": [
    "merge2.dtypes"
   ]
  },
  {
   "cell_type": "code",
   "execution_count": 101,
   "metadata": {},
   "outputs": [],
   "source": [
    "del merge2['primary_key_loan']"
   ]
  },
  {
   "cell_type": "code",
   "execution_count": null,
   "metadata": {},
   "outputs": [],
   "source": []
  },
  {
   "cell_type": "code",
   "execution_count": 102,
   "metadata": {},
   "outputs": [
    {
     "data": {
      "text/plain": [
       "loan_id                                          int64\n",
       "loan_name                                       object\n",
       "original_language                               object\n",
       "loan_amount                                    float64\n",
       "status                                          object\n",
       "activity_name                                   object\n",
       "sector_name                                     object\n",
       "country_name                                    object\n",
       "currency_policy                                 object\n",
       "currency_exchange_coverage_rate                float64\n",
       "currency                                        object\n",
       "partner_id                                     float64\n",
       "posted_time                        datetime64[ns, UTC]\n",
       "num_journal_entries                              int64\n",
       "num_bulk_entries                                 int64\n",
       "repayment_interval                              object\n",
       "distribution_model                              object\n",
       "year                                             int64\n",
       "month                                            int64\n",
       "description_ENG                                 object\n",
       "funded_time                        datetime64[ns, UTC]\n",
       "borrower_count                                 float64\n",
       "loan_type                                       object\n",
       "gender_reclassified                             object\n",
       "dominant_topic                                  object\n",
       "Loan Theme Type                                 object\n",
       "country                                         object\n",
       "world_region                                    object\n",
       "MPI                                            float64\n",
       "dtype: object"
      ]
     },
     "execution_count": 102,
     "metadata": {},
     "output_type": "execute_result"
    }
   ],
   "source": [
    "merge2.dtypes"
   ]
  },
  {
   "cell_type": "code",
   "execution_count": 103,
   "metadata": {},
   "outputs": [],
   "source": [
    "merge2['posted_time'] = pd.to_datetime(merge2['posted_time'])\n",
    "#merge2['month'] = merge2['posted_time'].dt.month"
   ]
  },
  {
   "cell_type": "code",
   "execution_count": 104,
   "metadata": {},
   "outputs": [],
   "source": [
    "del merge2['posted_time']"
   ]
  },
  {
   "cell_type": "code",
   "execution_count": null,
   "metadata": {},
   "outputs": [],
   "source": []
  },
  {
   "cell_type": "code",
   "execution_count": null,
   "metadata": {},
   "outputs": [],
   "source": []
  },
  {
   "cell_type": "code",
   "execution_count": null,
   "metadata": {},
   "outputs": [],
   "source": []
  },
  {
   "cell_type": "code",
   "execution_count": null,
   "metadata": {},
   "outputs": [],
   "source": []
  },
  {
   "cell_type": "code",
   "execution_count": null,
   "metadata": {},
   "outputs": [],
   "source": []
  },
  {
   "cell_type": "code",
   "execution_count": 105,
   "metadata": {},
   "outputs": [],
   "source": [
    "merge1 = merge2.copy()"
   ]
  },
  {
   "cell_type": "code",
   "execution_count": null,
   "metadata": {},
   "outputs": [],
   "source": []
  },
  {
   "cell_type": "code",
   "execution_count": 106,
   "metadata": {},
   "outputs": [
    {
     "data": {
      "text/plain": [
       "loan_id                                0\n",
       "loan_name                           1358\n",
       "original_language                      0\n",
       "loan_amount                            0\n",
       "status                                 0\n",
       "activity_name                          0\n",
       "sector_name                            0\n",
       "country_name                           0\n",
       "currency_policy                        0\n",
       "currency_exchange_coverage_rate    17185\n",
       "currency                               0\n",
       "partner_id                             0\n",
       "num_journal_entries                    0\n",
       "num_bulk_entries                       0\n",
       "repayment_interval                     0\n",
       "distribution_model                     0\n",
       "year                                   0\n",
       "month                                  0\n",
       "description_ENG                        0\n",
       "funded_time                        34969\n",
       "borrower_count                         0\n",
       "loan_type                              0\n",
       "gender_reclassified                    0\n",
       "dominant_topic                         0\n",
       "Loan Theme Type                        0\n",
       "country                                0\n",
       "world_region                           0\n",
       "MPI                                    0\n",
       "dtype: int64"
      ]
     },
     "execution_count": 106,
     "metadata": {},
     "output_type": "execute_result"
    }
   ],
   "source": [
    "merge1.isnull().sum()"
   ]
  },
  {
   "cell_type": "code",
   "execution_count": null,
   "metadata": {},
   "outputs": [],
   "source": []
  },
  {
   "cell_type": "code",
   "execution_count": 107,
   "metadata": {},
   "outputs": [],
   "source": [
    "merge1['country_name']=merge1['country_name'].replace({\"Lao People's Democratic Republic\": \"Lao People\"})"
   ]
  },
  {
   "cell_type": "code",
   "execution_count": 108,
   "metadata": {},
   "outputs": [
    {
     "data": {
      "text/plain": [
       "loan_id                                          int64\n",
       "loan_name                                       object\n",
       "original_language                               object\n",
       "loan_amount                                    float64\n",
       "status                                          object\n",
       "activity_name                                   object\n",
       "sector_name                                     object\n",
       "country_name                                    object\n",
       "currency_policy                                 object\n",
       "currency_exchange_coverage_rate                float64\n",
       "currency                                        object\n",
       "partner_id                                     float64\n",
       "num_journal_entries                              int64\n",
       "num_bulk_entries                                 int64\n",
       "repayment_interval                              object\n",
       "distribution_model                              object\n",
       "year                                             int64\n",
       "month                                            int64\n",
       "description_ENG                                 object\n",
       "funded_time                        datetime64[ns, UTC]\n",
       "borrower_count                                 float64\n",
       "loan_type                                       object\n",
       "gender_reclassified                             object\n",
       "dominant_topic                                  object\n",
       "Loan Theme Type                                 object\n",
       "country                                         object\n",
       "world_region                                    object\n",
       "MPI                                            float64\n",
       "dtype: object"
      ]
     },
     "execution_count": 108,
     "metadata": {},
     "output_type": "execute_result"
    }
   ],
   "source": [
    "merge1.dtypes"
   ]
  },
  {
   "cell_type": "code",
   "execution_count": 109,
   "metadata": {},
   "outputs": [],
   "source": [
    "del merge1['loan_name']\n",
    "del merge1['currency_exchange_coverage_rate']\n",
    "del merge1['num_journal_entries']\n",
    "del merge1['num_bulk_entries']\n",
    "del merge1['currency']\n",
    "del merge1['currency_policy']"
   ]
  },
  {
   "cell_type": "code",
   "execution_count": null,
   "metadata": {},
   "outputs": [],
   "source": []
  },
  {
   "cell_type": "code",
   "execution_count": null,
   "metadata": {},
   "outputs": [],
   "source": []
  },
  {
   "cell_type": "code",
   "execution_count": 110,
   "metadata": {},
   "outputs": [
    {
     "data": {
      "image/png": "[encoded data removed]",
      "text/plain": [
       "<Figure size 432x288 with 1 Axes>"
      ]
     },
     "metadata": {
      "needs_background": "light"
     },
     "output_type": "display_data"
    }
   ],
   "source": [
    "#histogram of target variable \n",
    "hist = sns.countplot(x='status', data=merge1)\n",
    "hist.set(xlabel='Funded (1) vs Expired (0)', ylabel='Number of observations')\n",
    "hist.figure.savefig(\"status_imbalance.png\", bbox_inches='tight')\n",
    "#hist.set_title('The number of non-predisbursed loans')"
   ]
  },
  {
   "cell_type": "markdown",
   "metadata": {},
   "source": [
    "### Resampling"
   ]
  },
  {
   "cell_type": "code",
   "execution_count": 83,
   "metadata": {},
   "outputs": [],
   "source": [
    "from sklearn.utils import resample"
   ]
  },
  {
   "cell_type": "code",
   "execution_count": 84,
   "metadata": {},
   "outputs": [
    {
     "data": {
      "text/plain": [
       "status\n",
       "expired     34969\n",
       "funded     579041\n",
       "dtype: int64"
      ]
     },
     "execution_count": 84,
     "metadata": {},
     "output_type": "execute_result"
    }
   ],
   "source": [
    "merge1.groupby('status').size()"
   ]
  },
  {
   "cell_type": "code",
   "execution_count": null,
   "metadata": {},
   "outputs": [],
   "source": [
    "#histogram of target variable \n",
    "hist = sns.countplot(x='status', data=merge1)\n",
    "hist.set(xlabel='Funded (1) vs Expired (0)', ylabel='Number of observations')\n",
    "hist.figure.savefig(\"status_imbalance.png\", bbox_inches='tight')\n",
    "#hist.set_title('The number of non-predisbursed loans')"
   ]
  },
  {
   "cell_type": "code",
   "execution_count": 85,
   "metadata": {},
   "outputs": [],
   "source": [
    "df_majority = merge1[merge1.status=='funded']\n",
    "df_minority = merge1[merge1.status=='expired']"
   ]
  },
  {
   "cell_type": "code",
   "execution_count": 86,
   "metadata": {},
   "outputs": [
    {
     "data": {
      "text/plain": [
       "34969"
      ]
     },
     "execution_count": 86,
     "metadata": {},
     "output_type": "execute_result"
    }
   ],
   "source": [
    "len(df_minority)"
   ]
  },
  {
   "cell_type": "code",
   "execution_count": 87,
   "metadata": {},
   "outputs": [],
   "source": [
    "from sklearn.utils import resample"
   ]
  },
  {
   "cell_type": "code",
   "execution_count": 89,
   "metadata": {},
   "outputs": [],
   "source": [
    "# Downsample majority class\n",
    "df_majority_downsampled = resample(df_majority, \n",
    "                                 replace=False,    # sample without replacement\n",
    "                                 n_samples=34969,     # to match minority class\n",
    "                                 random_state=42) # reproducible results"
   ]
  },
  {
   "cell_type": "code",
   "execution_count": 90,
   "metadata": {},
   "outputs": [],
   "source": [
    "df_downsampled = pd.concat([df_majority_downsampled, df_minority])"
   ]
  },
  {
   "cell_type": "code",
   "execution_count": 91,
   "metadata": {},
   "outputs": [],
   "source": [
    "merge1 =df_downsampled.copy()"
   ]
  },
  {
   "cell_type": "code",
   "execution_count": null,
   "metadata": {},
   "outputs": [],
   "source": []
  },
  {
   "cell_type": "code",
   "execution_count": 92,
   "metadata": {
    "scrolled": false
   },
   "outputs": [
    {
     "data": {
      "text/plain": [
       "loan_id                  int64\n",
       "original_language       object\n",
       "loan_amount            float64\n",
       "status                  object\n",
       "activity_name           object\n",
       "sector_name             object\n",
       "country_name            object\n",
       "partner_id             float64\n",
       "repayment_interval      object\n",
       "distribution_model      object\n",
       "year                     int64\n",
       "month                    int64\n",
       "description_ENG         object\n",
       "borrower_count         float64\n",
       "loan_type               object\n",
       "gender_reclassified     object\n",
       "dominant_topic          object\n",
       "Loan Theme Type         object\n",
       "country                 object\n",
       "world_region            object\n",
       "MPI                    float64\n",
       "dtype: object"
      ]
     },
     "execution_count": 92,
     "metadata": {},
     "output_type": "execute_result"
    }
   ],
   "source": [
    "merge1.dtypes"
   ]
  },
  {
   "cell_type": "code",
   "execution_count": null,
   "metadata": {},
   "outputs": [],
   "source": []
  },
  {
   "cell_type": "code",
   "execution_count": 93,
   "metadata": {},
   "outputs": [
    {
     "data": {
      "text/plain": [
       "69938"
      ]
     },
     "execution_count": 93,
     "metadata": {},
     "output_type": "execute_result"
    }
   ],
   "source": [
    "len(merge1)"
   ]
  },
  {
   "cell_type": "code",
   "execution_count": 94,
   "metadata": {},
   "outputs": [
    {
     "data": {
      "text/plain": [
       "loan_id                0\n",
       "original_language      0\n",
       "loan_amount            0\n",
       "status                 0\n",
       "activity_name          0\n",
       "sector_name            0\n",
       "country_name           0\n",
       "partner_id             0\n",
       "repayment_interval     0\n",
       "distribution_model     0\n",
       "year                   0\n",
       "month                  0\n",
       "description_ENG        0\n",
       "borrower_count         0\n",
       "loan_type              0\n",
       "gender_reclassified    0\n",
       "dominant_topic         0\n",
       "Loan Theme Type        0\n",
       "country                0\n",
       "world_region           0\n",
       "MPI                    0\n",
       "dtype: int64"
      ]
     },
     "execution_count": 94,
     "metadata": {},
     "output_type": "execute_result"
    }
   ],
   "source": [
    "merge1.isnull().sum()"
   ]
  },
  {
   "cell_type": "code",
   "execution_count": null,
   "metadata": {},
   "outputs": [],
   "source": []
  },
  {
   "cell_type": "code",
   "execution_count": 95,
   "metadata": {},
   "outputs": [],
   "source": [
    "merge_sample = merge1.copy()"
   ]
  },
  {
   "cell_type": "code",
   "execution_count": 96,
   "metadata": {},
   "outputs": [
    {
     "data": {
      "text/plain": [
       "loan_id                  int64\n",
       "original_language       object\n",
       "loan_amount            float64\n",
       "status                  object\n",
       "activity_name           object\n",
       "sector_name             object\n",
       "country_name            object\n",
       "partner_id             float64\n",
       "repayment_interval      object\n",
       "distribution_model      object\n",
       "year                     int64\n",
       "month                    int64\n",
       "description_ENG         object\n",
       "borrower_count         float64\n",
       "loan_type               object\n",
       "gender_reclassified     object\n",
       "dominant_topic          object\n",
       "Loan Theme Type         object\n",
       "country                 object\n",
       "world_region            object\n",
       "MPI                    float64\n",
       "dtype: object"
      ]
     },
     "execution_count": 96,
     "metadata": {},
     "output_type": "execute_result"
    }
   ],
   "source": [
    "merge1.dtypes"
   ]
  },
  {
   "cell_type": "code",
   "execution_count": 97,
   "metadata": {},
   "outputs": [
    {
     "data": {
      "text/html": [
       "<div>\n",
       "<style scoped>\n",
       "    .dataframe tbody tr th:only-of-type {\n",
       "        vertical-align: middle;\n",
       "    }\n",
       "\n",
       "    .dataframe tbody tr th {\n",
       "        vertical-align: top;\n",
       "    }\n",
       "\n",
       "    .dataframe thead th {\n",
       "        text-align: right;\n",
       "    }\n",
       "</style>\n",
       "<table border=\"1\" class=\"dataframe\">\n",
       "  <thead>\n",
       "    <tr style=\"text-align: right;\">\n",
       "      <th></th>\n",
       "      <th>loan_id</th>\n",
       "      <th>loan_amount</th>\n",
       "      <th>partner_id</th>\n",
       "      <th>year</th>\n",
       "      <th>month</th>\n",
       "      <th>borrower_count</th>\n",
       "      <th>MPI</th>\n",
       "    </tr>\n",
       "  </thead>\n",
       "  <tbody>\n",
       "    <tr>\n",
       "      <td>loan_id</td>\n",
       "      <td>1.000000</td>\n",
       "      <td>-0.028917</td>\n",
       "      <td>0.180592</td>\n",
       "      <td>0.965470</td>\n",
       "      <td>0.193233</td>\n",
       "      <td>0.034209</td>\n",
       "      <td>0.060967</td>\n",
       "    </tr>\n",
       "    <tr>\n",
       "      <td>loan_amount</td>\n",
       "      <td>-0.028917</td>\n",
       "      <td>1.000000</td>\n",
       "      <td>0.007559</td>\n",
       "      <td>-0.032174</td>\n",
       "      <td>0.004906</td>\n",
       "      <td>0.457816</td>\n",
       "      <td>0.082086</td>\n",
       "    </tr>\n",
       "    <tr>\n",
       "      <td>partner_id</td>\n",
       "      <td>0.180592</td>\n",
       "      <td>0.007559</td>\n",
       "      <td>1.000000</td>\n",
       "      <td>0.181241</td>\n",
       "      <td>0.017442</td>\n",
       "      <td>0.065519</td>\n",
       "      <td>0.265343</td>\n",
       "    </tr>\n",
       "    <tr>\n",
       "      <td>year</td>\n",
       "      <td>0.965470</td>\n",
       "      <td>-0.032174</td>\n",
       "      <td>0.181241</td>\n",
       "      <td>1.000000</td>\n",
       "      <td>-0.060780</td>\n",
       "      <td>0.051689</td>\n",
       "      <td>0.061866</td>\n",
       "    </tr>\n",
       "    <tr>\n",
       "      <td>month</td>\n",
       "      <td>0.193233</td>\n",
       "      <td>0.004906</td>\n",
       "      <td>0.017442</td>\n",
       "      <td>-0.060780</td>\n",
       "      <td>1.000000</td>\n",
       "      <td>-0.055024</td>\n",
       "      <td>0.001172</td>\n",
       "    </tr>\n",
       "    <tr>\n",
       "      <td>borrower_count</td>\n",
       "      <td>0.034209</td>\n",
       "      <td>0.457816</td>\n",
       "      <td>0.065519</td>\n",
       "      <td>0.051689</td>\n",
       "      <td>-0.055024</td>\n",
       "      <td>1.000000</td>\n",
       "      <td>0.261210</td>\n",
       "    </tr>\n",
       "    <tr>\n",
       "      <td>MPI</td>\n",
       "      <td>0.060967</td>\n",
       "      <td>0.082086</td>\n",
       "      <td>0.265343</td>\n",
       "      <td>0.061866</td>\n",
       "      <td>0.001172</td>\n",
       "      <td>0.261210</td>\n",
       "      <td>1.000000</td>\n",
       "    </tr>\n",
       "  </tbody>\n",
       "</table>\n",
       "</div>"
      ],
      "text/plain": [
       "                 loan_id  loan_amount  partner_id      year     month  \\\n",
       "loan_id         1.000000    -0.028917    0.180592  0.965470  0.193233   \n",
       "loan_amount    -0.028917     1.000000    0.007559 -0.032174  0.004906   \n",
       "partner_id      0.180592     0.007559    1.000000  0.181241  0.017442   \n",
       "year            0.965470    -0.032174    0.181241  1.000000 -0.060780   \n",
       "month           0.193233     0.004906    0.017442 -0.060780  1.000000   \n",
       "borrower_count  0.034209     0.457816    0.065519  0.051689 -0.055024   \n",
       "MPI             0.060967     0.082086    0.265343  0.061866  0.001172   \n",
       "\n",
       "                borrower_count       MPI  \n",
       "loan_id               0.034209  0.060967  \n",
       "loan_amount           0.457816  0.082086  \n",
       "partner_id            0.065519  0.265343  \n",
       "year                  0.051689  0.061866  \n",
       "month                -0.055024  0.001172  \n",
       "borrower_count        1.000000  0.261210  \n",
       "MPI                   0.261210  1.000000  "
      ]
     },
     "execution_count": 97,
     "metadata": {},
     "output_type": "execute_result"
    }
   ],
   "source": [
    "merge1.corr()"
   ]
  },
  {
   "cell_type": "code",
   "execution_count": 98,
   "metadata": {},
   "outputs": [],
   "source": [
    "#No strong correlations"
   ]
  },
  {
   "cell_type": "code",
   "execution_count": 99,
   "metadata": {},
   "outputs": [
    {
     "data": {
      "text/plain": [
       "0.006333333333333333"
      ]
     },
     "execution_count": 99,
     "metadata": {},
     "output_type": "execute_result"
    }
   ],
   "source": [
    "merge1.MPI.min()"
   ]
  },
  {
   "cell_type": "code",
   "execution_count": 100,
   "metadata": {},
   "outputs": [],
   "source": [
    "merge1.MPI = merge1.MPI.round(decimals=2)"
   ]
  },
  {
   "cell_type": "code",
   "execution_count": 101,
   "metadata": {},
   "outputs": [
    {
     "data": {
      "text/plain": [
       "loan_id                  int64\n",
       "original_language       object\n",
       "loan_amount            float64\n",
       "status                  object\n",
       "activity_name           object\n",
       "sector_name             object\n",
       "country_name            object\n",
       "partner_id             float64\n",
       "repayment_interval      object\n",
       "distribution_model      object\n",
       "year                     int64\n",
       "month                    int64\n",
       "description_ENG         object\n",
       "borrower_count         float64\n",
       "loan_type               object\n",
       "gender_reclassified     object\n",
       "dominant_topic          object\n",
       "Loan Theme Type         object\n",
       "country                 object\n",
       "world_region            object\n",
       "MPI                    float64\n",
       "dtype: object"
      ]
     },
     "execution_count": 101,
     "metadata": {},
     "output_type": "execute_result"
    }
   ],
   "source": [
    "merge1.dtypes"
   ]
  },
  {
   "cell_type": "code",
   "execution_count": 102,
   "metadata": {},
   "outputs": [],
   "source": [
    "del merge1['country']"
   ]
  },
  {
   "cell_type": "code",
   "execution_count": 103,
   "metadata": {},
   "outputs": [
    {
     "data": {
      "text/plain": [
       "Stock_use        16233\n",
       "Farming_use      15355\n",
       "Clothing_use     12797\n",
       "Investing_use    10931\n",
       "Feeding_use       9648\n",
       "Providing_use     4974\n",
       "Name: dominant_topic, dtype: int64"
      ]
     },
     "execution_count": 103,
     "metadata": {},
     "output_type": "execute_result"
    }
   ],
   "source": [
    "merge1.dominant_topic.value_counts()"
   ]
  },
  {
   "cell_type": "code",
   "execution_count": 104,
   "metadata": {},
   "outputs": [],
   "source": [
    "#merge1['month']=merge1['month'].astype('category')"
   ]
  },
  {
   "cell_type": "code",
   "execution_count": 105,
   "metadata": {},
   "outputs": [],
   "source": [
    "#merge1.month.value_counts()"
   ]
  },
  {
   "cell_type": "code",
   "execution_count": null,
   "metadata": {},
   "outputs": [],
   "source": []
  },
  {
   "cell_type": "code",
   "execution_count": 106,
   "metadata": {},
   "outputs": [
    {
     "data": {
      "text/plain": [
       "loan_id                  int64\n",
       "original_language       object\n",
       "loan_amount            float64\n",
       "status                  object\n",
       "activity_name           object\n",
       "sector_name             object\n",
       "country_name            object\n",
       "partner_id             float64\n",
       "repayment_interval      object\n",
       "distribution_model      object\n",
       "year                     int64\n",
       "month                    int64\n",
       "description_ENG         object\n",
       "borrower_count         float64\n",
       "loan_type               object\n",
       "gender_reclassified     object\n",
       "dominant_topic          object\n",
       "Loan Theme Type         object\n",
       "world_region            object\n",
       "MPI                    float64\n",
       "dtype: object"
      ]
     },
     "execution_count": 106,
     "metadata": {},
     "output_type": "execute_result"
    }
   ],
   "source": [
    "merge1.dtypes"
   ]
  },
  {
   "cell_type": "code",
   "execution_count": 107,
   "metadata": {},
   "outputs": [],
   "source": [
    "lijst = merge1.partner_id.to_list()"
   ]
  },
  {
   "cell_type": "code",
   "execution_count": 108,
   "metadata": {},
   "outputs": [],
   "source": [
    "setje = set(lijst)"
   ]
  },
  {
   "cell_type": "code",
   "execution_count": 109,
   "metadata": {},
   "outputs": [
    {
     "name": "stdout",
     "output_type": "stream",
     "text": [
      "{9.0, 521.0, 528.0, 533.0, 23.0, 537.0, 538.0, 544.0, 550.0, 551.0, 40.0, 42.0, 44.0, 55.0, 57.0, 61.0, 62.0, 63.0, 65.0, 71.0, 74.0, 78.0, 81.0, 82.0, 93.0, 96.0, 97.0, 98.0, 100.0, 104.0, 105.0, 106.0, 108.0, 111.0, 112.0, 116.0, 117.0, 118.0, 119.0, 120.0, 123.0, 125.0, 126.0, 129.0, 133.0, 136.0, 137.0, 138.0, 139.0, 143.0, 144.0, 145.0, 148.0, 154.0, 156.0, 159.0, 161.0, 162.0, 163.0, 164.0, 166.0, 167.0, 176.0, 177.0, 182.0, 183.0, 184.0, 185.0, 187.0, 188.0, 190.0, 199.0, 201.0, 202.0, 204.0, 205.0, 210.0, 213.0, 215.0, 216.0, 217.0, 218.0, 219.0, 222.0, 225.0, 226.0, 231.0, 243.0, 244.0, 245.0, 246.0, 247.0, 253.0, 257.0, 258.0, 259.0, 260.0, 261.0, 262.0, 263.0, 269.0, 271.0, 273.0, 279.0, 281.0, 282.0, 287.0, 288.0, 290.0, 292.0, 295.0, 296.0, 298.0, 300.0, 302.0, 304.0, 305.0, 310.0, 311.0, 313.0, 317.0, 319.0, 321.0, 322.0, 324.0, 328.0, 329.0, 330.0, 333.0, 337.0, 340.0, 346.0, 351.0, 356.0, 358.0, 359.0, 361.0, 364.0, 365.0, 366.0, 367.0, 369.0, 380.0, 381.0, 384.0, 386.0, 388.0, 389.0, 390.0, 392.0, 393.0, 397.0, 398.0, 406.0, 407.0, 412.0, 415.0, 417.0, 418.0, 422.0, 423.0, 429.0, 432.0, 433.0, 435.0, 436.0, 438.0, 439.0, 440.0, 441.0, 442.0, 443.0, 444.0, 446.0, 448.0, 449.0, 451.0, 452.0, 455.0, 456.0, 457.0, 458.0, 464.0, 465.0, 466.0, 468.0, 469.0, 473.0, 480.0, 483.0, 484.0, 489.0, 493.0, 499.0, 502.0, 504.0, 507.0}\n"
     ]
    }
   ],
   "source": [
    "print(setje)"
   ]
  },
  {
   "cell_type": "code",
   "execution_count": 110,
   "metadata": {},
   "outputs": [],
   "source": [
    "set2= set()"
   ]
  },
  {
   "cell_type": "code",
   "execution_count": 111,
   "metadata": {},
   "outputs": [],
   "source": [
    "for i in setje:\n",
    "    set2.add(int(i))"
   ]
  },
  {
   "cell_type": "code",
   "execution_count": 112,
   "metadata": {},
   "outputs": [
    {
     "name": "stdout",
     "output_type": "stream",
     "text": [
      "{9, 521, 528, 533, 23, 537, 538, 544, 550, 551, 40, 42, 44, 55, 57, 61, 62, 63, 65, 71, 74, 78, 81, 82, 93, 96, 97, 98, 100, 104, 105, 106, 108, 111, 112, 116, 117, 118, 119, 120, 123, 125, 126, 129, 133, 136, 137, 138, 139, 143, 144, 145, 148, 154, 156, 159, 161, 162, 163, 164, 166, 167, 176, 177, 182, 183, 184, 185, 187, 188, 190, 199, 201, 202, 204, 205, 210, 213, 215, 216, 217, 218, 219, 222, 225, 226, 231, 243, 244, 245, 246, 247, 253, 257, 258, 259, 260, 261, 262, 263, 269, 271, 273, 279, 281, 282, 287, 288, 290, 292, 295, 296, 298, 300, 302, 304, 305, 310, 311, 313, 317, 319, 321, 322, 324, 328, 329, 330, 333, 337, 340, 346, 351, 356, 358, 359, 361, 364, 365, 366, 367, 369, 380, 381, 384, 386, 388, 389, 390, 392, 393, 397, 398, 406, 407, 412, 415, 417, 418, 422, 423, 429, 432, 433, 435, 436, 438, 439, 440, 441, 442, 443, 444, 446, 448, 449, 451, 452, 455, 456, 457, 458, 464, 465, 466, 468, 469, 473, 480, 483, 484, 489, 493, 499, 502, 504, 507}\n"
     ]
    }
   ],
   "source": [
    "print(set2)"
   ]
  },
  {
   "cell_type": "code",
   "execution_count": 113,
   "metadata": {},
   "outputs": [],
   "source": [
    "merge1.to_csv(r\"C:\\Users\\peter\\Documents\\2e master HIR\\Thesis Kiva\\merge1_final_corrected.csv\", index=False)"
   ]
  },
  {
   "cell_type": "code",
   "execution_count": 114,
   "metadata": {},
   "outputs": [
    {
     "data": {
      "text/plain": [
       "loan_type   gender_reclassified\n",
       "group       female                  6696\n",
       "            male                    2726\n",
       "individual  female                 38307\n",
       "            male                   22209\n",
       "dtype: int64"
      ]
     },
     "execution_count": 114,
     "metadata": {},
     "output_type": "execute_result"
    }
   ],
   "source": [
    "merge1.groupby(['loan_type', 'gender_reclassified']).size()"
   ]
  },
  {
   "cell_type": "code",
   "execution_count": null,
   "metadata": {},
   "outputs": [],
   "source": []
  },
  {
   "cell_type": "code",
   "execution_count": null,
   "metadata": {},
   "outputs": [],
   "source": []
  },
  {
   "cell_type": "code",
   "execution_count": null,
   "metadata": {},
   "outputs": [],
   "source": []
  },
  {
   "cell_type": "code",
   "execution_count": null,
   "metadata": {},
   "outputs": [],
   "source": []
  },
  {
   "cell_type": "code",
   "execution_count": null,
   "metadata": {},
   "outputs": [],
   "source": []
  },
  {
   "cell_type": "code",
   "execution_count": null,
   "metadata": {},
   "outputs": [],
   "source": []
  },
  {
   "cell_type": "code",
   "execution_count": null,
   "metadata": {},
   "outputs": [],
   "source": []
  },
  {
   "cell_type": "code",
   "execution_count": null,
   "metadata": {},
   "outputs": [],
   "source": []
  },
  {
   "cell_type": "code",
   "execution_count": null,
   "metadata": {},
   "outputs": [],
   "source": []
  },
  {
   "cell_type": "code",
   "execution_count": null,
   "metadata": {},
   "outputs": [],
   "source": []
  },
  {
   "cell_type": "code",
   "execution_count": null,
   "metadata": {},
   "outputs": [],
   "source": []
  },
  {
   "cell_type": "code",
   "execution_count": null,
   "metadata": {},
   "outputs": [],
   "source": []
  },
  {
   "cell_type": "code",
   "execution_count": null,
   "metadata": {},
   "outputs": [],
   "source": []
  }
 ],
 "metadata": {
  "hide_input": false,
  "kernelspec": {
   "display_name": "Python 3",
   "language": "python",
   "name": "python3"
  },
  "language_info": {
   "codemirror_mode": {
    "name": "ipython",
    "version": 3
   },
   "file_extension": ".py",
   "mimetype": "text/x-python",
   "name": "python",
   "nbconvert_exporter": "python",
   "pygments_lexer": "ipython3",
   "version": "3.7.4"
  },
  "toc": {
   "base_numbering": 1,
   "nav_menu": {},
   "number_sections": true,
   "sideBar": false,
   "skip_h1_title": false,
   "title_cell": "Table of Contents",
   "title_sidebar": "Contents",
   "toc_cell": true,
   "toc_position": {
    "height": "47.3167px",
    "left": "300px",
    "top": "110.533px",
    "width": "270.383px"
   },
   "toc_section_display": true,
   "toc_window_display": true
  },
  "varInspector": {
   "cols": {
    "lenName": 16,
    "lenType": 16,
    "lenVar": 40
   },
   "kernels_config": {
    "python": {
     "delete_cmd_postfix": "",
     "delete_cmd_prefix": "del ",
     "library": "var_list.py",
     "varRefreshCmd": "print(var_dic_list())"
    },
    "r": {
     "delete_cmd_postfix": ") ",
     "delete_cmd_prefix": "rm(",
     "library": "var_list.r",
     "varRefreshCmd": "cat(var_dic_list()) "
    }
   },
   "types_to_exclude": [
    "module",
    "function",
    "builtin_function_or_method",
    "instance",
    "_Feature"
   ],
   "window_display": false
  }
 },
 "nbformat": 4,
 "nbformat_minor": 2
}
