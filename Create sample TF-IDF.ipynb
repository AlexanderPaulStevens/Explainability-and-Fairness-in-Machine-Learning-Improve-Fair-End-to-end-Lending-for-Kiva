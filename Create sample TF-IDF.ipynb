{
 "cells": [
  {
   "cell_type": "markdown",
   "metadata": {},
   "source": [
    "# Sample NLP model"
   ]
  },
  {
   "cell_type": "markdown",
   "metadata": {},
   "source": [
    "- Important insight: The dataframe 'df_loans2' is probably extracted in January 2018 so there are 3608 loans with the status = 'fundRaising'. These loans have a posted time which is less than 30 days so we can't say if these loans will be fully funded or expire. Better to remove this category and only work with the categories 'funded' and 'expired'.\n",
    "- create a sample with 2 bins based on \"status\" column:\n",
    "    - bin 1: funded \n",
    "    - bin 2: expired\n",
    "- A text classifier can be used to determine which words are the most important for each bin."
   ]
  },
  {
   "cell_type": "code",
   "execution_count": null,
   "metadata": {},
   "outputs": [],
   "source": [
    "# https://towardsdatascience.com/text-classification-in-python-dd95d264c802"
   ]
  },
  {
   "cell_type": "code",
   "execution_count": 1,
   "metadata": {},
   "outputs": [],
   "source": [
    "import numpy as np\n",
    "import pandas as pd\n",
    "import seaborn as sns\n",
    "import matplotlib.pyplot as plt\n",
    "from scipy import stats"
   ]
  },
  {
   "cell_type": "code",
   "execution_count": 2,
   "metadata": {},
   "outputs": [],
   "source": [
    "df_loans_complete= pd.read_csv(r\"C:\\Users\\peter\\Documents\\2e master HIR\\Thesis Kiva\\loans.csv\",index_col=None)"
   ]
  },
  {
   "cell_type": "code",
   "execution_count": 3,
   "metadata": {},
   "outputs": [],
   "source": [
    "pd.options.display.max_colwidth = 100"
   ]
  },
  {
   "cell_type": "code",
   "execution_count": 4,
   "metadata": {
    "scrolled": false
   },
   "outputs": [
    {
     "data": {
      "text/plain": [
       "loan_id                              int64\n",
       "loan_name                           object\n",
       "original_language                   object\n",
       "description                         object\n",
       "description_translated              object\n",
       "funded_amount                      float64\n",
       "loan_amount                        float64\n",
       "status                              object\n",
       "activity_name                       object\n",
       "sector_name                         object\n",
       "loan_use                            object\n",
       "country_code                        object\n",
       "country_name                        object\n",
       "town_name                           object\n",
       "currency_policy                     object\n",
       "currency_exchange_coverage_rate    float64\n",
       "currency                            object\n",
       "partner_id                         float64\n",
       "posted_time                         object\n",
       "planned_expiration_time             object\n",
       "disburse_time                       object\n",
       "raised_time                         object\n",
       "lender_term                        float64\n",
       "num_lenders_total                    int64\n",
       "num_journal_entries                  int64\n",
       "num_bulk_entries                     int64\n",
       "tags                                object\n",
       "borrower_genders                    object\n",
       "borrower_pictured                   object\n",
       "repayment_interval                  object\n",
       "distribution_model                  object\n",
       "dtype: object"
      ]
     },
     "execution_count": 4,
     "metadata": {},
     "output_type": "execute_result"
    }
   ],
   "source": [
    "df_loans_complete.dtypes"
   ]
  },
  {
   "cell_type": "markdown",
   "metadata": {},
   "source": [
    "- Make two dataframes: one for the funded loans and one for the expired loans\n",
    "- Create the variable description_ENG by replacing the descriptions in a foreign language by their translations"
   ]
  },
  {
   "cell_type": "code",
   "execution_count": 5,
   "metadata": {},
   "outputs": [
    {
     "name": "stdout",
     "output_type": "stream",
     "text": [
      "Number of loans which are funded:\n",
      "1350340\n",
      "Number of loans which are expired:\n",
      "59081\n"
     ]
    }
   ],
   "source": [
    "df_funded=df_loans_complete[['loan_id','loan_name','distribution_model','posted_time','description','description_translated','funded_amount','loan_amount','borrower_genders','status']][df_loans_complete[\"status\"]=='funded']\n",
    "\n",
    "df_expired=df_loans_complete[['loan_id','loan_name','distribution_model','posted_time','description','description_translated','funded_amount','loan_amount','borrower_genders','status']][df_loans_complete[\"status\"]=='expired']\n",
    "\n",
    "print('Number of loans which are funded:')\n",
    "print(len(df_funded))\n",
    "print('Number of loans which are expired:')\n",
    "print(len(df_expired))"
   ]
  },
  {
   "cell_type": "code",
   "execution_count": 6,
   "metadata": {},
   "outputs": [
    {
     "name": "stdout",
     "output_type": "stream",
     "text": [
      "Number of descriptions with NaNs which are removed (funded):\n",
      "36695\n"
     ]
    }
   ],
   "source": [
    "# create column with english descriptions\n",
    "df_funded['description_ENG']=df_funded['description_translated'].combine_first(df_funded['description'])\n",
    "print('Number of descriptions with NaNs which are removed (funded):')\n",
    "print(df_funded['description_ENG'].isna().sum())\n",
    "df_funded = df_funded[df_funded['description_ENG'].notna()]\n"
   ]
  },
  {
   "cell_type": "code",
   "execution_count": 7,
   "metadata": {},
   "outputs": [
    {
     "name": "stdout",
     "output_type": "stream",
     "text": [
      "Number of descriptions with NaNs which are removed (expired):\n",
      "12\n"
     ]
    }
   ],
   "source": [
    "# create column with english descriptions\n",
    "df_expired['description_ENG']=df_expired['description_translated'].combine_first(df_expired['description'])\n",
    "print('Number of descriptions with NaNs which are removed (expired):')\n",
    "print(df_expired['description_ENG'].isna().sum())\n",
    "df_expired = df_expired[df_expired['description_ENG'].notna()]"
   ]
  },
  {
   "cell_type": "code",
   "execution_count": 8,
   "metadata": {},
   "outputs": [],
   "source": [
    "df_funded['posted_time'] = pd.to_datetime(df_funded['posted_time'])\n",
    "\n",
    "df_funded['year'], df_funded['month'] = df_funded['posted_time'].dt.year, df_funded['posted_time'].dt.month"
   ]
  },
  {
   "cell_type": "code",
   "execution_count": 9,
   "metadata": {},
   "outputs": [],
   "source": [
    "df_expired['posted_time'] = pd.to_datetime(df_expired['posted_time'])\n",
    "\n",
    "df_expired['year'], df_expired['month'] = df_expired['posted_time'].dt.year, df_expired['posted_time'].dt.month"
   ]
  },
  {
   "cell_type": "code",
   "execution_count": 10,
   "metadata": {},
   "outputs": [],
   "source": [
    "df_funded[['loan_id','loan_name','posted_time','description_ENG','distribution_model','month','year','loan_amount','funded_amount','borrower_genders','status']].to_csv(r\"C:\\Users\\peter\\Documents\\2e master HIR\\Thesis Kiva\\df_funded2.csv\", index=False)\n",
    "df_expired[['loan_id','loan_name','posted_time','description_ENG','distribution_model','month','year','loan_amount','funded_amount','borrower_genders','status']].to_csv(r\"C:\\Users\\peter\\Documents\\2e master HIR\\Thesis Kiva\\df_expired2.csv\", index=False)"
   ]
  },
  {
   "cell_type": "code",
   "execution_count": 11,
   "metadata": {},
   "outputs": [],
   "source": [
    "#df_funded= pd.read_csv(r\"C:\\Users\\peter\\Documents\\2e master HIR\\Thesis Kiva\\df_funded2.csv\",index_col=None)\n",
    "#df_expired= pd.read_csv(r\"C:\\Users\\peter\\Documents\\2e master HIR\\Thesis Kiva\\df_expired2.csv\",index_col=None)"
   ]
  },
  {
   "cell_type": "markdown",
   "metadata": {},
   "source": [
    "Check number of loans which have direct distribution model for each dataset."
   ]
  },
  {
   "cell_type": "code",
   "execution_count": 12,
   "metadata": {},
   "outputs": [
    {
     "data": {
      "text/plain": [
       "field_partner    1299633\n",
       "direct             14012\n",
       "Name: distribution_model, dtype: int64"
      ]
     },
     "execution_count": 12,
     "metadata": {},
     "output_type": "execute_result"
    }
   ],
   "source": [
    "df_funded['distribution_model'].value_counts()"
   ]
  },
  {
   "cell_type": "markdown",
   "metadata": {},
   "source": [
    "   - Remove the years 2011 & 2018 and the direct loans\n",
    "   - Randomly sample 10 000 loans from the expired dataset and 10 000 loans from the funded dataset\n",
    "   - We did not just lower the majority class because this sample would require too much computational time."
   ]
  },
  {
   "cell_type": "code",
   "execution_count": 13,
   "metadata": {},
   "outputs": [],
   "source": [
    "df_funded_field_12_17=df_funded[(df_funded['year']>=2012) & (df_funded['year']<=2017) & (df_funded['distribution_model']=='field_partner')]\n",
    "df_expired_field_12_17=df_expired[(df_expired['year']>=2012) & (df_expired['year']<=2017) & (df_expired['distribution_model']=='field_partner')]\n",
    "df_funded_direct_12_17=df_funded[(df_funded['year']>=2012) & (df_funded['year']<=2017) & (df_funded['distribution_model']=='direct')]\n",
    "df_expired_direct_12_17=df_expired[(df_expired['year']>=2012) & (df_expired['year']<=2017) & (df_expired['distribution_model']=='direct')]"
   ]
  },
  {
   "cell_type": "code",
   "execution_count": 14,
   "metadata": {
    "scrolled": true
   },
   "outputs": [
    {
     "name": "stdout",
     "output_type": "stream",
     "text": [
      "Random under-sampling:\n",
      "expired    10000\n",
      "funded     10000\n",
      "Name: status, dtype: int64\n"
     ]
    }
   ],
   "source": [
    "count=10000\n",
    "df_expired_field_12_17_sample = df_expired_field_12_17.sample(count)\n",
    "df_funded_field_12_17_sample = df_funded_field_12_17.sample(count)\n",
    "\n",
    "df_loans_complete_under_sampled = pd.concat([df_expired_field_12_17_sample,\n",
    "                                   df_funded_field_12_17_sample], axis=0)\n",
    "\n",
    "print('Random under-sampling:')\n",
    "print(df_loans_complete_under_sampled.status.value_counts())\n"
   ]
  },
  {
   "cell_type": "markdown",
   "metadata": {},
   "source": [
    "   - Create the feature gender_reclassified by reducing the lists of genders of the original feature borrower genders to one gender.\n",
    "   - For this purpose, the feature values for the individual loans remained the same, whereas the gender of the group leader was used for the group loans.\n",
    "   - The group leader was determined by using the descriptions."
   ]
  },
  {
   "cell_type": "code",
   "execution_count": 15,
   "metadata": {},
   "outputs": [],
   "source": [
    "df_loans_complete_under_sampled['borrower_count'] = df_loans_complete_under_sampled['borrower_genders'].str.split().str.len()\n",
    "df_loans_complete_under_sampled['loan_type'] = np.where(df_loans_complete_under_sampled['borrower_count']<= 1, 'individual', 'group')\n",
    "\n",
    "df = df_loans_complete_under_sampled[df_loans_complete_under_sampled['loan_type'] == 'group'].copy()\n",
    "df['description_ENG_Parsed'] = df['description_ENG']\n",
    "\n",
    "# Convert to lowercase\n",
    "df['description_ENG_Parsed'] = df['description_ENG_Parsed'].str.lower()\n",
    "\n",
    "#tokenize\n",
    "import nltk\n",
    "from nltk.tokenize import word_tokenize\n",
    "df['description_ENG_Parsed'] = df.apply(lambda row: nltk.word_tokenize(row['description_ENG_Parsed']), axis=1)\n",
    "tokenized_list = df['description_ENG_Parsed'].tolist()\n",
    "\n",
    "female_words = ['she',\"she's\",'her','hers','herself']\n",
    "male_words = ['he',\"he's\",'him','his','himself']\n",
    "\n",
    "female_count_list = []\n",
    "male_count_list = []\n",
    "\n",
    "\n",
    "for sentence in tokenized_list:\n",
    "    female_count = 0\n",
    "    male_count = 0\n",
    "    for word in sentence:\n",
    "        if word in male_words:\n",
    "            male_count = male_count + 1\n",
    "        elif word in female_words:\n",
    "            female_count = female_count + 1\n",
    "        else:\n",
    "            continue\n",
    "    male_count_list.append(male_count)\n",
    "    female_count_list.append(female_count)\n",
    "    \n",
    "df['male counter'] = male_count_list\n",
    "df['female counter'] = female_count_list\n",
    "df['gender_reclassified'] = np.where(df['male counter']< df['female counter'], 'female', 'male')\n",
    "\n",
    "df_loans_complete_under_sampled = pd.merge(df_loans_complete_under_sampled, df[['loan_name','description_ENG','male counter','female counter','gender_reclassified']], on=['loan_name','description_ENG'], how='outer')\n",
    "df_loans_complete_under_sampled['gender_reclassified']=df_loans_complete_under_sampled['gender_reclassified'].combine_first(df_loans_complete_under_sampled['borrower_genders'])"
   ]
  },
  {
   "cell_type": "code",
   "execution_count": 16,
   "metadata": {},
   "outputs": [
    {
     "data": {
      "text/plain": [
       "6"
      ]
     },
     "execution_count": 16,
     "metadata": {},
     "output_type": "execute_result"
    }
   ],
   "source": [
    "len(df[df['male counter'] == df['female counter']])"
   ]
  },
  {
   "cell_type": "code",
   "execution_count": 17,
   "metadata": {},
   "outputs": [
    {
     "data": {
      "text/plain": [
       "loan_type   gender_reclassified\n",
       "group       female                  2184\n",
       "            male                     670\n",
       "individual  female                 10263\n",
       "            male                    6883\n",
       "dtype: int64"
      ]
     },
     "execution_count": 17,
     "metadata": {},
     "output_type": "execute_result"
    }
   ],
   "source": [
    "df_loans_complete_under_sampled.groupby(['loan_type', 'gender_reclassified']).size()"
   ]
  },
  {
   "cell_type": "code",
   "execution_count": 18,
   "metadata": {},
   "outputs": [
    {
     "data": {
      "text/plain": [
       "female    12447\n",
       "male       7553\n",
       "Name: gender_reclassified, dtype: int64"
      ]
     },
     "execution_count": 18,
     "metadata": {},
     "output_type": "execute_result"
    }
   ],
   "source": [
    "df_loans_complete_under_sampled['gender_reclassified'].value_counts()"
   ]
  },
  {
   "cell_type": "code",
   "execution_count": 19,
   "metadata": {
    "scrolled": true
   },
   "outputs": [
    {
     "data": {
      "text/plain": [
       "loan_id                    0\n",
       "loan_name                 93\n",
       "posted_time                0\n",
       "description_ENG            0\n",
       "distribution_model         0\n",
       "month                      0\n",
       "year                       0\n",
       "loan_amount                0\n",
       "funded_amount              0\n",
       "borrower_genders           0\n",
       "status                     0\n",
       "borrower_count             0\n",
       "loan_type                  0\n",
       "male counter           17146\n",
       "female counter         17146\n",
       "gender_reclassified        0\n",
       "dtype: int64"
      ]
     },
     "execution_count": 19,
     "metadata": {},
     "output_type": "execute_result"
    }
   ],
   "source": [
    "df_loans_complete_under_sampled.isnull().sum()"
   ]
  },
  {
   "cell_type": "code",
   "execution_count": 20,
   "metadata": {},
   "outputs": [],
   "source": [
    "df_loans_complete_under_sampled_subset = df_loans_complete_under_sampled[['loan_id','description_ENG','status','year','month','funded_amount','loan_amount','loan_name','gender_reclassified','borrower_count','loan_type']]"
   ]
  },
  {
   "cell_type": "code",
   "execution_count": 21,
   "metadata": {},
   "outputs": [],
   "source": [
    "df_loans_complete_under_sampled_subset.to_csv(r\"C:\\Users\\peter\\Documents\\2e master HIR\\Thesis Kiva\\sample_tfidf_corrected.csv\", index=False)"
   ]
  },
  {
   "cell_type": "code",
   "execution_count": null,
   "metadata": {},
   "outputs": [],
   "source": []
  }
 ],
 "metadata": {
  "hide_input": false,
  "kernelspec": {
   "display_name": "Python 3",
   "language": "python",
   "name": "python3"
  },
  "language_info": {
   "codemirror_mode": {
    "name": "ipython",
    "version": 3
   },
   "file_extension": ".py",
   "mimetype": "text/x-python",
   "name": "python",
   "nbconvert_exporter": "python",
   "pygments_lexer": "ipython3",
   "version": "3.7.4"
  },
  "toc": {
   "base_numbering": 1,
   "nav_menu": {},
   "number_sections": true,
   "sideBar": true,
   "skip_h1_title": false,
   "title_cell": "Table of Contents",
   "title_sidebar": "Contents",
   "toc_cell": false,
   "toc_position": {},
   "toc_section_display": true,
   "toc_window_display": false
  }
 },
 "nbformat": 4,
 "nbformat_minor": 2
}
